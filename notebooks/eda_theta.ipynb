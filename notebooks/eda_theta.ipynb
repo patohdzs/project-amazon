{
  "cells": [
    {
      "cell_type": "code",
      "execution_count": 1,
      "metadata": {},
      "outputs": [
        {
          "name": "stdout",
          "output_type": "stream",
          "text": [
            "Importing MCMC Module: mcmc_sampling_original.py\n"
          ]
        }
      ],
      "source": [
        "from services.data_service import load_site_data, load_coef_prior_samples\n",
        "from solvers.stan import _theta_reg_data, _prior_hyperparams, _gamma_reg_data\n",
        "import numpy as np"
      ]
    },
    {
      "cell_type": "code",
      "execution_count": 2,
      "metadata": {},
      "outputs": [
        {
          "name": "stdout",
          "output_type": "stream",
          "text": [
            "Data successfully loaded from '/Users/patriciohernandez/Projects/project-amazon/data/hmc/hmc_10SitesModel.csv'\n"
          ]
        }
      ],
      "source": [
        "# Load sites' data\n",
        "(\n",
        "    zbar_2017,\n",
        "    gamma_vals,\n",
        "    z_2017,\n",
        "    forestArea_2017_ha,\n",
        "    theta_vals,\n",
        "    gamma_coe,\n",
        "    theta_coe,\n",
        "    gamma_vcov_array,\n",
        "    theta_vcov_array,\n",
        "    theta_data,\n",
        "    gamma_data,\n",
        ") = load_site_data(\n",
        "    10,\n",
        "    norm_fac=1e11,\n",
        ")"
      ]
    },
    {
      "cell_type": "code",
      "execution_count": 3,
      "metadata": {},
      "outputs": [
        {
          "data": {
            "text/html": [
              "<div>\n",
              "<style scoped>\n",
              "    .dataframe tbody tr th:only-of-type {\n",
              "        vertical-align: middle;\n",
              "    }\n",
              "\n",
              "    .dataframe tbody tr th {\n",
              "        vertical-align: top;\n",
              "    }\n",
              "\n",
              "    .dataframe thead th {\n",
              "        text-align: right;\n",
              "    }\n",
              "</style>\n",
              "<table border=\"1\" class=\"dataframe\">\n",
              "  <thead>\n",
              "    <tr style=\"text-align: right;\">\n",
              "      <th></th>\n",
              "      <th>id</th>\n",
              "      <th>X1</th>\n",
              "      <th>historical_precip</th>\n",
              "      <th>historical_temp</th>\n",
              "      <th>I.historical_temp.2.</th>\n",
              "      <th>lat</th>\n",
              "      <th>I.lat.2.</th>\n",
              "      <th>cattleSlaughter_farmGatePrice_2017</th>\n",
              "      <th>distance</th>\n",
              "      <th>zbar_2017_muni</th>\n",
              "      <th>log_cattleSlaughter_valuePerHa_2017</th>\n",
              "    </tr>\n",
              "  </thead>\n",
              "  <tbody>\n",
              "    <tr>\n",
              "      <th>0</th>\n",
              "      <td>1</td>\n",
              "      <td>1.0</td>\n",
              "      <td>2.095212</td>\n",
              "      <td>0.088626</td>\n",
              "      <td>0.073522</td>\n",
              "      <td>0.503463</td>\n",
              "      <td>0.487875</td>\n",
              "      <td>0.040508</td>\n",
              "      <td>2.321377</td>\n",
              "      <td>4.556219e+05</td>\n",
              "      <td>NaN</td>\n",
              "    </tr>\n",
              "    <tr>\n",
              "      <th>1</th>\n",
              "      <td>5</td>\n",
              "      <td>1.0</td>\n",
              "      <td>2.095212</td>\n",
              "      <td>0.088626</td>\n",
              "      <td>0.073522</td>\n",
              "      <td>0.503463</td>\n",
              "      <td>0.487875</td>\n",
              "      <td>0.040508</td>\n",
              "      <td>2.321377</td>\n",
              "      <td>4.556219e+05</td>\n",
              "      <td>NaN</td>\n",
              "    </tr>\n",
              "    <tr>\n",
              "      <th>2</th>\n",
              "      <td>1</td>\n",
              "      <td>1.0</td>\n",
              "      <td>2.591289</td>\n",
              "      <td>0.712883</td>\n",
              "      <td>0.710237</td>\n",
              "      <td>0.716406</td>\n",
              "      <td>0.709940</td>\n",
              "      <td>-0.335162</td>\n",
              "      <td>1.400975</td>\n",
              "      <td>1.181881e+06</td>\n",
              "      <td>5.621129</td>\n",
              "    </tr>\n",
              "    <tr>\n",
              "      <th>3</th>\n",
              "      <td>2</td>\n",
              "      <td>1.0</td>\n",
              "      <td>2.591289</td>\n",
              "      <td>0.712883</td>\n",
              "      <td>0.710237</td>\n",
              "      <td>0.716406</td>\n",
              "      <td>0.709940</td>\n",
              "      <td>-0.335162</td>\n",
              "      <td>1.400975</td>\n",
              "      <td>1.181881e+06</td>\n",
              "      <td>5.621129</td>\n",
              "    </tr>\n",
              "    <tr>\n",
              "      <th>4</th>\n",
              "      <td>1</td>\n",
              "      <td>1.0</td>\n",
              "      <td>3.194936</td>\n",
              "      <td>0.001980</td>\n",
              "      <td>-0.013873</td>\n",
              "      <td>0.891029</td>\n",
              "      <td>0.893893</td>\n",
              "      <td>0.044990</td>\n",
              "      <td>1.667578</td>\n",
              "      <td>5.606640e+06</td>\n",
              "      <td>NaN</td>\n",
              "    </tr>\n",
              "    <tr>\n",
              "      <th>...</th>\n",
              "      <td>...</td>\n",
              "      <td>...</td>\n",
              "      <td>...</td>\n",
              "      <td>...</td>\n",
              "      <td>...</td>\n",
              "      <td>...</td>\n",
              "      <td>...</td>\n",
              "      <td>...</td>\n",
              "      <td>...</td>\n",
              "      <td>...</td>\n",
              "      <td>...</td>\n",
              "    </tr>\n",
              "    <tr>\n",
              "      <th>684</th>\n",
              "      <td>10</td>\n",
              "      <td>1.0</td>\n",
              "      <td>-1.054217</td>\n",
              "      <td>-2.585480</td>\n",
              "      <td>-2.513731</td>\n",
              "      <td>-1.864649</td>\n",
              "      <td>-1.814553</td>\n",
              "      <td>0.759371</td>\n",
              "      <td>0.153849</td>\n",
              "      <td>2.018173e+05</td>\n",
              "      <td>4.528641</td>\n",
              "    </tr>\n",
              "    <tr>\n",
              "      <th>685</th>\n",
              "      <td>10</td>\n",
              "      <td>1.0</td>\n",
              "      <td>-0.864571</td>\n",
              "      <td>-2.011909</td>\n",
              "      <td>-1.977942</td>\n",
              "      <td>-1.862048</td>\n",
              "      <td>-1.812194</td>\n",
              "      <td>2.504136</td>\n",
              "      <td>-0.710554</td>\n",
              "      <td>1.144672e+05</td>\n",
              "      <td>4.839621</td>\n",
              "    </tr>\n",
              "    <tr>\n",
              "      <th>686</th>\n",
              "      <td>10</td>\n",
              "      <td>1.0</td>\n",
              "      <td>-0.777167</td>\n",
              "      <td>-2.638213</td>\n",
              "      <td>-2.562466</td>\n",
              "      <td>-1.711920</td>\n",
              "      <td>-1.675312</td>\n",
              "      <td>1.662586</td>\n",
              "      <td>-0.282200</td>\n",
              "      <td>1.287097e+06</td>\n",
              "      <td>3.844629</td>\n",
              "    </tr>\n",
              "    <tr>\n",
              "      <th>687</th>\n",
              "      <td>10</td>\n",
              "      <td>1.0</td>\n",
              "      <td>-1.197694</td>\n",
              "      <td>-1.191957</td>\n",
              "      <td>-1.193837</td>\n",
              "      <td>-1.637727</td>\n",
              "      <td>-1.607211</td>\n",
              "      <td>0.674618</td>\n",
              "      <td>0.575946</td>\n",
              "      <td>5.881073e+05</td>\n",
              "      <td>4.531010</td>\n",
              "    </tr>\n",
              "    <tr>\n",
              "      <th>688</th>\n",
              "      <td>10</td>\n",
              "      <td>1.0</td>\n",
              "      <td>-1.205307</td>\n",
              "      <td>-0.086401</td>\n",
              "      <td>-0.102773</td>\n",
              "      <td>-1.539261</td>\n",
              "      <td>-1.516365</td>\n",
              "      <td>-1.941180</td>\n",
              "      <td>0.879240</td>\n",
              "      <td>5.656621e+05</td>\n",
              "      <td>3.247560</td>\n",
              "    </tr>\n",
              "  </tbody>\n",
              "</table>\n",
              "<p>689 rows × 11 columns</p>\n",
              "</div>"
            ],
            "text/plain": [
              "     id   X1  historical_precip  historical_temp  I.historical_temp.2.  \\\n",
              "0     1  1.0           2.095212         0.088626              0.073522   \n",
              "1     5  1.0           2.095212         0.088626              0.073522   \n",
              "2     1  1.0           2.591289         0.712883              0.710237   \n",
              "3     2  1.0           2.591289         0.712883              0.710237   \n",
              "4     1  1.0           3.194936         0.001980             -0.013873   \n",
              "..   ..  ...                ...              ...                   ...   \n",
              "684  10  1.0          -1.054217        -2.585480             -2.513731   \n",
              "685  10  1.0          -0.864571        -2.011909             -1.977942   \n",
              "686  10  1.0          -0.777167        -2.638213             -2.562466   \n",
              "687  10  1.0          -1.197694        -1.191957             -1.193837   \n",
              "688  10  1.0          -1.205307        -0.086401             -0.102773   \n",
              "\n",
              "          lat  I.lat.2.  cattleSlaughter_farmGatePrice_2017  distance  \\\n",
              "0    0.503463  0.487875                            0.040508  2.321377   \n",
              "1    0.503463  0.487875                            0.040508  2.321377   \n",
              "2    0.716406  0.709940                           -0.335162  1.400975   \n",
              "3    0.716406  0.709940                           -0.335162  1.400975   \n",
              "4    0.891029  0.893893                            0.044990  1.667578   \n",
              "..        ...       ...                                 ...       ...   \n",
              "684 -1.864649 -1.814553                            0.759371  0.153849   \n",
              "685 -1.862048 -1.812194                            2.504136 -0.710554   \n",
              "686 -1.711920 -1.675312                            1.662586 -0.282200   \n",
              "687 -1.637727 -1.607211                            0.674618  0.575946   \n",
              "688 -1.539261 -1.516365                           -1.941180  0.879240   \n",
              "\n",
              "     zbar_2017_muni  log_cattleSlaughter_valuePerHa_2017  \n",
              "0      4.556219e+05                                  NaN  \n",
              "1      4.556219e+05                                  NaN  \n",
              "2      1.181881e+06                             5.621129  \n",
              "3      1.181881e+06                             5.621129  \n",
              "4      5.606640e+06                                  NaN  \n",
              "..              ...                                  ...  \n",
              "684    2.018173e+05                             4.528641  \n",
              "685    1.144672e+05                             4.839621  \n",
              "686    1.287097e+06                             3.844629  \n",
              "687    5.881073e+05                             4.531010  \n",
              "688    5.656621e+05                             3.247560  \n",
              "\n",
              "[689 rows x 11 columns]"
            ]
          },
          "execution_count": 3,
          "metadata": {},
          "output_type": "execute_result"
        }
      ],
      "source": [
        "theta_data"
      ]
    },
    {
      "cell_type": "code",
      "execution_count": 4,
      "metadata": {},
      "outputs": [],
      "source": [
        "y, X, N, K, G = _theta_reg_data(10, theta_data)"
      ]
    },
    {
      "cell_type": "code",
      "execution_count": 5,
      "metadata": {},
      "outputs": [
        {
          "data": {
            "text/plain": [
              "595"
            ]
          },
          "execution_count": 5,
          "metadata": {},
          "output_type": "execute_result"
        }
      ],
      "source": [
        "N"
      ]
    },
    {
      "cell_type": "code",
      "execution_count": 9,
      "metadata": {},
      "outputs": [
        {
          "data": {
            "text/plain": [
              "1.4494814682000001"
            ]
          },
          "execution_count": 9,
          "metadata": {},
          "output_type": "execute_result"
        }
      ],
      "source": [
        "theta_vals.mean()"
      ]
    },
    {
      "cell_type": "code",
      "execution_count": 16,
      "metadata": {},
      "outputs": [
        {
          "data": {
            "text/plain": [
              "1.4611138073026302"
            ]
          },
          "execution_count": 16,
          "metadata": {},
          "output_type": "execute_result"
        }
      ],
      "source": [
        "np.exp(y.mean()) / 45"
      ]
    },
    {
      "cell_type": "code",
      "execution_count": 7,
      "metadata": {},
      "outputs": [],
      "source": [
        "I, mu, a, b = _prior_hyperparams(y, X, \"theta\").values()"
      ]
    },
    {
      "cell_type": "code",
      "execution_count": 18,
      "metadata": {},
      "outputs": [
        {
          "data": {
            "text/plain": [
              "0.4747978962724169"
            ]
          },
          "execution_count": 18,
          "metadata": {},
          "output_type": "execute_result"
        }
      ],
      "source": [
        "sigma_sq = b/(a+1)\n",
        "sigma_sq"
      ]
    }
  ],
  "metadata": {
    "kernelspec": {
      "display_name": "venv",
      "language": "python",
      "name": "python3"
    },
    "language_info": {
      "codemirror_mode": {
        "name": "ipython",
        "version": 3
      },
      "file_extension": ".py",
      "mimetype": "text/x-python",
      "name": "python",
      "nbconvert_exporter": "python",
      "pygments_lexer": "ipython3",
      "version": "3.10.9"
    },
    "orig_nbformat": 4
  },
  "nbformat": 4,
  "nbformat_minor": 2
}
