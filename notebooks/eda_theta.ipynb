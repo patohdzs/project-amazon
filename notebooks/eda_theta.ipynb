{
  "cells": [
    {
      "cell_type": "code",
      "execution_count": 1,
      "metadata": {},
      "outputs": [
        {
          "name": "stdout",
          "output_type": "stream",
          "text": [
            "Importing MCMC Module: mcmc_sampling_original.py\n"
          ]
        }
      ],
      "source": [
        "from services.data_service import load_site_data, load_coef_prior_samples\n",
        "from solvers.stan import _theta_reg_data, _prior_hyperparams, _gamma_reg_data\n",
        "import numpy as np"
      ]
    },
    {
      "cell_type": "code",
      "execution_count": 2,
      "metadata": {},
      "outputs": [
        {
          "name": "stdout",
          "output_type": "stream",
          "text": [
            "Data successfully loaded from '/Users/patriciohernandez/Projects/project-amazon/data/hmc/hmc_10SitesModel.csv'\n"
          ]
        }
      ],
      "source": [
        "# Load sites' data\n",
        "(\n",
        "    zbar_2017,\n",
        "    gamma_vals,\n",
        "    z_2017,\n",
        "    forestArea_2017_ha,\n",
        "    theta_vals,\n",
        "    gamma_coe_mean,\n",
        "    theta_coe_mean,\n",
        "    gamma_coe_vcov,\n",
        "    theta_coe_vcov,\n",
        "    theta_data,\n",
        "    gamma_data,\n",
        ") = load_site_data(\n",
        "    10,\n",
        "    norm_fac=1e11,\n",
        ")"
      ]
    },
    {
      "cell_type": "code",
      "execution_count": 3,
      "metadata": {},
      "outputs": [
        {
          "data": {
            "text/html": [
              "<div>\n",
              "<style scoped>\n",
              "    .dataframe tbody tr th:only-of-type {\n",
              "        vertical-align: middle;\n",
              "    }\n",
              "\n",
              "    .dataframe tbody tr th {\n",
              "        vertical-align: top;\n",
              "    }\n",
              "\n",
              "    .dataframe thead th {\n",
              "        text-align: right;\n",
              "    }\n",
              "</style>\n",
              "<table border=\"1\" class=\"dataframe\">\n",
              "  <thead>\n",
              "    <tr style=\"text-align: right;\">\n",
              "      <th></th>\n",
              "      <th>id</th>\n",
              "      <th>X1</th>\n",
              "      <th>historical_precip</th>\n",
              "      <th>historical_temp</th>\n",
              "      <th>I.historical_temp.2.</th>\n",
              "      <th>lat</th>\n",
              "      <th>I.lat.2.</th>\n",
              "      <th>cattleSlaughter_farmGatePrice_2017</th>\n",
              "      <th>distance</th>\n",
              "      <th>zbar_2017_muni</th>\n",
              "      <th>log_cattleSlaughter_valuePerHa_2017</th>\n",
              "    </tr>\n",
              "  </thead>\n",
              "  <tbody>\n",
              "    <tr>\n",
              "      <th>0</th>\n",
              "      <td>1</td>\n",
              "      <td>1.0</td>\n",
              "      <td>2.095212</td>\n",
              "      <td>0.088626</td>\n",
              "      <td>0.073522</td>\n",
              "      <td>0.503463</td>\n",
              "      <td>0.487875</td>\n",
              "      <td>0.040508</td>\n",
              "      <td>2.321377</td>\n",
              "      <td>4.556219e+05</td>\n",
              "      <td>NaN</td>\n",
              "    </tr>\n",
              "    <tr>\n",
              "      <th>1</th>\n",
              "      <td>5</td>\n",
              "      <td>1.0</td>\n",
              "      <td>2.095212</td>\n",
              "      <td>0.088626</td>\n",
              "      <td>0.073522</td>\n",
              "      <td>0.503463</td>\n",
              "      <td>0.487875</td>\n",
              "      <td>0.040508</td>\n",
              "      <td>2.321377</td>\n",
              "      <td>4.556219e+05</td>\n",
              "      <td>NaN</td>\n",
              "    </tr>\n",
              "    <tr>\n",
              "      <th>2</th>\n",
              "      <td>1</td>\n",
              "      <td>1.0</td>\n",
              "      <td>2.591289</td>\n",
              "      <td>0.712883</td>\n",
              "      <td>0.710237</td>\n",
              "      <td>0.716406</td>\n",
              "      <td>0.709940</td>\n",
              "      <td>-0.335162</td>\n",
              "      <td>1.400975</td>\n",
              "      <td>1.181881e+06</td>\n",
              "      <td>5.621129</td>\n",
              "    </tr>\n",
              "    <tr>\n",
              "      <th>3</th>\n",
              "      <td>2</td>\n",
              "      <td>1.0</td>\n",
              "      <td>2.591289</td>\n",
              "      <td>0.712883</td>\n",
              "      <td>0.710237</td>\n",
              "      <td>0.716406</td>\n",
              "      <td>0.709940</td>\n",
              "      <td>-0.335162</td>\n",
              "      <td>1.400975</td>\n",
              "      <td>1.181881e+06</td>\n",
              "      <td>5.621129</td>\n",
              "    </tr>\n",
              "    <tr>\n",
              "      <th>4</th>\n",
              "      <td>1</td>\n",
              "      <td>1.0</td>\n",
              "      <td>3.194936</td>\n",
              "      <td>0.001980</td>\n",
              "      <td>-0.013873</td>\n",
              "      <td>0.891029</td>\n",
              "      <td>0.893893</td>\n",
              "      <td>0.044990</td>\n",
              "      <td>1.667578</td>\n",
              "      <td>5.606640e+06</td>\n",
              "      <td>NaN</td>\n",
              "    </tr>\n",
              "    <tr>\n",
              "      <th>...</th>\n",
              "      <td>...</td>\n",
              "      <td>...</td>\n",
              "      <td>...</td>\n",
              "      <td>...</td>\n",
              "      <td>...</td>\n",
              "      <td>...</td>\n",
              "      <td>...</td>\n",
              "      <td>...</td>\n",
              "      <td>...</td>\n",
              "      <td>...</td>\n",
              "      <td>...</td>\n",
              "    </tr>\n",
              "    <tr>\n",
              "      <th>684</th>\n",
              "      <td>10</td>\n",
              "      <td>1.0</td>\n",
              "      <td>-1.054217</td>\n",
              "      <td>-2.585480</td>\n",
              "      <td>-2.513731</td>\n",
              "      <td>-1.864649</td>\n",
              "      <td>-1.814553</td>\n",
              "      <td>0.759371</td>\n",
              "      <td>0.153849</td>\n",
              "      <td>2.018173e+05</td>\n",
              "      <td>4.528641</td>\n",
              "    </tr>\n",
              "    <tr>\n",
              "      <th>685</th>\n",
              "      <td>10</td>\n",
              "      <td>1.0</td>\n",
              "      <td>-0.864571</td>\n",
              "      <td>-2.011909</td>\n",
              "      <td>-1.977942</td>\n",
              "      <td>-1.862048</td>\n",
              "      <td>-1.812194</td>\n",
              "      <td>2.504136</td>\n",
              "      <td>-0.710554</td>\n",
              "      <td>1.144672e+05</td>\n",
              "      <td>4.839621</td>\n",
              "    </tr>\n",
              "    <tr>\n",
              "      <th>686</th>\n",
              "      <td>10</td>\n",
              "      <td>1.0</td>\n",
              "      <td>-0.777167</td>\n",
              "      <td>-2.638213</td>\n",
              "      <td>-2.562466</td>\n",
              "      <td>-1.711920</td>\n",
              "      <td>-1.675312</td>\n",
              "      <td>1.662586</td>\n",
              "      <td>-0.282200</td>\n",
              "      <td>1.287097e+06</td>\n",
              "      <td>3.844629</td>\n",
              "    </tr>\n",
              "    <tr>\n",
              "      <th>687</th>\n",
              "      <td>10</td>\n",
              "      <td>1.0</td>\n",
              "      <td>-1.197694</td>\n",
              "      <td>-1.191957</td>\n",
              "      <td>-1.193837</td>\n",
              "      <td>-1.637727</td>\n",
              "      <td>-1.607211</td>\n",
              "      <td>0.674618</td>\n",
              "      <td>0.575946</td>\n",
              "      <td>5.881073e+05</td>\n",
              "      <td>4.531010</td>\n",
              "    </tr>\n",
              "    <tr>\n",
              "      <th>688</th>\n",
              "      <td>10</td>\n",
              "      <td>1.0</td>\n",
              "      <td>-1.205307</td>\n",
              "      <td>-0.086401</td>\n",
              "      <td>-0.102773</td>\n",
              "      <td>-1.539261</td>\n",
              "      <td>-1.516365</td>\n",
              "      <td>-1.941180</td>\n",
              "      <td>0.879240</td>\n",
              "      <td>5.656621e+05</td>\n",
              "      <td>3.247560</td>\n",
              "    </tr>\n",
              "  </tbody>\n",
              "</table>\n",
              "<p>689 rows × 11 columns</p>\n",
              "</div>"
            ],
            "text/plain": [
              "     id   X1  historical_precip  historical_temp  I.historical_temp.2.  \\\n",
              "0     1  1.0           2.095212         0.088626              0.073522   \n",
              "1     5  1.0           2.095212         0.088626              0.073522   \n",
              "2     1  1.0           2.591289         0.712883              0.710237   \n",
              "3     2  1.0           2.591289         0.712883              0.710237   \n",
              "4     1  1.0           3.194936         0.001980             -0.013873   \n",
              "..   ..  ...                ...              ...                   ...   \n",
              "684  10  1.0          -1.054217        -2.585480             -2.513731   \n",
              "685  10  1.0          -0.864571        -2.011909             -1.977942   \n",
              "686  10  1.0          -0.777167        -2.638213             -2.562466   \n",
              "687  10  1.0          -1.197694        -1.191957             -1.193837   \n",
              "688  10  1.0          -1.205307        -0.086401             -0.102773   \n",
              "\n",
              "          lat  I.lat.2.  cattleSlaughter_farmGatePrice_2017  distance  \\\n",
              "0    0.503463  0.487875                            0.040508  2.321377   \n",
              "1    0.503463  0.487875                            0.040508  2.321377   \n",
              "2    0.716406  0.709940                           -0.335162  1.400975   \n",
              "3    0.716406  0.709940                           -0.335162  1.400975   \n",
              "4    0.891029  0.893893                            0.044990  1.667578   \n",
              "..        ...       ...                                 ...       ...   \n",
              "684 -1.864649 -1.814553                            0.759371  0.153849   \n",
              "685 -1.862048 -1.812194                            2.504136 -0.710554   \n",
              "686 -1.711920 -1.675312                            1.662586 -0.282200   \n",
              "687 -1.637727 -1.607211                            0.674618  0.575946   \n",
              "688 -1.539261 -1.516365                           -1.941180  0.879240   \n",
              "\n",
              "     zbar_2017_muni  log_cattleSlaughter_valuePerHa_2017  \n",
              "0      4.556219e+05                                  NaN  \n",
              "1      4.556219e+05                                  NaN  \n",
              "2      1.181881e+06                             5.621129  \n",
              "3      1.181881e+06                             5.621129  \n",
              "4      5.606640e+06                                  NaN  \n",
              "..              ...                                  ...  \n",
              "684    2.018173e+05                             4.528641  \n",
              "685    1.144672e+05                             4.839621  \n",
              "686    1.287097e+06                             3.844629  \n",
              "687    5.881073e+05                             4.531010  \n",
              "688    5.656621e+05                             3.247560  \n",
              "\n",
              "[689 rows x 11 columns]"
            ]
          },
          "execution_count": 3,
          "metadata": {},
          "output_type": "execute_result"
        }
      ],
      "source": [
        "theta_data"
      ]
    },
    {
      "cell_type": "code",
      "execution_count": 4,
      "metadata": {},
      "outputs": [],
      "source": [
        "y, X, N, K, G = _theta_reg_data(10, theta_data)"
      ]
    },
    {
      "cell_type": "code",
      "execution_count": 5,
      "metadata": {},
      "outputs": [
        {
          "data": {
            "text/plain": [
              "595"
            ]
          },
          "execution_count": 5,
          "metadata": {},
          "output_type": "execute_result"
        }
      ],
      "source": [
        "N"
      ]
    },
    {
      "cell_type": "code",
      "execution_count": 6,
      "metadata": {},
      "outputs": [
        {
          "data": {
            "text/plain": [
              "1.4494814682000001"
            ]
          },
          "execution_count": 6,
          "metadata": {},
          "output_type": "execute_result"
        }
      ],
      "source": [
        "theta_vals.mean()"
      ]
    },
    {
      "cell_type": "code",
      "execution_count": 7,
      "metadata": {},
      "outputs": [
        {
          "data": {
            "text/plain": [
              "2.0972504336488367"
            ]
          },
          "execution_count": 7,
          "metadata": {},
          "output_type": "execute_result"
        }
      ],
      "source": [
        "np.exp(y).mean() / 45"
      ]
    },
    {
      "cell_type": "code",
      "execution_count": 8,
      "metadata": {},
      "outputs": [],
      "source": [
        "I, mu, a, b = _prior_hyperparams(y, X, \"theta\").values()"
      ]
    },
    {
      "cell_type": "code",
      "execution_count": 14,
      "metadata": {},
      "outputs": [
        {
          "name": "stdout",
          "output_type": "stream",
          "text": [
            "297.5 141.72717203731645\n"
          ]
        }
      ],
      "source": [
        "print(a,b)"
      ]
    },
    {
      "cell_type": "code",
      "execution_count": 9,
      "metadata": {},
      "outputs": [
        {
          "data": {
            "text/plain": [
              "0.4747978962724169"
            ]
          },
          "execution_count": 9,
          "metadata": {},
          "output_type": "execute_result"
        }
      ],
      "source": [
        "sigma_sq = b/(a+1)\n",
        "sigma_sq"
      ]
    },
    {
      "cell_type": "code",
      "execution_count": 10,
      "metadata": {},
      "outputs": [
        {
          "data": {
            "text/plain": [
              "array([[ 8.27139833e-04,  8.21144130e-05,  1.40581266e-03,\n",
              "        -1.39090501e-03, -2.20266601e-03,  2.27135554e-03,\n",
              "        -7.53983671e-06, -3.57759667e-05],\n",
              "       [ 8.21144130e-05,  1.32675067e-03,  1.08105401e-03,\n",
              "        -1.10019365e-03,  2.53072785e-03, -3.10067362e-03,\n",
              "         7.95028730e-05, -1.28797402e-04],\n",
              "       [ 1.40581266e-03,  1.08105401e-03,  2.63551026e+00,\n",
              "        -2.63022063e+00, -4.88952562e-01,  4.77151432e-01,\n",
              "        -5.85916555e-03, -1.13435874e-02],\n",
              "       [-1.39090501e-03, -1.10019365e-03, -2.63022063e+00,\n",
              "         2.62660718e+00,  4.76029363e-01, -4.65400813e-01,\n",
              "         5.85514002e-03,  1.14861659e-02],\n",
              "       [-2.20266601e-03,  2.53072785e-03, -4.88952562e-01,\n",
              "         4.76029363e-01,  1.28890702e+00, -1.28446570e+00,\n",
              "         2.04403854e-03, -8.43539629e-03],\n",
              "       [ 2.27135554e-03, -3.10067362e-03,  4.77151432e-01,\n",
              "        -4.65400813e-01, -1.28446570e+00,  1.28221227e+00,\n",
              "        -1.63461359e-03,  8.69130099e-03],\n",
              "       [-7.53983671e-06,  7.95028730e-05, -5.85916555e-03,\n",
              "         5.85514002e-03,  2.04403854e-03, -1.63461359e-03,\n",
              "         9.80855037e-04,  5.20852047e-05],\n",
              "       [-3.57759667e-05, -1.28797402e-04, -1.13435874e-02,\n",
              "         1.14861659e-02, -8.43539629e-03,  8.69130099e-03,\n",
              "         5.20852047e-05,  1.12423377e-03]])"
            ]
          },
          "execution_count": 10,
          "metadata": {},
          "output_type": "execute_result"
        }
      ],
      "source": [
        "sigma_sq * I"
      ]
    },
    {
      "cell_type": "code",
      "execution_count": 11,
      "metadata": {},
      "outputs": [
        {
          "data": {
            "text/plain": [
              "array([[ 1.79043664e-03,  1.87102904e-04, -1.48954507e-02,\n",
              "         1.52546877e-02,  4.05584286e-03, -3.76701887e-03,\n",
              "        -9.97299922e-05, -4.52171254e-04],\n",
              "       [ 1.87102904e-04,  2.58478267e-03,  1.57691018e-02,\n",
              "        -1.58337216e-02, -7.93730800e-03,  7.12878346e-03,\n",
              "         3.95607669e-04, -2.42256299e-04],\n",
              "       [-1.48954507e-02,  1.57691018e-02,  4.39711383e+00,\n",
              "        -4.43109344e+00, -5.36101206e-01,  5.46802535e-01,\n",
              "         7.81808398e-03, -1.62201990e-02],\n",
              "       [ 1.52546877e-02, -1.58337216e-02, -4.43109344e+00,\n",
              "         4.46762113e+00,  5.46064992e-01, -5.58013862e-01,\n",
              "        -7.86745320e-03,  1.62573827e-02],\n",
              "       [ 4.05584286e-03, -7.93730800e-03, -5.36101206e-01,\n",
              "         5.46064992e-01,  1.48226633e+00, -1.49854999e+00,\n",
              "         2.96771534e-03, -1.90109051e-02],\n",
              "       [-3.76701887e-03,  7.12878346e-03,  5.46802535e-01,\n",
              "        -5.58013862e-01, -1.49854999e+00,  1.51756886e+00,\n",
              "        -2.38160786e-03,  1.93709906e-02],\n",
              "       [-9.97299922e-05,  3.95607669e-04,  7.81808398e-03,\n",
              "        -7.86745320e-03,  2.96771534e-03, -2.38160786e-03,\n",
              "         1.83587815e-03, -1.63379797e-04],\n",
              "       [-4.52171254e-04, -2.42256299e-04, -1.62201990e-02,\n",
              "         1.62573827e-02, -1.90109051e-02,  1.93709906e-02,\n",
              "        -1.63379797e-04,  1.70822610e-03]])"
            ]
          },
          "execution_count": 11,
          "metadata": {},
          "output_type": "execute_result"
        }
      ],
      "source": [
        "theta_coe_vcov"
      ]
    },
    {
      "cell_type": "code",
      "execution_count": 13,
      "metadata": {},
      "outputs": [
        {
          "data": {
            "text/plain": [
              "array([ 4.11870522, -0.02850041,  1.81046664, -1.91772524,  3.58996459,\n",
              "       -3.68196692,  0.47485082, -0.00917657])"
            ]
          },
          "execution_count": 13,
          "metadata": {},
          "output_type": "execute_result"
        }
      ],
      "source": [
        "mu"
      ]
    },
    {
      "cell_type": "code",
      "execution_count": 12,
      "metadata": {},
      "outputs": [
        {
          "data": {
            "text/plain": [
              "array([ 4.02969724, -0.1316433 ,  3.82608647, -3.98272491,  7.07181111,\n",
              "       -7.18249889,  0.48786878, -0.0928385 ])"
            ]
          },
          "execution_count": 12,
          "metadata": {},
          "output_type": "execute_result"
        }
      ],
      "source": [
        "theta_coe_mean"
      ]
    }
  ],
  "metadata": {
    "kernelspec": {
      "display_name": "venv",
      "language": "python",
      "name": "python3"
    },
    "language_info": {
      "codemirror_mode": {
        "name": "ipython",
        "version": 3
      },
      "file_extension": ".py",
      "mimetype": "text/x-python",
      "name": "python",
      "nbconvert_exporter": "python",
      "pygments_lexer": "ipython3",
      "version": "3.10.9"
    },
    "orig_nbformat": 4
  },
  "nbformat": 4,
  "nbformat_minor": 2
}
