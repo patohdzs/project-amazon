{
  "cells": [
    {
      "cell_type": "code",
      "execution_count": 3,
      "metadata": {},
      "outputs": [
        {
          "name": "stdout",
          "output_type": "stream",
          "text": [
            "CSR Matrix:\n",
            "  (0, 0)\t1\n",
            "  (1, 2)\t2\n",
            "  (2, 0)\t3\n",
            "  (2, 2)\t4\n",
            "Data (non-zero values): [1 2 3 4]\n",
            "Indices of non-zero elements in the flattened matrix: [0 2 0 2]\n",
            "Pointers to the start of each row in the indices and data arrays: [0 1 2 4]\n"
          ]
        }
      ],
      "source": [
        "import numpy as np\n",
        "from scipy.sparse import csr_matrix\n",
        "\n",
        "# Create a NumPy dense matrix\n",
        "dense_matrix = np.array([[1, 0, 0], [0, 0, 2], [3, 0, 4]])\n",
        "\n",
        "# Convert the dense matrix to CSR format\n",
        "csr_matrix = csr_matrix(dense_matrix)\n",
        "\n",
        "# Print the CSR matrix\n",
        "print(\"CSR Matrix:\")\n",
        "print(csr_matrix)\n",
        "\n",
        "# Accessing CSR components\n",
        "print(\"Data (non-zero values):\", csr_matrix.data)\n",
        "print(\"Indices of non-zero elements in the flattened matrix:\", csr_matrix.indices)\n",
        "print(\"Pointers to the start of each row in the indices and data arrays:\", csr_matrix.indptr)\n"
      ]
    },
    {
      "cell_type": "code",
      "execution_count": 1,
      "metadata": {},
      "outputs": [
        {
          "name": "stdout",
          "output_type": "stream",
          "text": [
            "Importing MCMC Module: mcmc_sampling_original.py\n"
          ]
        }
      ],
      "source": [
        "# Load sites' data\n",
        "from services.data_service import load_site_data\n",
        "from solvers.stan import _gamma_reg_data, _theta_reg_data\n",
        "\n",
        "def check_sparsity(n):\n",
        "    (\n",
        "        zbar_2017,\n",
        "        gamma_vals,\n",
        "        z_2017,\n",
        "        forestArea_2017_ha,\n",
        "        theta_vals,\n",
        "        gamma_coe,\n",
        "        gamma_coe_sd,\n",
        "        theta_coe,\n",
        "        theta_coe_sd,\n",
        "        gamma_vcov_array,\n",
        "        theta_vcov_array,\n",
        "        site_theta_2017_df,\n",
        "        site_gamma_2017_df,\n",
        "    ) = load_site_data(n, norm_fac=1e9)\n",
        "\n",
        "    num_sites = gamma_vals.size\n",
        "\n",
        "    # Splitting data\n",
        "    X_theta, N_theta, K_theta, G_theta = _theta_reg_data(num_sites, site_theta_2017_df)\n",
        "    X_gamma, N_gamma, K_gamma, G_gamma = _gamma_reg_data(num_sites, site_gamma_2017_df)\n",
        "    print((np.count_nonzero(G_theta) / G_theta.size))\n",
        "    print((np.count_nonzero(G_gamma) / G_gamma.size))"
      ]
    },
    {
      "cell_type": "code",
      "execution_count": 4,
      "metadata": {},
      "outputs": [
        {
          "name": "stdout",
          "output_type": "stream",
          "text": [
            "Data successfully loaded from '/Users/patriciohernandez/Projects/project-amazon/data/hmc/hmc_10SitesModel.csv'\n",
            "0.1\n",
            "0.1\n"
          ]
        }
      ],
      "source": [
        "check_sparsity(10)"
      ]
    },
    {
      "cell_type": "code",
      "execution_count": 5,
      "metadata": {},
      "outputs": [
        {
          "name": "stdout",
          "output_type": "stream",
          "text": [
            "Data successfully loaded from '/Users/patriciohernandez/Projects/project-amazon/data/hmc/hmc_24SitesModel.csv'\n",
            "0.041666666666666664\n",
            "0.041666666666666664\n"
          ]
        }
      ],
      "source": [
        "check_sparsity(24)"
      ]
    },
    {
      "cell_type": "code",
      "execution_count": 7,
      "metadata": {},
      "outputs": [
        {
          "name": "stdout",
          "output_type": "stream",
          "text": [
            "Data successfully loaded from '/Users/patriciohernandez/Projects/project-amazon/data/hmc/hmc_40SitesModel.csv'\n",
            "0.025\n",
            "0.025\n"
          ]
        }
      ],
      "source": [
        "check_sparsity(40)"
      ]
    }
  ],
  "metadata": {
    "kernelspec": {
      "display_name": "venv",
      "language": "python",
      "name": "python3"
    },
    "language_info": {
      "codemirror_mode": {
        "name": "ipython",
        "version": 3
      },
      "file_extension": ".py",
      "mimetype": "text/x-python",
      "name": "python",
      "nbconvert_exporter": "python",
      "pygments_lexer": "ipython3",
      "version": "3.10.9"
    },
    "orig_nbformat": 4
  },
  "nbformat": 4,
  "nbformat_minor": 2
}
