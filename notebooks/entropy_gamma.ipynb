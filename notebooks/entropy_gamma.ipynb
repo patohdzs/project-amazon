{
 "cells": [
  {
   "cell_type": "code",
   "execution_count": 11,
   "metadata": {},
   "outputs": [],
   "source": [
    "import pandas as pd\n",
    "import os\n",
    "import numpy as np\n",
    "import seaborn as sns\n",
    "import matplotlib.pyplot as plt\n",
    "import pickle\n",
    "from scipy.stats import gaussian_kde\n",
    "from scipy.stats import entropy\n",
    "import geopandas as gpd\n",
    "# import matplotlib.pyplot as plt\n",
    "import pandas as pd\n",
    "\n",
    "from matplotlib.backends.backend_pdf import PdfPages\n",
    "import sys\n",
    "sys.path.append('/project/lhansen/HMC_re/project-amazon/')\n",
    "from pysrc.sampling import gibbs_sampling\n",
    "\n",
    "# import pathlib\n",
    "# temp = pathlib.PosixPath\n",
    "# pathlib.PosixPath = pathlib.WindowsPath\n",
    "\n",
    "\n",
    "    \n",
    "site=78\n",
    "\n",
    "\n",
    "\n",
    "base_folder = \"/project/lhansen/HMC_re/project-amazon/output/sampling/gams/78sites/pa_41.11/\"\n",
    "\n",
    "with open(base_folder+'xi_1/pe_5.3/results.pcl', 'rb') as f:\n",
    "    # Load the data from the file\n",
    "    results_adjusted = pickle.load(f)    \n",
    "beta_hmc =results_adjusted[\"final_sample_coe\"][:,:8]\n",
    "v_hmc = results_adjusted[\"V_gamma_sample\"]"
   ]
  },
  {
   "cell_type": "code",
   "execution_count": 12,
   "metadata": {},
   "outputs": [],
   "source": [
    "\n",
    "res = gibbs_sampling(\"gamma\")\n",
    "gamma_mean = res['beta_gamma_mean']\n",
    "gamma_vcov = res['beta_gamma_vcov']\n",
    "beta_ori = np.random.multivariate_normal(gamma_mean,gamma_vcov,size=50000)\n",
    "v_mean = res['V_gamma_mean']\n",
    "v_var   = res['V_gamma_var']\n",
    "v_ori = np.zeros((50000,78))\n",
    "\n",
    "for i in range(78):\n",
    "    v_ori[:,i] = np.random.normal(v_mean[i],np.sqrt(v_var[i]),size=50000)"
   ]
  },
  {
   "cell_type": "code",
   "execution_count": 13,
   "metadata": {},
   "outputs": [],
   "source": [
    "gamma_data = gpd.read_file(\"/project/lhansen/HMC_re/project-amazon/data/calibration/hmc/\"+\"gamma_data_site_78.geojson\")\n",
    "X_fit = gamma_data.iloc[:, 0:6].values  # Columns 1 to 6 as X\n",
    "id_fit = gamma_data.iloc[:, 7].values  # Columns 1 to 6 as X\n",
    "\n",
    "gamma_baseline= np.exp(X_fit @ beta_ori.T + v_ori[:,].T).T\n",
    "gamma_hmc=results_adjusted[\"final_sample\"][:, 78:] "
   ]
  },
  {
   "cell_type": "code",
   "execution_count": null,
   "metadata": {},
   "outputs": [],
   "source": [
    "\n",
    "\n",
    "for i in range(78):\n",
    "    plt.figure(figsize=(12, 6))\n",
    "    sns.kdeplot(gamma_baseline[:, i], label=r'baseline', color='red', fill=True, alpha=0.6,linewidth=4) \n",
    "    sns.kdeplot(gamma_hmc[:, i], label=r'hmc', color='blue', fill=True, alpha=0.6,linewidth=4)  \n",
    "    # sns.kdeplot(gamma_test[:, i], label=r'test', color='blue', fill=True, alpha=0.6,linewidth=4)  \n",
    "    plt.title(r'Density of $\\gamma_'+str(i+1)+'$')\n",
    "    plt.legend()\n",
    "    # plt.savefig('results/compare/gamma'+str(i+1)+'.png')\n",
    "    plt.show()\n"
   ]
  },
  {
   "cell_type": "code",
   "execution_count": 15,
   "metadata": {},
   "outputs": [],
   "source": [
    "mean_values = np.mean(gamma_hmc, axis=0)\n",
    "df_mean = pd.DataFrame(mean_values, index=pd.Index(range(1, len(mean_values) + 1), name=\"Site\"))\n",
    "df_mean.to_csv('mean_post_adj.csv', index=True)"
   ]
  },
  {
   "cell_type": "code",
   "execution_count": 16,
   "metadata": {},
   "outputs": [],
   "source": [
    "sd_hmc=np.sqrt(np.var(gamma_hmc,ddof=0,axis=0))\n",
    "quantiles = np.quantile(gamma_hmc, [0.1, 0.5, 0.9], axis=0).T\n",
    "pd.DataFrame(quantiles).to_csv('quantiles.csv')"
   ]
  },
  {
   "cell_type": "code",
   "execution_count": null,
   "metadata": {},
   "outputs": [],
   "source": []
  },
  {
   "cell_type": "code",
   "execution_count": null,
   "metadata": {},
   "outputs": [],
   "source": []
  },
  {
   "cell_type": "code",
   "execution_count": null,
   "metadata": {},
   "outputs": [],
   "source": [
    "from scipy.stats import gaussian_kde\n",
    "from scipy.stats import entropy\n",
    "kl_divergences_gamma = []\n",
    "\n",
    "for idx in range(site):\n",
    "\n",
    "\n",
    "    \n",
    "    kde_func_unadjusted = gaussian_kde(gamma_baseline[:, idx], bw_method='scott')\n",
    "    kde_func_adjusted = gaussian_kde(gamma_hmc[:, idx], bw_method='scott')\n",
    "\n",
    "    common_grid = np.linspace(min(gamma_baseline[:, idx].min(), gamma_hmc[:, idx].min()), \n",
    "                            max(gamma_baseline[:, idx].max(), gamma_hmc[:, idx].max()), \n",
    "                            1000)\n",
    "    density_unadjusted = kde_func_unadjusted(common_grid)\n",
    "    density_adjusted = kde_func_adjusted(common_grid)\n",
    "    density_unadjusted += 1e-20\n",
    "    density_adjusted += 1e-20\n",
    "    \n",
    "    kl_div = entropy(density_unadjusted, density_adjusted)\n",
    "    print(f'Site {idx+1} KL Divergence: {kl_div}')\n",
    "\n",
    "    kl_divergences_gamma.append({'Site': idx+1, 'KL_Divergence': kl_div})\n",
    "\n",
    "kl_df_gamma = pd.DataFrame(kl_divergences_gamma)\n",
    "\n",
    "# Save the DataFrame to a CSV file\n",
    "kl_df_gamma.to_csv('kl_gamma.csv', index=False)"
   ]
  },
  {
   "cell_type": "code",
   "execution_count": null,
   "metadata": {},
   "outputs": [],
   "source": []
  },
  {
   "cell_type": "code",
   "execution_count": null,
   "metadata": {},
   "outputs": [],
   "source": []
  }
 ],
 "metadata": {
  "kernelspec": {
   "display_name": "hmc",
   "language": "python",
   "name": "python3"
  },
  "language_info": {
   "codemirror_mode": {
    "name": "ipython",
    "version": 3
   },
   "file_extension": ".py",
   "mimetype": "text/x-python",
   "name": "python",
   "nbconvert_exporter": "python",
   "pygments_lexer": "ipython3",
   "version": "3.12.2"
  }
 },
 "nbformat": 4,
 "nbformat_minor": 2
}
