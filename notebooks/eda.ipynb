{
  "cells": [
    {
      "cell_type": "code",
      "execution_count": 8,
      "metadata": {},
      "outputs": [],
      "source": [
        "from services.data_service import load_site_data, load_coef_prior_samples\n",
        "from solvers.stan import _theta_reg_data, _prior_hyperparams, _gamma_reg_data\n",
        "import numpy as np"
      ]
    },
    {
      "cell_type": "code",
      "execution_count": 2,
      "metadata": {},
      "outputs": [
        {
          "name": "stdout",
          "output_type": "stream",
          "text": [
            "Data successfully loaded from '/Users/patriciohernandez/Projects/project-amazon/data/hmc/hmc_10SitesModel.csv'\n"
          ]
        }
      ],
      "source": [
        "# Load sites' data\n",
        "(\n",
        "    zbar_2017,\n",
        "    gamma_vals,\n",
        "    z_2017,\n",
        "    forestArea_2017_ha,\n",
        "    theta_vals,\n",
        "    gamma_coe,\n",
        "    theta_coe,\n",
        "    gamma_vcov_array,\n",
        "    theta_vcov_array,\n",
        "    theta_data,\n",
        "    gamma_data,\n",
        ") = load_site_data(\n",
        "    10,\n",
        "    norm_fac=1e11,\n",
        ")"
      ]
    },
    {
      "cell_type": "code",
      "execution_count": 3,
      "metadata": {},
      "outputs": [
        {
          "data": {
            "text/html": [
              "<div>\n",
              "<style scoped>\n",
              "    .dataframe tbody tr th:only-of-type {\n",
              "        vertical-align: middle;\n",
              "    }\n",
              "\n",
              "    .dataframe tbody tr th {\n",
              "        vertical-align: top;\n",
              "    }\n",
              "\n",
              "    .dataframe thead th {\n",
              "        text-align: right;\n",
              "    }\n",
              "</style>\n",
              "<table border=\"1\" class=\"dataframe\">\n",
              "  <thead>\n",
              "    <tr style=\"text-align: right;\">\n",
              "      <th></th>\n",
              "      <th>id</th>\n",
              "      <th>X1</th>\n",
              "      <th>historical_precip</th>\n",
              "      <th>historical_temp</th>\n",
              "      <th>I.historical_temp.2.</th>\n",
              "      <th>lat</th>\n",
              "      <th>I.lat.2.</th>\n",
              "      <th>cattleSlaughter_farmGatePrice_2017</th>\n",
              "      <th>distance</th>\n",
              "      <th>zbar_2017_muni</th>\n",
              "      <th>log_cattleSlaughter_valuePerHa_2017</th>\n",
              "    </tr>\n",
              "  </thead>\n",
              "  <tbody>\n",
              "    <tr>\n",
              "      <th>0</th>\n",
              "      <td>1</td>\n",
              "      <td>1.0</td>\n",
              "      <td>3.064932</td>\n",
              "      <td>0.808000</td>\n",
              "      <td>0.805915</td>\n",
              "      <td>0.845363</td>\n",
              "      <td>0.840704</td>\n",
              "      <td>-0.398258</td>\n",
              "      <td>1.421911</td>\n",
              "      <td>1.181881e+06</td>\n",
              "      <td>101.890458</td>\n",
              "    </tr>\n",
              "    <tr>\n",
              "      <th>1</th>\n",
              "      <td>2</td>\n",
              "      <td>1.0</td>\n",
              "      <td>3.064932</td>\n",
              "      <td>0.808000</td>\n",
              "      <td>0.805915</td>\n",
              "      <td>0.845363</td>\n",
              "      <td>0.840704</td>\n",
              "      <td>-0.398258</td>\n",
              "      <td>1.421911</td>\n",
              "      <td>1.181881e+06</td>\n",
              "      <td>101.890458</td>\n",
              "    </tr>\n",
              "    <tr>\n",
              "      <th>2</th>\n",
              "      <td>1</td>\n",
              "      <td>1.0</td>\n",
              "      <td>2.156587</td>\n",
              "      <td>0.205267</td>\n",
              "      <td>0.190646</td>\n",
              "      <td>0.341329</td>\n",
              "      <td>0.318339</td>\n",
              "      <td>0.493217</td>\n",
              "      <td>1.728454</td>\n",
              "      <td>7.068398e+06</td>\n",
              "      <td>171.473280</td>\n",
              "    </tr>\n",
              "    <tr>\n",
              "      <th>3</th>\n",
              "      <td>5</td>\n",
              "      <td>1.0</td>\n",
              "      <td>2.156587</td>\n",
              "      <td>0.205267</td>\n",
              "      <td>0.190646</td>\n",
              "      <td>0.341329</td>\n",
              "      <td>0.318339</td>\n",
              "      <td>0.493217</td>\n",
              "      <td>1.728454</td>\n",
              "      <td>7.068398e+06</td>\n",
              "      <td>171.473280</td>\n",
              "    </tr>\n",
              "    <tr>\n",
              "      <th>4</th>\n",
              "      <td>1</td>\n",
              "      <td>1.0</td>\n",
              "      <td>3.157149</td>\n",
              "      <td>0.962881</td>\n",
              "      <td>0.965922</td>\n",
              "      <td>0.862526</td>\n",
              "      <td>0.858738</td>\n",
              "      <td>-0.345103</td>\n",
              "      <td>1.234469</td>\n",
              "      <td>1.554863e+06</td>\n",
              "      <td>68.561741</td>\n",
              "    </tr>\n",
              "    <tr>\n",
              "      <th>...</th>\n",
              "      <td>...</td>\n",
              "      <td>...</td>\n",
              "      <td>...</td>\n",
              "      <td>...</td>\n",
              "      <td>...</td>\n",
              "      <td>...</td>\n",
              "      <td>...</td>\n",
              "      <td>...</td>\n",
              "      <td>...</td>\n",
              "      <td>...</td>\n",
              "      <td>...</td>\n",
              "    </tr>\n",
              "    <tr>\n",
              "      <th>590</th>\n",
              "      <td>10</td>\n",
              "      <td>1.0</td>\n",
              "      <td>-1.004162</td>\n",
              "      <td>-2.424435</td>\n",
              "      <td>-2.355767</td>\n",
              "      <td>-1.722755</td>\n",
              "      <td>-1.674927</td>\n",
              "      <td>0.686724</td>\n",
              "      <td>0.104464</td>\n",
              "      <td>2.018173e+05</td>\n",
              "      <td>1899.663230</td>\n",
              "    </tr>\n",
              "    <tr>\n",
              "      <th>591</th>\n",
              "      <td>10</td>\n",
              "      <td>1.0</td>\n",
              "      <td>-0.792480</td>\n",
              "      <td>-1.862329</td>\n",
              "      <td>-1.830330</td>\n",
              "      <td>-1.720168</td>\n",
              "      <td>-1.672576</td>\n",
              "      <td>2.416262</td>\n",
              "      <td>-0.808679</td>\n",
              "      <td>1.144672e+05</td>\n",
              "      <td>915.330578</td>\n",
              "    </tr>\n",
              "    <tr>\n",
              "      <th>592</th>\n",
              "      <td>10</td>\n",
              "      <td>1.0</td>\n",
              "      <td>-0.694920</td>\n",
              "      <td>-2.476114</td>\n",
              "      <td>-2.403560</td>\n",
              "      <td>-1.570791</td>\n",
              "      <td>-1.536175</td>\n",
              "      <td>1.582056</td>\n",
              "      <td>-0.356172</td>\n",
              "      <td>1.287097e+06</td>\n",
              "      <td>2658.845730</td>\n",
              "    </tr>\n",
              "    <tr>\n",
              "      <th>593</th>\n",
              "      <td>10</td>\n",
              "      <td>1.0</td>\n",
              "      <td>-1.164310</td>\n",
              "      <td>-1.058766</td>\n",
              "      <td>-1.061373</td>\n",
              "      <td>-1.496970</td>\n",
              "      <td>-1.468313</td>\n",
              "      <td>0.602710</td>\n",
              "      <td>0.550362</td>\n",
              "      <td>5.881073e+05</td>\n",
              "      <td>1819.620817</td>\n",
              "    </tr>\n",
              "    <tr>\n",
              "      <th>594</th>\n",
              "      <td>10</td>\n",
              "      <td>1.0</td>\n",
              "      <td>-1.172807</td>\n",
              "      <td>0.024692</td>\n",
              "      <td>0.008612</td>\n",
              "      <td>-1.398998</td>\n",
              "      <td>-1.377785</td>\n",
              "      <td>-1.990260</td>\n",
              "      <td>0.870758</td>\n",
              "      <td>5.656621e+05</td>\n",
              "      <td>1951.286610</td>\n",
              "    </tr>\n",
              "  </tbody>\n",
              "</table>\n",
              "<p>595 rows × 11 columns</p>\n",
              "</div>"
            ],
            "text/plain": [
              "     id   X1  historical_precip  historical_temp  I.historical_temp.2.  \\\n",
              "0     1  1.0           3.064932         0.808000              0.805915   \n",
              "1     2  1.0           3.064932         0.808000              0.805915   \n",
              "2     1  1.0           2.156587         0.205267              0.190646   \n",
              "3     5  1.0           2.156587         0.205267              0.190646   \n",
              "4     1  1.0           3.157149         0.962881              0.965922   \n",
              "..   ..  ...                ...              ...                   ...   \n",
              "590  10  1.0          -1.004162        -2.424435             -2.355767   \n",
              "591  10  1.0          -0.792480        -1.862329             -1.830330   \n",
              "592  10  1.0          -0.694920        -2.476114             -2.403560   \n",
              "593  10  1.0          -1.164310        -1.058766             -1.061373   \n",
              "594  10  1.0          -1.172807         0.024692              0.008612   \n",
              "\n",
              "          lat  I.lat.2.  cattleSlaughter_farmGatePrice_2017  distance  \\\n",
              "0    0.845363  0.840704                           -0.398258  1.421911   \n",
              "1    0.845363  0.840704                           -0.398258  1.421911   \n",
              "2    0.341329  0.318339                            0.493217  1.728454   \n",
              "3    0.341329  0.318339                            0.493217  1.728454   \n",
              "4    0.862526  0.858738                           -0.345103  1.234469   \n",
              "..        ...       ...                                 ...       ...   \n",
              "590 -1.722755 -1.674927                            0.686724  0.104464   \n",
              "591 -1.720168 -1.672576                            2.416262 -0.808679   \n",
              "592 -1.570791 -1.536175                            1.582056 -0.356172   \n",
              "593 -1.496970 -1.468313                            0.602710  0.550362   \n",
              "594 -1.398998 -1.377785                           -1.990260  0.870758   \n",
              "\n",
              "     zbar_2017_muni  log_cattleSlaughter_valuePerHa_2017  \n",
              "0      1.181881e+06                           101.890458  \n",
              "1      1.181881e+06                           101.890458  \n",
              "2      7.068398e+06                           171.473280  \n",
              "3      7.068398e+06                           171.473280  \n",
              "4      1.554863e+06                            68.561741  \n",
              "..              ...                                  ...  \n",
              "590    2.018173e+05                          1899.663230  \n",
              "591    1.144672e+05                           915.330578  \n",
              "592    1.287097e+06                          2658.845730  \n",
              "593    5.881073e+05                          1819.620817  \n",
              "594    5.656621e+05                          1951.286610  \n",
              "\n",
              "[595 rows x 11 columns]"
            ]
          },
          "execution_count": 3,
          "metadata": {},
          "output_type": "execute_result"
        }
      ],
      "source": [
        "theta_data"
      ]
    },
    {
      "cell_type": "code",
      "execution_count": 9,
      "metadata": {},
      "outputs": [],
      "source": [
        "y, X, N, K, G = _gamma_reg_data(10, gamma_data)"
      ]
    },
    {
      "cell_type": "code",
      "execution_count": 5,
      "metadata": {},
      "outputs": [
        {
          "data": {
            "text/plain": [
              "595"
            ]
          },
          "execution_count": 5,
          "metadata": {},
          "output_type": "execute_result"
        }
      ],
      "source": [
        "N"
      ]
    },
    {
      "cell_type": "code",
      "execution_count": 11,
      "metadata": {},
      "outputs": [
        {
          "data": {
            "text/plain": [
              "393.71347240675783"
            ]
          },
          "execution_count": 11,
          "metadata": {},
          "output_type": "execute_result"
        }
      ],
      "source": [
        "np.exp(y.mean())"
      ]
    },
    {
      "cell_type": "code",
      "execution_count": 7,
      "metadata": {},
      "outputs": [
        {
          "name": "stdout",
          "output_type": "stream",
          "text": [
            "297.5\n",
            "105895389.36229002\n"
          ]
        }
      ],
      "source": [
        "I, mu, a, b = _prior_hyperparams(y, X, \"theta\")"
      ]
    }
  ],
  "metadata": {
    "kernelspec": {
      "display_name": "venv",
      "language": "python",
      "name": "python3"
    },
    "language_info": {
      "codemirror_mode": {
        "name": "ipython",
        "version": 3
      },
      "file_extension": ".py",
      "mimetype": "text/x-python",
      "name": "python",
      "nbconvert_exporter": "python",
      "pygments_lexer": "ipython3",
      "version": "3.10.9"
    },
    "orig_nbformat": 4
  },
  "nbformat": 4,
  "nbformat_minor": 2
}
