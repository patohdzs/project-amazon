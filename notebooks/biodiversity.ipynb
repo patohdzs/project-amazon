{
  "cells": [
    {
      "cell_type": "code",
      "execution_count": 42,
      "metadata": {},
      "outputs": [],
      "source": [
        "import numpy as np\n",
        "from scipy.interpolate import approximate_taylor_polynomial\n",
        "\n",
        "from scipy import special\n",
        "import matplotlib.pyplot as plt\n",
        "from pysrc.optimization import solve_planner_problem\n",
        "from pysrc.sampling import baseline\n",
        "from pysrc.services.data_service import load_site_data"
      ]
    },
    {
      "cell_type": "code",
      "execution_count": 46,
      "metadata": {},
      "outputs": [],
      "source": [
        "r = np.sqrt(240000/ (22/7))"
      ]
    },
    {
      "cell_type": "code",
      "execution_count": 48,
      "metadata": {},
      "outputs": [
        {
          "data": {
            "text/plain": [
              "257684.21046122367"
            ]
          },
          "execution_count": 48,
          "metadata": {},
          "output_type": "execute_result"
        }
      ],
      "source": [
        "(22/7) * ((r + 10) ** 2)"
      ]
    },
    {
      "cell_type": "code",
      "execution_count": 3,
      "metadata": {},
      "outputs": [
        {
          "name": "stderr",
          "output_type": "stream",
          "text": [
            "12:29:21 - cmdstanpy - INFO - compiling stan file /Users/ph2696/Projects/project-amazon/stan_model/baseline.stan to exe file /Users/ph2696/Projects/project-amazon/stan_model/baseline\n"
          ]
        },
        {
          "name": "stdout",
          "output_type": "stream",
          "text": [
            "Data successfully loaded from /Users/ph2696/Projects/project-amazon/data/calibration/hmc\n"
          ]
        },
        {
          "name": "stderr",
          "output_type": "stream",
          "text": [
            "12:29:28 - cmdstanpy - INFO - compiled model executable: /Users/ph2696/Projects/project-amazon/stan_model/baseline\n",
            "12:29:33 - cmdstanpy - INFO - CmdStan start processing\n",
            "chain 1 |\u001b[33m          \u001b[0m| 00:00 Status\n",
            "\u001b[A\n",
            "\n",
            "\u001b[A\u001b[A\n",
            "\n",
            "\n",
            "\u001b[A\u001b[A\u001b[A\n",
            "\n",
            "\u001b[A\u001b[A\n",
            "chain 1 |\u001b[34m▍         \u001b[0m| 00:00 Status\n",
            "\n",
            "\n",
            "\u001b[A\u001b[A\u001b[A\n",
            "\n",
            "\u001b[A\u001b[A\n",
            "chain 1 |\u001b[34m▉         \u001b[0m| 00:01 Iteration:   1 / 1000 [  0%]  (Sampling)\n",
            "\n",
            "\n",
            "\u001b[A\u001b[A\u001b[A\n",
            "\u001b[A\n",
            "\n",
            "chain 1 |\u001b[34m█▎        \u001b[0m| 00:01 Iteration: 100 / 1000 [ 10%]  (Sampling)\n",
            "\n",
            "\n",
            "\u001b[A\u001b[A\u001b[A\n",
            "\n",
            "\u001b[A\u001b[A\n",
            "chain 1 |\u001b[34m█▊        \u001b[0m| 00:02 Iteration: 200 / 1000 [ 20%]  (Sampling)\n",
            "\n",
            "\n",
            "\u001b[A\u001b[A\u001b[A\n",
            "\n",
            "\u001b[A\u001b[A\n",
            "chain 1 |\u001b[34m██▎       \u001b[0m| 00:02 Iteration: 300 / 1000 [ 30%]  (Sampling)\n",
            "\n",
            "\n",
            "\u001b[A\u001b[A\u001b[A\n",
            "\u001b[A\n",
            "\n",
            "chain 1 |\u001b[34m██▋       \u001b[0m| 00:03 Iteration: 400 / 1000 [ 40%]  (Sampling)\n",
            "\n",
            "\n",
            "\u001b[A\u001b[A\u001b[A\n",
            "\u001b[A\n",
            "\n",
            "chain 1 |\u001b[34m███▏      \u001b[0m| 00:03 Iteration: 500 / 1000 [ 50%]  (Sampling)\n",
            "\n",
            "\n",
            "\u001b[A\u001b[A\u001b[A\n",
            "\u001b[A\n",
            "\n",
            "chain 1 |\u001b[34m███▋      \u001b[0m| 00:04 Iteration: 600 / 1000 [ 60%]  (Sampling)\n",
            "\n",
            "\n",
            "\u001b[A\u001b[A\u001b[A\n",
            "\u001b[A\n",
            "\n",
            "chain 1 |\u001b[34m████      \u001b[0m| 00:05 Iteration: 700 / 1000 [ 70%]  (Sampling)\n",
            "\n",
            "\n",
            "\u001b[A\u001b[A\u001b[A\n",
            "\u001b[A\n",
            "\n",
            "chain 1 |\u001b[34m████▌     \u001b[0m| 00:05 Iteration: 800 / 1000 [ 80%]  (Sampling)\n",
            "\n",
            "\n",
            "\u001b[A\u001b[A\u001b[A\n",
            "\n",
            "\u001b[A\u001b[A\n",
            "chain 1 |\u001b[34m█████     \u001b[0m| 00:06 Iteration: 900 / 1000 [ 90%]  (Sampling)\n",
            "\n",
            "\n",
            "chain 1 |\u001b[34m██████████\u001b[0m| 00:06 Sampling completed                      \n",
            "chain 2 |\u001b[34m██████████\u001b[0m| 00:06 Sampling completed                      \n",
            "\n",
            "chain 3 |\u001b[34m██████████\u001b[0m| 00:06 Sampling completed\n",
            "\n",
            "\n",
            "chain 4 |\u001b[34m██████████\u001b[0m| 00:06 Sampling completed\n",
            "chain 5 |\u001b[34m██████████\u001b[0m| 00:06 Sampling completed                      "
          ]
        },
        {
          "name": "stdout",
          "output_type": "stream",
          "text": [
            "                                                                                                                                                                                                                                                                                                                                                                                                                "
          ]
        },
        {
          "name": "stderr",
          "output_type": "stream",
          "text": [
            "\n",
            "12:29:39 - cmdstanpy - INFO - CmdStan done processing.\n"
          ]
        },
        {
          "name": "stdout",
          "output_type": "stream",
          "text": [
            "\n",
            "Solving the optimization problem...\n",
            "Set parameter Username\n",
            "\n",
            "--------------------------------------------\n",
            "Warning: your license will expire in 8 days\n",
            "--------------------------------------------\n",
            "\n",
            "Academic license - for non-commercial use only - expires 2024-10-30\n",
            "Read LP format model from file /var/folders/d1/k6sr3htd7fdgk614mmq8pwq00000gr/T/tmp7n3kdhyg.pyomo.lp\n",
            "Reading time = 1.22 seconds\n",
            "x1: 417600 rows, 834801 columns, 2083271 nonzeros\n",
            "Gurobi Optimizer version 10.0.3 build v10.0.3rc0 (mac64[arm])\n",
            "\n",
            "CPU model: Apple M2\n",
            "Thread count: 8 physical cores, 8 logical processors, using up to 8 threads\n",
            "\n",
            "Optimize a model with 417600 rows, 834801 columns and 2083271 nonzeros\n",
            "Model fingerprint: 0x116e6e0d\n",
            "Model has 400 quadratic objective terms\n",
            "Coefficient statistics:\n",
            "  Matrix range     [1e+00, 1e+03]\n",
            "  Objective range  [7e-04, 1e+03]\n",
            "  QObjective range [2e+03, 2e+05]\n",
            "  Bounds range     [3e-06, 1e+00]\n",
            "  RHS range        [9e-11, 5e-01]\n",
            "Presolve removed 208947 rows and 209294 columns\n",
            "Presolve time: 0.39s\n",
            "Presolved: 208653 rows, 625507 columns, 1249571 nonzeros\n",
            "Presolved model has 400 quadratic objective terms\n",
            "Ordering time: 0.02s\n",
            "\n",
            "Barrier statistics:\n",
            " AA' NZ     : 6.241e+05\n",
            " Factor NZ  : 6.773e+07 (roughly 900 MB of memory)\n",
            " Factor Ops : 2.543e+10 (less than 1 second per iteration)\n",
            " Threads    : 8\n",
            "\n",
            "                  Objective                Residual\n",
            "Iter       Primal          Dual         Primal    Dual     Compl     Time\n",
            "   0  -6.78973203e+10  1.08047527e+08  1.04e+06 4.45e+02  9.90e+05     2s\n",
            "   1  -5.37153839e+09  4.56366958e+07  7.70e+04 1.07e-12  8.69e+04     2s\n",
            "   2  -1.91037282e+07  7.46255098e+06  1.66e+02 1.68e-12  2.05e+02     2s\n",
            "   3  -1.34741209e+06  1.26053452e+06  2.27e+00 3.40e-12  5.49e+00     3s\n",
            "   4  -2.11619045e+05  2.81659635e+05  4.30e-02 2.28e-12  6.30e-01     3s\n",
            "   5  -4.27294452e+04  5.19581356e+04  2.18e-03 1.41e-12  1.14e-01     4s\n",
            "   6  -9.28850092e+03  1.19071616e+04  1.51e-04 2.09e-12  2.54e-02     4s\n",
            "   7  -2.57781625e+03  3.04703419e+03  2.01e-05 1.34e-12  6.74e-03     5s\n",
            "   8  -1.00860694e+03  1.69596912e+03  4.03e-06 5.57e-13  3.24e-03     5s\n",
            "   9  -2.26605656e+02  6.56238946e+02  6.93e-07 9.09e-13  1.06e-03     6s\n",
            "  10   2.74407534e+01  4.16136082e+02  1.78e-07 4.55e-13  4.66e-04     6s\n",
            "  11   1.50205705e+02  2.89932517e+02  2.50e-08 9.09e-13  1.68e-04     6s\n",
            "  12   1.75755556e+02  2.63588884e+02  1.14e-08 4.55e-13  1.05e-04     7s\n",
            "  13   2.03368335e+02  2.41058740e+02  3.40e-09 4.55e-13  4.52e-05     7s\n",
            "  14   2.16800111e+02  2.30227729e+02  2.17e-10 6.82e-13  1.61e-05     8s\n",
            "  15   2.21383263e+02  2.27796261e+02  7.27e-11 9.09e-13  7.69e-06     8s\n",
            "  16   2.23126608e+02  2.26966018e+02  2.22e-11 9.09e-13  4.60e-06     9s\n",
            "  17   2.24484853e+02  2.26347822e+02  8.64e-12 9.09e-13  2.23e-06     9s\n",
            "  18   2.25173676e+02  2.26037476e+02  1.57e-12 9.09e-13  1.04e-06    10s\n",
            "  19   2.25532716e+02  2.25884502e+02  2.24e-13 1.14e-12  4.22e-07    10s\n",
            "  20   2.25684803e+02  2.25823359e+02  8.35e-16 9.09e-13  1.66e-07    11s\n",
            "  21   2.25753732e+02  2.25796536e+02  2.49e-15 1.14e-12  5.13e-08    11s\n",
            "  22   2.25774217e+02  2.25788688e+02  3.42e-15 9.09e-13  1.73e-08    12s\n",
            "  23   2.25776159e+02  2.25787950e+02  3.22e-15 6.82e-13  1.41e-08    12s\n",
            "  24   2.25781972e+02  2.25785739e+02  5.37e-15 9.09e-13  4.52e-09    12s\n",
            "  25   2.25783804e+02  2.25785044e+02  1.94e-14 1.36e-12  1.49e-09    13s\n",
            "  26   2.25784581e+02  2.25784749e+02  3.09e-14 9.09e-13  2.02e-10    13s\n",
            "  27   2.25784687e+02  2.25784709e+02  1.43e-14 9.09e-13  2.70e-11    14s\n",
            "  28   2.25784702e+02  2.25784703e+02  4.98e-15 9.09e-13  9.65e-13    14s\n",
            "\n",
            "Barrier solved model in 28 iterations and 14.19 seconds (24.18 work units)\n",
            "Optimal objective 2.25784702e+02\n",
            "\n",
            "Done! Time elapsed: 29.785081148147583 seconds.\n"
          ]
        }
      ],
      "source": [
        "# Model hyperparameters\n",
        "solver = \"gurobi\"\n",
        "pee = 7.6\n",
        "pa = 41.11\n",
        "num_sites = 1043\n",
        "T = 200\n",
        "\n",
        "\n",
        "(zbar_2017, z_2017, forest_area_2017) = load_site_data(num_sites)\n",
        "\n",
        "# Set productivity parameters using baseline mean\n",
        "baseline_fit = baseline.sample(\n",
        "    num_sites=num_sites,\n",
        "    iter_sampling=10**3,\n",
        "    chains=5,\n",
        "    seed=1,\n",
        ")\n",
        "\n",
        "theta = baseline_fit.stan_variable(\"theta\").mean(axis=0)\n",
        "gamma = baseline_fit.stan_variable(\"gamma\").mean(axis=0)\n",
        "\n",
        "# Computing carbon absorbed in start period\n",
        "x_2017 = gamma * forest_area_2017\n",
        "\n",
        "# Solve planner problem\n",
        "results = solve_planner_problem(\n",
        "    x0=x_2017,\n",
        "    z0=z_2017,\n",
        "    zbar=zbar_2017,\n",
        "    gamma=gamma,\n",
        "    theta=theta,\n",
        "    time_horizon=T,\n",
        "    price_cattle=pa,\n",
        "    price_emissions=pee,\n",
        ")"
      ]
    },
    {
      "cell_type": "markdown",
      "metadata": {},
      "source": [
        "# Biodiversity Calculation"
      ]
    },
    {
      "cell_type": "markdown",
      "metadata": {},
      "source": [
        "Let S denote species, Y denote biomass, and A denote area\n",
        "\n",
        "We have that\n",
        "$$\n",
        "S = cA^z\n",
        "$$\n",
        "\n",
        "and \n",
        "$$\n",
        "Y = aS^b\n",
        "$$\n",
        "\n",
        "so the relative change in biomass (mediated by a change in species richness) given a changein area from $A$ to $A'$ is\n",
        "\n",
        "\n",
        "$$\n",
        "m(A) := \\frac{Y'}{Y} = \\left( \\frac{A'}{A} \\right)^{bz}\n",
        "$$\n",
        "\n",
        "We can then apply this multiplier to the left-over area $A-A'$ "
      ]
    },
    {
      "cell_type": "code",
      "execution_count": 25,
      "metadata": {},
      "outputs": [],
      "source": [
        "Z_agg = results.Z.sum(axis=1)\n",
        "\n",
        "# Compute forest area at time t\n",
        "F = (zbar_2017.sum() - Z_agg) * 1e9"
      ]
    },
    {
      "cell_type": "code",
      "execution_count": 26,
      "metadata": {},
      "outputs": [],
      "source": [
        "b = 0.26\n",
        "z = 0.25\n",
        "\n",
        "# Compute area deforested in the first 30 years\n",
        "D = F[0] - F[30]"
      ]
    },
    {
      "cell_type": "code",
      "execution_count": 27,
      "metadata": {},
      "outputs": [],
      "source": [
        "biomass_loss = []\n",
        "A_initial = []\n",
        "for i in range(10):\n",
        "    # Set baseline area\n",
        "    A = F[0] / (i + 1)\n",
        "\n",
        "    A_initial.append(A)\n",
        "\n",
        "    # Compute relative change in biomass\n",
        "    m = (1 - (D / A)) ** (b * z)\n",
        "\n",
        "    # Compute biomass loss\n",
        "    biomass_loss.append(copy(m))"
      ]
    },
    {
      "cell_type": "code",
      "execution_count": 31,
      "metadata": {},
      "outputs": [
        {
          "data": {
            "text/plain": [
              "0.9576032806985737"
            ]
          },
          "execution_count": 31,
          "metadata": {},
          "output_type": "execute_result"
        }
      ],
      "source": [
        "(0.5) ** (1 / 16)"
      ]
    },
    {
      "cell_type": "code",
      "execution_count": 28,
      "metadata": {},
      "outputs": [
        {
          "data": {
            "image/png": "[encoded data removed]",
            "text/plain": [
              "<Figure size 640x480 with 1 Axes>"
            ]
          },
          "metadata": {},
          "output_type": "display_data"
        }
      ],
      "source": [
        "# Plot the result\n",
        "plt.plot(A_initial, biomass_loss, label=\"Y'/Y\")\n",
        "plt.xlabel(\"Initial Area (ha)\")\n",
        "plt.ylabel(\"Loss in biomass\")\n",
        "plt.legend()\n",
        "plt.show()"
      ]
    },
    {
      "cell_type": "code",
      "execution_count": 38,
      "metadata": {},
      "outputs": [
        {
          "data": {
            "text/plain": [
              "0.8556762450933418"
            ]
          },
          "execution_count": 38,
          "metadata": {},
          "output_type": "execute_result"
        }
      ],
      "source": [
        "m = (1 - (D / (1.1 * D))) ** (b * z)\n",
        "m"
      ]
    },
    {
      "cell_type": "code",
      "execution_count": 40,
      "metadata": {},
      "outputs": [
        {
          "data": {
            "text/plain": [
              "1.4000000000000001"
            ]
          },
          "execution_count": 40,
          "metadata": {},
          "output_type": "execute_result"
        }
      ],
      "source": [
        "14*0.1"
      ]
    },
    {
      "cell_type": "code",
      "execution_count": 39,
      "metadata": {},
      "outputs": [
        {
          "data": {
            "text/plain": [
              "0.14432375490665816"
            ]
          },
          "execution_count": 39,
          "metadata": {},
          "output_type": "execute_result"
        }
      ],
      "source": [
        "1-m"
      ]
    },
    {
      "cell_type": "code",
      "execution_count": 29,
      "metadata": {},
      "outputs": [
        {
          "data": {
            "text/plain": [
              "0.24824650443351925"
            ]
          },
          "execution_count": 29,
          "metadata": {},
          "output_type": "execute_result"
        }
      ],
      "source": [
        "D / (10**8)"
      ]
    },
    {
      "cell_type": "code",
      "execution_count": 24,
      "metadata": {},
      "outputs": [
        {
          "data": {
            "image/png": "[encoded data removed]",
            "text/plain": [
              "<Figure size 640x480 with 1 Axes>"
            ]
          },
          "metadata": {},
          "output_type": "display_data"
        }
      ],
      "source": [
        "initial_biomass_loss = gamma.mean() * D\n",
        "\n",
        "relative_biomass_loss = np.array(biomass_loss) / initial_biomass_loss\n",
        "\n",
        "# Plot the result\n",
        "plt.plot(A_initial, relative_biomass_loss, label=\"m(A) / γ\")\n",
        "plt.xlabel(\"Initial Area (ha)\")\n",
        "plt.ylabel(\"Relative Loss in biomass\")\n",
        "plt.legend()\n",
        "plt.show()"
      ]
    }
  ],
  "metadata": {
    "kernelspec": {
      "display_name": ".venv",
      "language": "python",
      "name": "python3"
    },
    "language_info": {
      "codemirror_mode": {
        "name": "ipython",
        "version": 3
      },
      "file_extension": ".py",
      "mimetype": "text/x-python",
      "name": "python",
      "nbconvert_exporter": "python",
      "pygments_lexer": "ipython3",
      "version": "3.10.9"
    }
  },
  "nbformat": 4,
  "nbformat_minor": 2
}
