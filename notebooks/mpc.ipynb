{
  "cells": [
    {
      "cell_type": "markdown",
      "metadata": {
        "id": "U0l9nOAAUJgf"
      },
      "source": [
        "# Carbon prices and forest preservation over space and time in the Brazilian Amazon\n"
      ]
    },
    {
      "cell_type": "code",
      "execution_count": 1,
      "metadata": {
        "colab": {
          "base_uri": "https://localhost:8080/"
        },
        "id": "cP2ZDFAIJlDr",
        "outputId": "daf33a69-c6d7-4d1d-8364-445a7ca3e540"
      },
      "outputs": [],
      "source": [
        "# Required packages\n",
        "import numpy as np\n",
        "import pandas as pd\n",
        "import matplotlib.pyplot as plt\n",
        "from pylab import *\n",
        "from casadi import *\n",
        "from scipy.linalg import logm, expm\n",
        "from IPython.display import display, Markdown\n",
        "import time\n",
        "import math\n",
        "import itertools\n",
        "import os\n",
        "import sys\n"
      ]
    },
    {
      "cell_type": "markdown",
      "metadata": {
        "id": "9uL6pB-UKU4K"
      },
      "source": [
        "# 1 Model\n",
        "---\n",
        "## 1.1 State Variable\n",
        "Let us begin with a definition of the important state vectors\n",
        "\\begin{array}{llll}\n",
        "Z_t &  := & (Z_t^1, Z_t^2, ..., Z_t^I) & \\textrm{ vector of area used for agriculture expressed in hectares} \\cr\n",
        "X_t & := & (X_t^1, X_t^2, ..., X_t^I) & \\textrm{ vector of carbon captured expressed in Mg CO2e (CO2 equivalent)  } \\cr\n",
        "A_t & := & (A_t^1, A_t^2, ..., A_t^I) & \\textrm{ vector of agricultural output}\n",
        "\\end{array}\n",
        "where\n",
        "$$\n",
        "0 \\le Z_t^i \\le {\\bar z}_i\n",
        "$$\n",
        "and define\n",
        "$$\n",
        "\\tilde X_t = \\sum_i^I X_t^i\n",
        "$$"
      ]
    },
    {
      "cell_type": "code",
      "execution_count": null,
      "metadata": {
        "id": "RtpW1nXaKS-P"
      },
      "outputs": [],
      "source": [
        "#Site Data\n",
        "# Read data file\n",
        "n='global'\n",
        "file=workdir + f\"data/calibration_{n}Model.csv\"\n",
        "df = pd.read_csv(file)\n",
        "df = df.sort_values(by=[f'theta_{n}'])\n",
        "\n",
        "z0_list = df[f'z_2017_{n}'].to_numpy() # initial distribution of agriculture\n",
        "γ_list  = df[f'gamma_{n}'].to_numpy()  #  the amount of carbon (aka impact of cutting down forests)\n",
        "x0_list = γ_list * (df[f'forestArea_2017_ha_{n}'].to_numpy())# initial distribution of carbon absoprtion of the amazon\n",
        "θ_list  = df[f'theta_{n}'].to_numpy() #  distribution of the productivity parameters\n",
        "\n",
        "# Parameter values\n",
        "normalization_value = 1e9 # normalization value\n",
        "α = 0.045007414 # mean-reverting coefficient\n",
        "\n",
        "Z0_list = z0_list/ normalization_value\n",
        "X0_list = x0_list/ normalization_value\n",
        "\n",
        "z̄ = (df[f'zbar_2017_{n}'].to_numpy() )/normalization_value # distribution of the upper bound of agriculture in each site\n",
        "n = len(z̄) # total number of sites"
      ]
    },
    {
      "cell_type": "markdown",
      "metadata": {
        "id": "lV3vOSmNL_T-"
      },
      "source": [
        "Let us define the state variable vector\n",
        "\n",
        "$$\n",
        "Y_t = \\begin{bmatrix}\n",
        "Z^1_t\\\\\n",
        "Z^2_t\\\\\n",
        "\\vdots\\\\\n",
        "Z^I_t\\\\\n",
        "\\tilde X_t\\\\\n",
        "1\n",
        "\\end{bmatrix}\n",
        "$$\n",
        "\n",
        "where we have the following laws of motion\n",
        "\n",
        "$$\n",
        "\\begin{equation}\n",
        "\\begin{aligned}\n",
        "\\dot{X}_t^i&=-\\gamma^i U_t^i-\\alpha\\left[X_t^i-\\gamma^i\\left(\\bar{z}^i-Z_t^i\\right)\\right]\\\\\n",
        "&=-\\gamma^i U_t^i-\\alpha X_t^i+\\alpha\\gamma^i\\bar{z}^i-\\alpha\\gamma^i Z_t^i\n",
        "\\end{aligned}\n",
        "\\end{equation}\\tag{1}\n",
        "$$\n",
        "\n",
        "$$\n",
        "\\dot Z_t^i = U_t^i - V_t^i \\tag{2}\n",
        "$$\n",
        "\n",
        "where $U_t^i \\geq 0$ and $V_t^i \\geq 0$ are controls and it is useful to define\n",
        "\n",
        "$$\n",
        "U_t^i :=(U_t^1, U_t^2, ..., U_t^I)  \\textrm{ vector increases in agriculture}\n",
        "$$\n",
        "**The site-specific parameter $γ^i \\geq 0$ denotes\n",
        "the density of CO2e that is present in a primary forest in site $i$.**\n",
        "\n",
        "We can rewrite the law of motion into the following\n",
        "$$\n",
        "\\dot Y_t = A Y_t + B \\dot Z_t +D U_t\n",
        "$$\n",
        "The codes define the matrices $A$, $B$ and $D$ below\n",
        "\n",
        "$$\n",
        "A := \\begin{bmatrix}\n",
        "0 & 0 & 0 & \\dots & 0 & 0  & 0\\\\\n",
        "\\vdots &\\vdots &\\vdots &\\vdots &\\vdots  &\\vdots  &\\vdots\\\\\n",
        "0 & 0 & 0 & \\dots & 0 & 0 & 0\\\\\n",
        "-\\alpha \\gamma^1 & -\\alpha \\gamma^2 & -\\alpha \\gamma^3 & \\dots & -\\alpha \\gamma^I & -\\alpha  & \\alpha \\sum_i \\gamma^i \\bar z^i\\\\\n",
        "0 & 0 & 0 & \\dots & 0 & 0  & 0\n",
        "\\end{bmatrix}\n",
        "$$"
      ]
    },
    {
      "cell_type": "code",
      "execution_count": null,
      "metadata": {
        "id": "nvpxkNmDL65x"
      },
      "outputs": [],
      "source": [
        "#Construct Matrix A\n",
        "Az = np.zeros((n, n+2))\n",
        "\n",
        "Ax = np.zeros((1, n+2-0))\n",
        "Ax[0,0:n-0] = -α *γ_list[0:n]\n",
        "Ax[0, -1] = np.sum(α*γ_list[0:n] * z̄[0:n])\n",
        "Ax[0,-2]  = -α\n",
        "\n",
        "A  = np.concatenate((Az, Ax, np.zeros((1, n+2-0))), axis=0)"
      ]
    },
    {
      "cell_type": "markdown",
      "metadata": {
        "id": "pRRMrEdxMGEl"
      },
      "source": [
        "The code below define the matrix of $B$, which is the following\n",
        "\n",
        "$$\n",
        "B = \\begin{bmatrix}\n",
        "1 & 0 & 0 & \\dots & 0 & 0 & 0\\\\\n",
        "\\vdots &\\vdots &\\vdots &\\vdots &\\vdots &\\vdots &\\vdots\\\\\n",
        "0 & 0 & 0 & \\dots & 0 & 0 & 1\\\\\n",
        "0 & 0 & 0 & \\dots & 0 & 0 & 0\\\\\n",
        "0 & 0 & 0 & \\dots & 0 & 0 & 0\\\\\n",
        "0 & 0 & 0 & \\dots & 0 & 0 & 0\n",
        "\\end{bmatrix}\n",
        "$$"
      ]
    },
    {
      "cell_type": "code",
      "execution_count": null,
      "metadata": {
        "id": "AcXHEqSNMEV3"
      },
      "outputs": [],
      "source": [
        "# Construct Matrix B\n",
        "Bz = np.identity((n-0))\n",
        "Bx = (np.zeros((1,n-0)))\n",
        "\n",
        "B  = np.concatenate((Bz, Bx,  np.zeros((1, n-0))), axis=0)"
      ]
    },
    {
      "cell_type": "markdown",
      "metadata": {
        "id": "efIzNzAgMJA1"
      },
      "source": [
        "The code below defines the matrix of $D$, which si the following\n",
        "$$\n",
        "D := \\begin{bmatrix}\n",
        "0 & 0 & 0 & \\dots & 0 & 0 & 0\\\\\n",
        "\\vdots &\\vdots &\\vdots &\\vdots &\\vdots &\\vdots &\\vdots\\\\\n",
        "0 & 0 & 0 & \\dots & 0 & 0 & 0\\\\\n",
        "-\\gamma_1 & -\\gamma_2 & -\\gamma_3 & \\dots & -\\gamma_{I-2} & -\\gamma_{I-1} & -\\gamma_{I}\\\\\n",
        "0 & 0 & 0 & \\dots & 0 & 0 & 0\n",
        "\\end{bmatrix}\n",
        "$$"
      ]
    },
    {
      "cell_type": "code",
      "execution_count": null,
      "metadata": {
        "id": "h9MakOOjMHNE"
      },
      "outputs": [],
      "source": [
        "# Construct Matrix B\n",
        "Dz =   np.zeros((n-0,n-0))\n",
        "Dx = -(np.ones((1,n-0))*γ_list[0:n])\n",
        "\n",
        "D  = np.concatenate((Dz, Dx, np.zeros((1, n-0))), axis=0)"
      ]
    },
    {
      "cell_type": "markdown",
      "metadata": {
        "id": "2Bu-VZGuML-I"
      },
      "source": [
        "Below defines the discretize law of motion, we discretize in the following way\n",
        "\n",
        "$$\n",
        "\\dot Y_t = A Y_t + B \\dot Z_t +D U_t \\implies Y_{t+dt} = \\left(A Y_t + B \\dot Z_t + D U_t \\right)dt+ Y_t\n",
        "$$"
      ]
    },
    {
      "cell_type": "code",
      "execution_count": null,
      "metadata": {
        "id": "vGSztTbPMKLF"
      },
      "outputs": [],
      "source": [
        "y  = MX.sym('Y',n+2) # state\n",
        "u = MX.sym('u',n) # positive control\n",
        "v = MX.sym('u',n) # negative control\n",
        "\n",
        "rhs = sparsify(A)@ y + sparsify(B)@(u-v) + sparsify(D)@(u) + y # dynamics\n",
        "F = Function('f', [y, v, u],[rhs]) # dynamics function"
      ]
    },
    {
      "cell_type": "markdown",
      "metadata": {
        "id": "qOYhmXDYSFao"
      },
      "source": [
        "## 1.2 Objective Function\n",
        "We define the cattle output as\n",
        "$A_t^i=\\theta^i Z_t^i$.\n",
        "where **$θ_i$ is a site-specific productivity parameter**.\n",
        "\n",
        "All of the locations contribute to emissions via the capture of carbon and emissions that result because of agricultural activity with a net impact given by\n",
        "$$\n",
        "\\kappa \\sum_{i=1}^I Z_t^i-\\sum_{i=1}^I \\dot{X}_t^i\n",
        "$$\n",
        "where the parameter $\\kappa$ captures the emissions that result because of cattle farming. We include a cost of adjustment to changes in the use of land with contributions from each site. It is measured by\n",
        "$$\n",
        "\\frac{\\zeta}{2}\\left[\\sum_i^i\\left(U_t^i+V_t^i\\right)\\right]^2\n",
        "$$\n",
        "\n",
        "Since many carbon trading schemes are based on emissions, we assume that the planner takes as given a price for carbon emissions $P^e$, the initial price for agriculture and the Markov process that describes the future evolution of the price $P_t^a$ for cattle and maximizes\n",
        "$$\n",
        "\\mathbb{E}\\left\\{\\int_0^{\\infty} \\exp (-\\delta t)\\left[-P^e\\left(\\kappa \\sum_{i=1}^I Z_t^i-\\sum_{i=1}^I \\dot{X}_t^i\\right)+P_t^a \\sum_i \\theta^i Z_t^i-\\frac{\\zeta}{2}\\left[\\sum_i^i\\left(U_t^i+V_t^i\\right)\\right]^2\\right] d t\\right\\}\n",
        "$$\n",
        "subject to equations (1)-(2), and the control restrictions:\n",
        "$$\n",
        "U_t^i \\geqslant 0, \\quad V_t^i \\geqslant 0 \\quad t \\geqslant 0 .\n",
        "$$\n",
        "where $\\delta$ is the subjective discount rate. The emission price $P^e$ considered by the planner would be the sum of the (constant) marginal value attributed by the planner to emission and any monetary transfers obtained from others, such as sales in carbon emission markets. In future work we intend to make $P^e$ a state variable.\n",
        "\n",
        "For simplicity, we take $P^e$ to be independent of calendar time."
      ]
    },
    {
      "cell_type": "markdown",
      "metadata": {
        "id": "fU1DKr5DU9hX"
      },
      "source": [
        "## 1.3 Calibration"
      ]
    },
    {
      "cell_type": "code",
      "execution_count": null,
      "metadata": {
        "colab": {
          "base_uri": "https://localhost:8080/",
          "height": 309
        },
        "id": "0CQRvL8nUC3J",
        "outputId": "9833546f-1949-4a38-cc29-558b5ed913f4"
      },
      "outputs": [],
      "source": [
        "# Parameter values\n",
        "normalization_value = normalization_value\n",
        "δ = 0.02\n",
        "α = α\n",
        "κ = 2.094215255\n",
        "Pe = 0\n",
        "ζ = 1.66e-4 * normalization_value\n",
        "Pa_1 = 38.29988757\n",
        "Pa_2 = 44.75876047\n",
        "\n",
        "# Parameters\n",
        "parameters = [\n",
        "    (\"\",\"normalization\", normalization_value),\n",
        "    (\"δ\",\"discount rate\", δ),\n",
        "    (\"α\", \"mean-reversion coefficient\",α),\n",
        "    (\"κ\", \"emission rate\", κ),\n",
        "    (\"$P^e$\", \"price of emission\", Pe),\n",
        "    (\"ζ\", \"adjustment cost\",ζ),\n",
        "    (\"$P^a_1$\", \"low price of agriculture\",Pa_1),\n",
        "    (\"$P^a_2$\", \"high price of agriculture\",Pa_2)\n",
        "]\n",
        "\n",
        "\n",
        "# Generate Markdown table\n",
        "markdown_table = \"| Parameter | Explaination|Value |\\n|---|---|---|\\n\"\n",
        "for param, name,value in parameters:\n",
        "    markdown_table += f\"| {param} | {name} | {value} |\\n\"\n",
        "\n",
        "# Display the Markdown table\n",
        "display(Markdown(markdown_table))\n"
      ]
    },
    {
      "cell_type": "markdown",
      "metadata": {
        "id": "8_x5AjEbUuI_"
      },
      "source": [
        "## 1.3 Time and Discounting\n",
        "We define:\n",
        "\n",
        "$T$ to be the time horizon\n",
        "$N$ to be the number of controls\n",
        "$T_u$ to be the stochastic horizon\n",
        "\n",
        "$dt = T/N$ to be the time step\n",
        "\n",
        "Below we also construct a vector of discount rates in the following way\n",
        "\n",
        "\\begin{align*}\n",
        "\\text{discount_vector[i]} = \\exp(-\\delta i \\cdot \\text{{dt}})\n",
        "\\end{align*}"
      ]
    },
    {
      "cell_type": "code",
      "execution_count": null,
      "metadata": {
        "id": "ShoOFZfNUqwl"
      },
      "outputs": [],
      "source": [
        "T   = 200 # time horizon\n",
        "N   = T # number of control intervals\n",
        "T_u = 5 # stochastic horizon\n",
        "\n",
        "dt = T/N # time step\n",
        "\n",
        "ds_vect = np.zeros((N+1,1))\n",
        "for i in range(N+1):\n",
        "    ds_vect[i]=math.exp(-δ*i*dt)"
      ]
    },
    {
      "cell_type": "markdown",
      "metadata": {
        "id": "x9cYjNzVMO3z"
      },
      "source": [
        "## 1.4 Computation of Price and Probability Matrices with Markov Chain Transitions\n",
        "\n",
        "The provided Python code has the following steps:\n",
        "\n",
        "1. **Transition Matrix and Instantaneous Generator:** It first defines a transition probability matrix `P`, and then calculates an instantaneous generator `M` using the logarithm of the matrix `P` divided by a time step `dτ`. It then calculates `m1` and `m2` as the off-diagonal elements of `M`. Finally, it computes a new transition matrix `P` by taking the matrix exponential of `M` multiplied by a time step `dt`.\n",
        "\n",
        "2. **Markov Array Generation:** The code generates a `Markov array` that contains all possible sequences of 0s and 1s of length `T_u + 1`. This is done using the `itertools.product` function, which computes the Cartesian product of `[0, 1]` repeated `T_u + 1` times.\n",
        "\n",
        "3. **Price Matrix Initialization and Filling:** It initializes a `price matrix` that has the same number of rows as the Markov array and `T+1` columns. The matrix is filled with zeros initially. The first `T_u + 1` columns of the price matrix are filled with the Markov array. The remaining columns are filled with the last column of the Markov array, utilizing NumPy's broadcasting feature.\n",
        "\n",
        "4. **Price Matrix Adjustment:** All zeros in the price matrix are replaced with the value `p1`, and all ones are replaced with `p2`.\n",
        "\n",
        "5. **Probability Matrix Initialization and Calculation:** A `probability matrix` is initialized with the same number of rows as the Markov array and one column. For each row of the Markov array, the code computes a probability that corresponds to the sequence of 0s and 1s in that row. This probability is calculated as the product of transition probabilities from the `P` matrix for each pair of adjacent elements in the sequence. The computed probability is stored in the corresponding row of the probability matrix.\n",
        "\n",
        "The `P` matrix is now a 2x2 NumPy array where `P[i, j]` is the transition probability from state i to state j. The script uses the zip function to pair each element of the sequence with its next neighbor, representing state transitions, and calculates the product of the corresponding transition probabilities using the numpy.prod function.\n",
        "\n",
        "This code makes use of NumPy's built-in array operations for efficiency and minimizes the use of Python loops. However, it might be slow if `T_u + 1` is large due to the exponential increase in the number of unique sequences with `T_u + 1`.\n"
      ]
    },
    {
      "cell_type": "code",
      "execution_count": null,
      "metadata": {
        "id": "iLWqvZ0XMNQB"
      },
      "outputs": [],
      "source": [
        "# Step 1: Formalize transition matrix and instantenous generator\n",
        "dτ = 1/12  # time step\n",
        "P = np.matrix([[0.982758621, 0.017241379],[0.012578616, 0.987421384]])  #probability transition matrix\n",
        "M = logm(P)/dτ  # instantenous generator\n",
        "m1 = M[0,1]\n",
        "m2 = M[1,0]\n",
        "\n",
        "P = expm(M*dt)  # Updated Probability transition matrix\n",
        "\n",
        "# Step 2: Generate markov array\n",
        "markov_array = np.array(list(itertools.product([0, 1], repeat=T_u+1)))\n",
        "\n",
        "# Step 3: Price matrix initialization and filling\n",
        "price_matrix = np.zeros((len(markov_array),T+1))\n",
        "price_matrix[:, 0:T_u+1] = markov_array                  # Uncertainty horizon\n",
        "price_matrix[:,T_u+1:] = markov_array[:,-1, np.newaxis]  # Broadcasting to determinstic horizon\n",
        "\n",
        "# Step 4: Price matrix adjustment\n",
        "price_matrix[price_matrix==0] = Pa_1\n",
        "price_matrix[price_matrix==1] = Pa_2\n",
        "\n",
        "# Step 5: Probability matrix initialization and filling\n",
        "prob_matrix = np.zeros((2**(T_u+1),1))\n",
        "P = np.array([[P[0,0], P[0,1]], [P[1,0], P[1,1]]])\n",
        "for i, row in enumerate(markov_array):\n",
        "    # The zip function pairs adjacent elements together\n",
        "    transitions = zip(row[:-1], row[1:])\n",
        "    prob_temp = np.prod([P[x, y] for x, y in transitions])\n",
        "    prob_matrix[i] = prob_temp # Note that the sum of prob_matrix would be 2, because we consider two cases for the initial price"
      ]
    },
    {
      "cell_type": "markdown",
      "metadata": {
        "id": "T3it8ntDXkE7"
      },
      "source": [
        "# 2 Finite Horizon Optimization\n",
        "---\n",
        "\n",
        "## 2.1 Function `state_constructor(opti, T_u)`\n",
        "This function sets up and constructs decision variables and constraints for an optimization problem.\n",
        "\n",
        "### Parameters\n",
        "- `opti`: An instance of an optimization problem.\n",
        "- `T_u`: A parameter used to define the range of our loops in the function.\n",
        "\n",
        "### Steps\n",
        "\n",
        "1. **Initialization of Variables**: Four empty lists `V`, `U`, `ZO`, and `Y` are initialized. These lists will be used to store decision variables for the states, where\n",
        "$$ZO = \\left[\\sum_i (U_t^i+V_t^i)\\right]^2$$\n",
        "\n",
        "2. **Variables Definition**: A loop runs `2**T_u` times. In each iteration, it adds new variables to each of the lists.\n",
        "\n",
        "3. **Constraints Definition**: The function then defines a set of constraints. These constraints forces the (k+1)th column of the ith Y variable to be equal to the output of the function `F`, applied to the kth column of the ith Y, V, and U variables. Then, each ZO variable equals the square of the sum of the corresponding U and V variables. A parameter `ic` is also defined and used to set another constraint where the first column of each Y variable equals to `ic`.\n",
        "\n",
        "4. **Applying Constraints**: Finally, the function applies constraints on each decision variable. These constraints ensure that the first `n` rows of the `ith` Y variable and all rows of the `ith` V and U variables are greater than or equal to `0`, and less than or equal to `z̄` (for Y) or infinity (for V and U).\n",
        "\n",
        "5. **Return Statement**: The function ends by returning all decision variables and the parameter `ic`.\n",
        "\n"
      ]
    },
    {
      "cell_type": "code",
      "execution_count": null,
      "metadata": {
        "id": "Gp69IXo7XgKo"
      },
      "outputs": [],
      "source": [
        "def state_constructor(opti, T_u):\n",
        "    # This function constructs the decision variables and constraints for an optimization problem.\n",
        "\n",
        "    # Decision variables for states\n",
        "    V = []  # List to store variables V\n",
        "    U = []  # List to store variables U\n",
        "    ZO = []  # List to store variables ZO\n",
        "    Y = []  # List to store variables Y\n",
        "\n",
        "    # The loop runs for 2 to the power of T_u times.\n",
        "    # In each iteration, it adds new variables to the lists V, U, ZO, and Y.\n",
        "    for p in range(2**(T_u)):\n",
        "        U.append(opti.variable(n, N))\n",
        "        V.append(opti.variable(n, N))\n",
        "        ZO.append(opti.variable(1, N))\n",
        "        Y.append(opti.variable(n+2, N+1))\n",
        "\n",
        "    # Loop to define constraints based on function F.\n",
        "    # For each i, for each k, the (k+1)th column of the ith Y variable\n",
        "    # is constrained to be equal to the function F applied to the kth column of the ith Y, V, and U variables.\n",
        "    for i in range(2**(T_u)):\n",
        "        for k in range(N):\n",
        "            opti.subject_to(Y[i][:,k+1] == F(Y[i][:,k], V[i][:,k], U[i][:,k]))\n",
        "\n",
        "    # Constraint: Each ZO variable is equal to the square of the sum of the corresponding U and V variables.\n",
        "    # Sum1 is the sum over the sites (row)\n",
        "    for p in range(2**(T_u)):\n",
        "        opti.subject_to(ZO[p] == sum1(U[p]+V[p])**2 )\n",
        "\n",
        "    # Define a parameter 'ic' with dimension n+2 x 1\n",
        "    ic = opti.parameter(n+2,1)\n",
        "\n",
        "    # Constraint: The first column of each Y variable is equal to the initial condition.\n",
        "    for i in range(2**(T_u)):\n",
        "        opti.subject_to(Y[i][:,0] == ic)\n",
        "\n",
        "    # Bound constraints: For each i, the first n rows of the ith Y variable, and all rows of the ith V and U variables,\n",
        "    # are constrained to be between 0 and z̄ (for Y) or infinity (for V and U).\n",
        "    for i in range(2**(T_u)):\n",
        "        opti.subject_to(opti.bounded(0, Y[i][0:n,:], z̄))\n",
        "        opti.subject_to(opti.bounded(0, V[i], inf))\n",
        "        opti.subject_to(opti.bounded(0, U[i], inf))\n",
        "\n",
        "    # Return all the decision variables and the parameter.\n",
        "    return Y, U, V, ZO, ic\n",
        "\n",
        "opti = casadi.Opti()\n",
        "Y, U,V, ZO, ic  = state_constructor(opti, T_u)"
      ]
    },
    {
      "cell_type": "markdown",
      "metadata": {
        "id": "7nH0BuZGMbvm"
      },
      "source": [
        "## 2.2 Function `objective_constructor(p, prob_matrix, N_u, ZO, Y)`\n",
        "\n",
        "This function constructs the objective function for an optimization problem.\n",
        "\n",
        "### Parameters\n",
        "- `p`: A given price.\n",
        "- `prob_matrix`: A matrix containing the calculated probabilities.\n",
        "- `N_u`: A parameter used to define the length of vectors in the function.\n",
        "- `ZO`: List of decision variables.\n",
        "- `Y`: List of decision variables.\n",
        "\n",
        "$$\n",
        "\\mathbb{E}\\left\\{\\int_0^{\\infty} \\exp (-\\delta t)\\left[\n",
        "\\underbrace{-\\frac{\\zeta}{2}\\left[\\sum_i^i\\left(U_t^i+V_t^i\\right)\\right]^2}_{\\text{term 1}}+\\underbrace{ P^e \\sum_{i=1}^I \\dot{X}_t^i }_{\\text{term 2}}\\underbrace{-P^e \\kappa \\sum_{i=1}^I Z_t^i+P_t^a \\sum_i \\theta^i Z_t^i}_{\\text{term 3}}\\right] d t\\right\\}\n",
        "$$\n",
        "\n",
        "### Steps\n",
        "\n",
        "1. **Initialization**: The function starts by initializing the objective to `0` and a counter `j` to `0`.\n",
        "\n",
        "2. **Pre-calculation**: To optimize the function, some quantities that will be reused in the loop are pre-calculated. This includes a ones matrix of size `(1, 25)` and the transpose of a slice of the `ds_vect` vector.\n",
        "\n",
        "3. **Loop**: The function then enters a loop that iterates `2**T_u` times. In each iteration, it checks if the first element of the `ith` row of `price_matrix` is equal to `p`. If true, it computes several quantities using the `jth` Z and Y variables, multiplies these quantities by the `ith` probability from `prob_matrix`, and adds the result to the objective. After each successful operation, `j` is incremented.\n",
        "\n",
        "4. **Return Statement**: After the loop finishes, the function returns the computed objective.\n"
      ]
    },
    {
      "cell_type": "code",
      "execution_count": null,
      "metadata": {
        "id": "_OMKCaumMaKV"
      },
      "outputs": [],
      "source": [
        "def objective_constructor(p, prob_matrix, T_u, ZO, Y ) :\n",
        "    objective = 0\n",
        "    j=0\n",
        "\n",
        "    # Sum1 is the sum over the sites (row)\n",
        "    # Sum2 is the sum over the sites (column)\n",
        "    for i in range(2**(T_u+1)):\n",
        "        if price_matrix[i,0] == p:\n",
        "\n",
        "            term_1 = sum2(ds_vect[0:N,:].T*(ZO[j]* ζ/2 ))\n",
        "            term_2 = - sum2(ds_vect[0:N,:].T*(Pe*Y[j][-2,1:] - Pe*Y[j][-2,0:-1]  ))\n",
        "            term_3 = - sum1(sum2(ds_vect.T*(price_matrix[i:i+1,:]*θ_list - Pe*κ )*Y[j][0:n,:]))\n",
        "\n",
        "            objective = objective +  prob_matrix[i,0]*(term_1 + term_2 + term_3)\n",
        "            j=j+1\n",
        "    return objective\n",
        "\n",
        "objective=objective_constructor(Pa_2, prob_matrix, T_u, ZO, Y)"
      ]
    },
    {
      "cell_type": "markdown",
      "metadata": {
        "id": "8pQjcNmTYpY1"
      },
      "source": [
        "## 2.3 Performing Finite Horizon Optimization using Casadi"
      ]
    },
    {
      "cell_type": "code",
      "execution_count": null,
      "metadata": {
        "colab": {
          "base_uri": "https://localhost:8080/"
        },
        "id": "3IOquKInMgSE",
        "outputId": "ca9a6143-383c-405d-c2bf-d3d7cf0d7e3c"
      },
      "outputs": [],
      "source": [
        "opti.minimize(objective)\n",
        "\n",
        "# solve optimization problem\n",
        "options = dict()\n",
        "options[\"print_time\"] = True\n",
        "options[\"expand\"]     = True\n",
        "options[\"ipopt\"]      = {\n",
        "                    'print_level': 5,\n",
        "                    'fast_step_computation':            'yes',\n",
        "                    'mu_allow_fast_monotone_decrease':  'yes',\n",
        "                    'warm_start_init_point':            'yes',\n",
        "                        }\n",
        "opti.solver('ipopt',options)\n",
        "\n",
        "t1 = time.time()\n",
        "opti.set_value(ic,vertcat(Z0_list,np.sum(X0_list),1))\n",
        "sol = opti.solve()\n",
        "disp(f'Initial, time: {time.time()-t1}')\n"
      ]
    },
    {
      "cell_type": "markdown",
      "metadata": {
        "id": "zwBzWa4GMovG"
      },
      "source": [
        "# 3 Model Predictive Control Optimization\n",
        "\n",
        "---\n",
        "## 3.1 Introduction of MPC\n",
        "The provided Python script is a representation of a Model Predictive Control (MPC) optimization routine, a popular strategy in control theory. MPC utilizes an optimization routine at each time step to determine the optimal control inputs, achieved by minimizing a defined cost or objective function.\n",
        "\n",
        "MPC operates on a receding horizon strategy, meaning it uses current state measurements to solve an optimization problem over a finite future time period or horizon. Here's a step-by-step explanation of how it works:\n",
        "\n",
        "### Steps\n",
        "1. System Modeling: MPC requires a predictive model of the system. This model describes how the system evolves over time given current state and control inputs. Models can be derived from first principles (physics-based) or identified from experimental data (data-driven models such as machine learning algorithms).\n",
        "\n",
        "2. Formulation of the Optimization Problem: The core of MPC is the optimization problem, which is formulated in terms of an objective function to be minimized. This function is often the sum of the deviations of the system output from a desired setpoint (tracking errors) and the control effort (to keep actuation smooth and avoid excessive wear and tear on the system). Constraints are also incorporated, which may represent physical limits of the system (like actuator saturation) or safety requirements.\n",
        "\n",
        "3. Solving the Optimization Problem: At each control step, using the current state of the system as initial conditions, MPC solves the optimization problem over a prediction horizon extending into the future. The solution is a sequence of optimal control actions that minimize the cost function over the prediction horizon while satisfying the constraints. (ADD STOCHASTIC HORIZON STUFF)\n",
        "\n",
        "4. Implementation of Control Action: Only the first control action from the optimal sequence is implemented, and the system moves to the next state.\n",
        "\n",
        "5. Receding Horizon Strategy: The horizon moves forward in time (hence \"receding horizon\"), and the procedure is repeated at the next time step: the new current state of the system is measured, a new optimization problem is solved over the shifted horizon, the first control action is implemented, and so on. This receding horizon strategy allows MPC to react to new measurements and disturbances, providing feedback control.\n",
        "\n",
        "## 3.2 Implementing the MPC\n",
        "\n",
        "### 3.2.1 Defining Inputs, Outputs, and Initial State Variables\n",
        "\n",
        "The script commences by defining the inputs and outputs for the optimization routine. The inputs comprise the initial conditions, the decision variables, and the Lagrange multipliers for constraints. The outputs, on the other hand, are the optimal solutions to the problem and the updated decision variables and multipliers.\n",
        "\n"
      ]
    },
    {
      "cell_type": "code",
      "execution_count": null,
      "metadata": {
        "id": "KDpEGNalb4RE"
      },
      "outputs": [],
      "source": [
        "inputs = [ic,opti.x, opti.lam_g]\n",
        "outputs = [U[0][0],V[0][0],opti.x, opti.lam_g]\n",
        "current_x = vertcat(Z0_list,np.sum(X0_list),1)"
      ]
    },
    {
      "cell_type": "markdown",
      "metadata": {
        "id": "hATrTZEwbrqm"
      },
      "source": [
        "### 3.2.2 Constructing Objective Function and Converting Optimization to Function\n",
        "\n",
        "In the next segment of the code, an objective function is constructed, which is later minimized. This process is performed twice to create two distinct MPC steps, one for each price level.\n"
      ]
    },
    {
      "cell_type": "code",
      "execution_count": null,
      "metadata": {
        "colab": {
          "base_uri": "https://localhost:8080/"
        },
        "id": "insId3OFb9WE",
        "outputId": "c2fee357-43c1-4ae0-fe62-992f82539f32"
      },
      "outputs": [],
      "source": [
        "objective =objective_constructor(Pa_2,prob_matrix, T_u, ZO, Y)\n",
        "opti.minimize(objective)\n",
        "mpc_step_upper = opti.to_function('mpc_step_upper',inputs,outputs)\n",
        "print(mpc_step_upper)\n",
        "\n",
        "objective =objective_constructor(Pa_1,prob_matrix, T_u, ZO, Y)\n",
        "opti.minimize(objective)\n",
        "mpc_step_lower = opti.to_function('mpc_step_lower',inputs,outputs)\n",
        "print(mpc_step_lower)"
      ]
    },
    {
      "cell_type": "markdown",
      "metadata": {
        "id": "iV1KCzn6bsmv"
      },
      "source": [
        "\n",
        "### 3.2.3 Running the MPC\n",
        "\n",
        "Finally, the MPC is executed in a loop for a designated number of steps. At each step, it updates the history variables and the current state. Depending on the price history at each step, it either performs an upper or lower MPC step. It also calculates and displays the total time to perform each step. This allows users to track the performance and efficiency of the MPC routine.\n"
      ]
    },
    {
      "cell_type": "code",
      "execution_count": null,
      "metadata": {
        "colab": {
          "base_uri": "https://localhost:8080/"
        },
        "id": "pzeSjBFoMoXm",
        "outputId": "e07d566c-b4e4-436d-adab-574cb1817fdd"
      },
      "outputs": [],
      "source": [
        "# Taking the below price history as given markov series\n",
        "p_history  = np.array([Pa_2,Pa_2,Pa_2,Pa_2,Pa_2,Pa_2,Pa_2,Pa_2,Pa_2,Pa_2,Pa_1,Pa_1,Pa_1])\n",
        "\n",
        "## Optimization Time period\n",
        "nn = 12\n",
        "\n",
        "## Storing the results for state and controls over the whole optimization process\n",
        "x_history  = DM.zeros(n+2,nn+1)\n",
        "u_history  = DM.zeros(n,nn)\n",
        "\n",
        "um_history = DM.zeros(n,nn)\n",
        "up_history = DM.zeros(n,nn)\n",
        "\n",
        "up  = sol.value(U[0][0])\n",
        "um  = sol.value(V[0][0])\n",
        "\n",
        "x   = sol.value(opti.x)\n",
        "lam = sol.value(opti.lam_g)\n",
        "\n",
        "x_history[:,0] = current_x\n",
        "pre_price = Pa_2\n",
        "\n",
        "# Perform optimization 12 times\n",
        "t1 = time.time()\n",
        "for i in range(nn):\n",
        "    t0 = time.time()\n",
        "    u_history[:,i]  = up - um\n",
        "    um_history[:,i] = um\n",
        "    up_history[:,i] = up\n",
        "    current_x = F(current_x,um, up)\n",
        "    if p_history[i+1] == Pa_2:\n",
        "        [up,um,x,lam] = mpc_step_upper(current_x,x,lam)\n",
        "\n",
        "    elif p_history[i+1] == Pa_1:\n",
        "        [up,um,x,lam] = mpc_step_lower(current_x,x,lam)\n",
        "\n",
        "    x_history[:,i+1] = current_x\n",
        "    disp(f'Year: {i+1}, time: {time.time()-t0}')\n",
        "disp(f'Final, time: {time.time()-t1}')\n"
      ]
    },
    {
      "cell_type": "markdown",
      "metadata": {
        "id": "dnt7wwOnaBLg"
      },
      "source": [
        "## 3.3 Quantitative Results\n",
        "Below we plot the optimal lands faction for the argriculture as the time goes."
      ]
    },
    {
      "cell_type": "code",
      "execution_count": null,
      "metadata": {
        "colab": {
          "base_uri": "https://localhost:8080/",
          "height": 472
        },
        "id": "IqLJST0PMqvC",
        "outputId": "0b86ab21-fb28-4017-8ada-ffb350154daa"
      },
      "outputs": [],
      "source": [
        "plt.plot(x_history[0:n,:].T/z̄)\n",
        "plt.xlabel('Year')\n",
        "plt.ylabel('Z/z̄')\n",
        "plt.title('Fraction of lands used for agriculture, Z/z̄')\n",
        "plt.show()"
      ]
    },
    {
      "cell_type": "code",
      "execution_count": null,
      "metadata": {
        "id": "eb9DGGwCfxb_"
      },
      "outputs": [],
      "source": []
    }
  ],
  "metadata": {
    "colab": {
      "provenance": []
    },
    "kernelspec": {
      "display_name": "Python 3",
      "name": "python3"
    },
    "language_info": {
      "codemirror_mode": {
        "name": "ipython",
        "version": 3
      },
      "file_extension": ".py",
      "mimetype": "text/x-python",
      "name": "python",
      "nbconvert_exporter": "python",
      "pygments_lexer": "ipython3",
      "version": "3.10.9"
    }
  },
  "nbformat": 4,
  "nbformat_minor": 0
}
