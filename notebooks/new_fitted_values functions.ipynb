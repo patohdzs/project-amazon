{
  "cells": [
    {
      "cell_type": "code",
      "execution_count": 1,
      "metadata": {},
      "outputs": [
        {
          "name": "stdout",
          "output_type": "stream",
          "text": [
            "Importing MCMC Module: mcmc_sampling_original.py\n"
          ]
        }
      ],
      "source": [
        "from services.data_service import load_site_data, load_coef_prior_samples\n",
        "from solvers.stan import _gamma_reg_data, _prior_hyperparams\n",
        "import numpy as np"
      ]
    },
    {
      "cell_type": "code",
      "execution_count": 2,
      "metadata": {},
      "outputs": [
        {
          "name": "stdout",
          "output_type": "stream",
          "text": [
            "Data successfully loaded from '/Users/patriciohernandez/Projects/project-amazon/data/hmc/hmc_10SitesModel.csv'\n"
          ]
        }
      ],
      "source": [
        "# Load sites' data\n",
        "(\n",
        "    zbar_2017,\n",
        "    gamma_vals,\n",
        "    z_2017,\n",
        "    forestArea_2017_ha,\n",
        "    theta_vals,\n",
        "    gamma_coe,\n",
        "    theta_coe,\n",
        "    gamma_vcov_array,\n",
        "    theta_vcov_array,\n",
        "    site_theta_2017_df,\n",
        "    gamma_data,\n",
        ") = load_site_data(\n",
        "    10,\n",
        "    norm_fac=1e11,\n",
        ")"
      ]
    },
    {
      "cell_type": "code",
      "execution_count": 3,
      "metadata": {},
      "outputs": [
        {
          "data": {
            "text/html": [
              "<div>\n",
              "<style scoped>\n",
              "    .dataframe tbody tr th:only-of-type {\n",
              "        vertical-align: middle;\n",
              "    }\n",
              "\n",
              "    .dataframe tbody tr th {\n",
              "        vertical-align: top;\n",
              "    }\n",
              "\n",
              "    .dataframe thead th {\n",
              "        text-align: right;\n",
              "    }\n",
              "</style>\n",
              "<table border=\"1\" class=\"dataframe\">\n",
              "  <thead>\n",
              "    <tr style=\"text-align: right;\">\n",
              "      <th></th>\n",
              "      <th>id</th>\n",
              "      <th>X1</th>\n",
              "      <th>log_historical_precip</th>\n",
              "      <th>log_historical_temp</th>\n",
              "      <th>log_lat</th>\n",
              "      <th>log_lon</th>\n",
              "      <th>log_co2e_ha_2017</th>\n",
              "    </tr>\n",
              "  </thead>\n",
              "  <tbody>\n",
              "    <tr>\n",
              "      <th>0</th>\n",
              "      <td>1</td>\n",
              "      <td>1.0</td>\n",
              "      <td>1.878234</td>\n",
              "      <td>0.143973</td>\n",
              "      <td>0.538545</td>\n",
              "      <td>-2.053358</td>\n",
              "      <td>6.402935</td>\n",
              "    </tr>\n",
              "    <tr>\n",
              "      <th>1</th>\n",
              "      <td>5</td>\n",
              "      <td>1.0</td>\n",
              "      <td>1.878234</td>\n",
              "      <td>0.143973</td>\n",
              "      <td>0.538545</td>\n",
              "      <td>-2.053358</td>\n",
              "      <td>6.402935</td>\n",
              "    </tr>\n",
              "    <tr>\n",
              "      <th>2</th>\n",
              "      <td>1</td>\n",
              "      <td>1.0</td>\n",
              "      <td>2.231335</td>\n",
              "      <td>0.756389</td>\n",
              "      <td>0.737510</td>\n",
              "      <td>-1.713487</td>\n",
              "      <td>6.280606</td>\n",
              "    </tr>\n",
              "    <tr>\n",
              "      <th>3</th>\n",
              "      <td>2</td>\n",
              "      <td>1.0</td>\n",
              "      <td>2.231335</td>\n",
              "      <td>0.756389</td>\n",
              "      <td>0.737510</td>\n",
              "      <td>-1.713487</td>\n",
              "      <td>6.280606</td>\n",
              "    </tr>\n",
              "    <tr>\n",
              "      <th>4</th>\n",
              "      <td>1</td>\n",
              "      <td>1.0</td>\n",
              "      <td>2.632470</td>\n",
              "      <td>0.058021</td>\n",
              "      <td>0.899028</td>\n",
              "      <td>-2.063787</td>\n",
              "      <td>6.351144</td>\n",
              "    </tr>\n",
              "    <tr>\n",
              "      <th>...</th>\n",
              "      <td>...</td>\n",
              "      <td>...</td>\n",
              "      <td>...</td>\n",
              "      <td>...</td>\n",
              "      <td>...</td>\n",
              "      <td>...</td>\n",
              "      <td>...</td>\n",
              "    </tr>\n",
              "    <tr>\n",
              "      <th>706</th>\n",
              "      <td>10</td>\n",
              "      <td>1.0</td>\n",
              "      <td>-0.787115</td>\n",
              "      <td>-2.680370</td>\n",
              "      <td>-1.674977</td>\n",
              "      <td>0.076929</td>\n",
              "      <td>5.858993</td>\n",
              "    </tr>\n",
              "    <tr>\n",
              "      <th>707</th>\n",
              "      <td>10</td>\n",
              "      <td>1.0</td>\n",
              "      <td>-0.977783</td>\n",
              "      <td>0.007994</td>\n",
              "      <td>-1.341355</td>\n",
              "      <td>0.359586</td>\n",
              "      <td>5.757545</td>\n",
              "    </tr>\n",
              "    <tr>\n",
              "      <th>708</th>\n",
              "      <td>10</td>\n",
              "      <td>1.0</td>\n",
              "      <td>-1.313858</td>\n",
              "      <td>-1.150901</td>\n",
              "      <td>-1.596220</td>\n",
              "      <td>0.281716</td>\n",
              "      <td>5.722272</td>\n",
              "    </tr>\n",
              "    <tr>\n",
              "      <th>709</th>\n",
              "      <td>10</td>\n",
              "      <td>1.0</td>\n",
              "      <td>-1.323875</td>\n",
              "      <td>-0.029895</td>\n",
              "      <td>-1.492230</td>\n",
              "      <td>0.378806</td>\n",
              "      <td>5.731415</td>\n",
              "    </tr>\n",
              "    <tr>\n",
              "      <th>710</th>\n",
              "      <td>10</td>\n",
              "      <td>1.0</td>\n",
              "      <td>-1.038164</td>\n",
              "      <td>0.665235</td>\n",
              "      <td>-1.297767</td>\n",
              "      <td>0.403658</td>\n",
              "      <td>5.160738</td>\n",
              "    </tr>\n",
              "  </tbody>\n",
              "</table>\n",
              "<p>711 rows × 7 columns</p>\n",
              "</div>"
            ],
            "text/plain": [
              "     id   X1  log_historical_precip  log_historical_temp   log_lat   log_lon  \\\n",
              "0     1  1.0               1.878234             0.143973  0.538545 -2.053358   \n",
              "1     5  1.0               1.878234             0.143973  0.538545 -2.053358   \n",
              "2     1  1.0               2.231335             0.756389  0.737510 -1.713487   \n",
              "3     2  1.0               2.231335             0.756389  0.737510 -1.713487   \n",
              "4     1  1.0               2.632470             0.058021  0.899028 -2.063787   \n",
              "..   ..  ...                    ...                  ...       ...       ...   \n",
              "706  10  1.0              -0.787115            -2.680370 -1.674977  0.076929   \n",
              "707  10  1.0              -0.977783             0.007994 -1.341355  0.359586   \n",
              "708  10  1.0              -1.313858            -1.150901 -1.596220  0.281716   \n",
              "709  10  1.0              -1.323875            -0.029895 -1.492230  0.378806   \n",
              "710  10  1.0              -1.038164             0.665235 -1.297767  0.403658   \n",
              "\n",
              "     log_co2e_ha_2017  \n",
              "0            6.402935  \n",
              "1            6.402935  \n",
              "2            6.280606  \n",
              "3            6.280606  \n",
              "4            6.351144  \n",
              "..                ...  \n",
              "706          5.858993  \n",
              "707          5.757545  \n",
              "708          5.722272  \n",
              "709          5.731415  \n",
              "710          5.160738  \n",
              "\n",
              "[711 rows x 7 columns]"
            ]
          },
          "execution_count": 3,
          "metadata": {},
          "output_type": "execute_result"
        }
      ],
      "source": [
        "gamma_data"
      ]
    },
    {
      "cell_type": "code",
      "execution_count": 4,
      "metadata": {},
      "outputs": [],
      "source": [
        "y_gamma, X_gamma, N_gamma, K_gamma, G_gamma = _gamma_reg_data(10, gamma_data)"
      ]
    },
    {
      "cell_type": "code",
      "execution_count": 5,
      "metadata": {},
      "outputs": [
        {
          "data": {
            "text/plain": [
              "689"
            ]
          },
          "execution_count": 5,
          "metadata": {},
          "output_type": "execute_result"
        }
      ],
      "source": [
        "N_gamma"
      ]
    },
    {
      "cell_type": "code",
      "execution_count": 6,
      "metadata": {},
      "outputs": [],
      "source": [
        "I = _prior_hyperparams(y_gamma, X_gamma, \"gamma\")[\"inv_Lambda_gamma\"]"
      ]
    },
    {
      "cell_type": "code",
      "execution_count": 7,
      "metadata": {},
      "outputs": [],
      "source": [
        "mu = _prior_hyperparams(y_gamma, X_gamma, \"gamma\")[\"mu_gamma\"]"
      ]
    },
    {
      "cell_type": "code",
      "execution_count": 8,
      "metadata": {},
      "outputs": [
        {
          "data": {
            "text/plain": [
              "array([ 5.97269898,  0.06393967, -0.14306778,  0.19394488, -0.28280561])"
            ]
          },
          "execution_count": 8,
          "metadata": {},
          "output_type": "execute_result"
        }
      ],
      "source": [
        "mu"
      ]
    },
    {
      "cell_type": "code",
      "execution_count": null,
      "metadata": {},
      "outputs": [],
      "source": [
        "gamma_coe"
      ]
    },
    {
      "cell_type": "code",
      "execution_count": null,
      "metadata": {},
      "outputs": [],
      "source": [
        "np.cov(beta_gamma_prior_samples).shape"
      ]
    },
    {
      "cell_type": "code",
      "execution_count": null,
      "metadata": {},
      "outputs": [],
      "source": [
        "gamma_fitted(gamma_coe, gamma_data)"
      ]
    },
    {
      "cell_type": "code",
      "execution_count": null,
      "metadata": {},
      "outputs": [],
      "source": [
        "gamma_fitted(mu, gamma_data)"
      ]
    },
    {
      "cell_type": "code",
      "execution_count": null,
      "metadata": {},
      "outputs": [],
      "source": [
        "_, beta_gamma_prior_samples = load_coef_prior_samples()"
      ]
    },
    {
      "cell_type": "code",
      "execution_count": null,
      "metadata": {},
      "outputs": [],
      "source": [
        "def gamma_fitted(gamma_coe, gamma_dataframe):\n",
        "    # Copy df\n",
        "    gamma_data = gamma_dataframe.copy()\n",
        "\n",
        "    # Compute fitted values\n",
        "    gamma_data[\"fitted_value\"] = np.exp(\n",
        "        (gamma_data.iloc[:, 1:6] * gamma_coe).sum(axis=1)\n",
        "    )\n",
        "\n",
        "    # Subset columns\n",
        "    gamma_data = gamma_data[[\"id\", \"fitted_value\"]]\n",
        "\n",
        "    # Group by id and compute weighted mean for each group\n",
        "    result = (\n",
        "        gamma_data.groupby(\"id\")[\"fitted_value\"]\n",
        "        .mean()\n",
        "        .reset_index(name=\"gamma2017_Sites\")\n",
        "    )\n",
        "    return result[\"gamma2017_Sites\"].to_numpy()"
      ]
    },
    {
      "cell_type": "code",
      "execution_count": null,
      "metadata": {},
      "outputs": [],
      "source": [
        "def new_gamma_fitted(gamma_coe, gamma_dataframe):\n",
        "    # Copy df\n",
        "    gamma_data = gamma_dataframe.copy()\n",
        "\n",
        "    # Compute fitted values\n",
        "    fitted = np.exp((gamma_data.iloc[:, 1:6] * gamma_coe).sum(axis=1))\n",
        "\n",
        "    # Averaging matrix\n",
        "    G = np.array([(gamma_data[\"id\"].to_numpy() == i).astype(int) for i in range(1, 11)])\n",
        "    G = G / G.sum(axis=1, keepdims=True)\n",
        "    print(G)\n",
        "    return G @ fitted"
      ]
    },
    {
      "cell_type": "code",
      "execution_count": null,
      "metadata": {},
      "outputs": [],
      "source": [
        "gamma_fitted(gamma_coe, gamma_data)"
      ]
    },
    {
      "cell_type": "code",
      "execution_count": null,
      "metadata": {},
      "outputs": [],
      "source": [
        "new_gamma_fitted(gamma_coe, gamma_data)"
      ]
    },
    {
      "cell_type": "code",
      "execution_count": null,
      "metadata": {},
      "outputs": [],
      "source": [
        "def theta_fitted(theta_coe, theta_dataframe):\n",
        "    # Copy df\n",
        "    theta_data = theta_dataframe.copy()\n",
        "\n",
        "    # Compute fitted values\n",
        "    theta_data[\"fitted_value\"] = np.exp(\n",
        "        (theta_data.iloc[:, 1:9] * theta_coe).sum(axis=1)\n",
        "    )\n",
        "\n",
        "    # Subset and filter\n",
        "    theta_data = theta_data[[\"id\", \"zbar_2017_muni\", \"fitted_value\"]]\n",
        "    theta_data = theta_data[theta_data[\"zbar_2017_muni\"].notna()]\n",
        "\n",
        "    # Weighted average function\n",
        "    aux_price_2017 = 44.9736197781184\n",
        "\n",
        "    def weighted_mean(group):\n",
        "        return np.average(\n",
        "            group[\"fitted_value\"] / aux_price_2017, weights=group[\"zbar_2017_muni\"]\n",
        "        )\n",
        "\n",
        "    # Take weighted average\n",
        "    result = (\n",
        "        theta_data.groupby(\"id\")\n",
        "        .apply(weighted_mean)\n",
        "        .reset_index(name=\"theta2017_Sites\")\n",
        "    )\n",
        "\n",
        "    # Return as numpy array\n",
        "    return result[\"theta2017_Sites\"].to_numpy()"
      ]
    },
    {
      "cell_type": "code",
      "execution_count": null,
      "metadata": {},
      "outputs": [],
      "source": [
        "def new_theta_fitted(theta_coe, theta_dataframe):\n",
        "    # Copy df\n",
        "    theta_data = theta_dataframe.copy()\n",
        "\n",
        "    # Filter out NA\n",
        "    theta_data = theta_data[theta_data[\"zbar_2017_muni\"].notna()]\n",
        "\n",
        "    # Compute fitted values\n",
        "    fitted = np.exp((theta_data.iloc[:, 1:9] * theta_coe).sum(axis=1))\n",
        "\n",
        "    # Weighted average function\n",
        "    aux_price_2017 = 44.9736197781184\n",
        "\n",
        "    # Averaging matrix\n",
        "    G = np.array([(theta_data[\"id\"].to_numpy() == i).astype(int) for i in range(1, 11)])\n",
        "\n",
        "    # Multily by weights\n",
        "    G = theta_data[\"zbar_2017_muni\"].to_numpy() * G\n",
        "    G = G / G.sum(axis=1, keepdims=True)\n",
        "\n",
        "    print(G.shape)\n",
        "    return (G @ fitted) / aux_price_2017"
      ]
    },
    {
      "cell_type": "code",
      "execution_count": null,
      "metadata": {},
      "outputs": [],
      "source": [
        "theta_fitted(theta_coe=theta_coe, theta_dataframe=site_theta_2017_df).flatten()"
      ]
    },
    {
      "cell_type": "code",
      "execution_count": null,
      "metadata": {},
      "outputs": [],
      "source": [
        "new_theta_fitted(theta_coe=theta_coe, theta_dataframe=site_theta_2017_df).flatten()"
      ]
    }
  ],
  "metadata": {
    "kernelspec": {
      "display_name": "venv",
      "language": "python",
      "name": "python3"
    },
    "language_info": {
      "codemirror_mode": {
        "name": "ipython",
        "version": 3
      },
      "file_extension": ".py",
      "mimetype": "text/x-python",
      "name": "python",
      "nbconvert_exporter": "python",
      "pygments_lexer": "ipython3",
      "version": "3.10.9"
    },
    "orig_nbformat": 4
  },
  "nbformat": 4,
  "nbformat_minor": 2
}
