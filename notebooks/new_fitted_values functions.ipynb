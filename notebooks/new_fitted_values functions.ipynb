{
  "cells": [
    {
      "cell_type": "code",
      "execution_count": 1,
      "metadata": {},
      "outputs": [],
      "source": [
        "from services.data_service import load_site_data\n",
        "import numpy as np"
      ]
    },
    {
      "cell_type": "code",
      "execution_count": 2,
      "metadata": {},
      "outputs": [
        {
          "name": "stdout",
          "output_type": "stream",
          "text": [
            "Data successfully loaded from '/Users/patriciohernandez/Projects/project-amazon/data/hmc/calibration_10SitesModel.csv'\n"
          ]
        }
      ],
      "source": [
        "# Load sites' data\n",
        "(\n",
        "    zbar_2017,\n",
        "    gamma_vals,\n",
        "    z_2017,\n",
        "    forestArea_2017_ha,\n",
        "    theta_vals,\n",
        "    gamma_coe,\n",
        "    gamma_coe_sd,\n",
        "    theta_coe,\n",
        "    theta_coe_sd,\n",
        "    gamma_vcov_array,\n",
        "    theta_vcov_array,\n",
        "    site_theta_2017_df,\n",
        "    gamma_data,\n",
        ") = load_site_data(\n",
        "    10,\n",
        "    norm_fac=1e11,\n",
        ")"
      ]
    },
    {
      "cell_type": "code",
      "execution_count": 8,
      "metadata": {},
      "outputs": [
        {
          "data": {
            "text/html": [
              "<div>\n",
              "<style scoped>\n",
              "    .dataframe tbody tr th:only-of-type {\n",
              "        vertical-align: middle;\n",
              "    }\n",
              "\n",
              "    .dataframe tbody tr th {\n",
              "        vertical-align: top;\n",
              "    }\n",
              "\n",
              "    .dataframe thead th {\n",
              "        text-align: right;\n",
              "    }\n",
              "</style>\n",
              "<table border=\"1\" class=\"dataframe\">\n",
              "  <thead>\n",
              "    <tr style=\"text-align: right;\">\n",
              "      <th></th>\n",
              "      <th>id</th>\n",
              "      <th>X1</th>\n",
              "      <th>historical_precip</th>\n",
              "      <th>historical_temp</th>\n",
              "      <th>I.historical_temp.2.</th>\n",
              "      <th>lat</th>\n",
              "      <th>I.lat.2.</th>\n",
              "      <th>cattleSlaughter_farmGatePrice_2017</th>\n",
              "      <th>distance</th>\n",
              "      <th>zbar_2017_muni</th>\n",
              "    </tr>\n",
              "  </thead>\n",
              "  <tbody>\n",
              "    <tr>\n",
              "      <th>0</th>\n",
              "      <td>1</td>\n",
              "      <td>1.01511</td>\n",
              "      <td>1.319569</td>\n",
              "      <td>1.028325</td>\n",
              "      <td>1.030690</td>\n",
              "      <td>1.036532</td>\n",
              "      <td>1.064609</td>\n",
              "      <td>0.991444</td>\n",
              "      <td>2.144612</td>\n",
              "      <td>4.556219e+05</td>\n",
              "    </tr>\n",
              "    <tr>\n",
              "      <th>1</th>\n",
              "      <td>5</td>\n",
              "      <td>1.01511</td>\n",
              "      <td>1.319569</td>\n",
              "      <td>1.028325</td>\n",
              "      <td>1.030690</td>\n",
              "      <td>1.036532</td>\n",
              "      <td>1.064609</td>\n",
              "      <td>0.991444</td>\n",
              "      <td>2.144612</td>\n",
              "      <td>4.556219e+05</td>\n",
              "    </tr>\n",
              "    <tr>\n",
              "      <th>2</th>\n",
              "      <td>1</td>\n",
              "      <td>1.01511</td>\n",
              "      <td>1.407192</td>\n",
              "      <td>1.048532</td>\n",
              "      <td>1.071596</td>\n",
              "      <td>1.048171</td>\n",
              "      <td>1.088652</td>\n",
              "      <td>0.922197</td>\n",
              "      <td>1.599137</td>\n",
              "      <td>1.181881e+06</td>\n",
              "    </tr>\n",
              "    <tr>\n",
              "      <th>3</th>\n",
              "      <td>2</td>\n",
              "      <td>1.01511</td>\n",
              "      <td>1.407192</td>\n",
              "      <td>1.048532</td>\n",
              "      <td>1.071596</td>\n",
              "      <td>1.048171</td>\n",
              "      <td>1.088652</td>\n",
              "      <td>0.922197</td>\n",
              "      <td>1.599137</td>\n",
              "      <td>1.181881e+06</td>\n",
              "    </tr>\n",
              "    <tr>\n",
              "      <th>4</th>\n",
              "      <td>1</td>\n",
              "      <td>1.01511</td>\n",
              "      <td>1.513815</td>\n",
              "      <td>1.025520</td>\n",
              "      <td>1.025076</td>\n",
              "      <td>1.057716</td>\n",
              "      <td>1.108569</td>\n",
              "      <td>0.992270</td>\n",
              "      <td>1.757139</td>\n",
              "      <td>5.606640e+06</td>\n",
              "    </tr>\n",
              "    <tr>\n",
              "      <th>...</th>\n",
              "      <td>...</td>\n",
              "      <td>...</td>\n",
              "      <td>...</td>\n",
              "      <td>...</td>\n",
              "      <td>...</td>\n",
              "      <td>...</td>\n",
              "      <td>...</td>\n",
              "      <td>...</td>\n",
              "      <td>...</td>\n",
              "      <td>...</td>\n",
              "    </tr>\n",
              "    <tr>\n",
              "      <th>682</th>\n",
              "      <td>10</td>\n",
              "      <td>1.01511</td>\n",
              "      <td>0.763280</td>\n",
              "      <td>0.941764</td>\n",
              "      <td>0.864474</td>\n",
              "      <td>0.907094</td>\n",
              "      <td>0.815322</td>\n",
              "      <td>1.123952</td>\n",
              "      <td>0.860028</td>\n",
              "      <td>2.018173e+05</td>\n",
              "    </tr>\n",
              "    <tr>\n",
              "      <th>683</th>\n",
              "      <td>10</td>\n",
              "      <td>1.01511</td>\n",
              "      <td>0.796777</td>\n",
              "      <td>0.960331</td>\n",
              "      <td>0.898895</td>\n",
              "      <td>0.907236</td>\n",
              "      <td>0.815577</td>\n",
              "      <td>1.445564</td>\n",
              "      <td>0.347741</td>\n",
              "      <td>1.144672e+05</td>\n",
              "    </tr>\n",
              "    <tr>\n",
              "      <th>684</th>\n",
              "      <td>10</td>\n",
              "      <td>1.01511</td>\n",
              "      <td>0.812216</td>\n",
              "      <td>0.940058</td>\n",
              "      <td>0.861343</td>\n",
              "      <td>0.915442</td>\n",
              "      <td>0.830398</td>\n",
              "      <td>1.290441</td>\n",
              "      <td>0.601604</td>\n",
              "      <td>1.287097e+06</td>\n",
              "    </tr>\n",
              "    <tr>\n",
              "      <th>685</th>\n",
              "      <td>10</td>\n",
              "      <td>1.01511</td>\n",
              "      <td>0.737937</td>\n",
              "      <td>0.986873</td>\n",
              "      <td>0.949270</td>\n",
              "      <td>0.919497</td>\n",
              "      <td>0.837771</td>\n",
              "      <td>1.108330</td>\n",
              "      <td>1.110184</td>\n",
              "      <td>5.881073e+05</td>\n",
              "    </tr>\n",
              "    <tr>\n",
              "      <th>686</th>\n",
              "      <td>10</td>\n",
              "      <td>1.01511</td>\n",
              "      <td>0.736593</td>\n",
              "      <td>1.022660</td>\n",
              "      <td>1.019364</td>\n",
              "      <td>0.924879</td>\n",
              "      <td>0.847607</td>\n",
              "      <td>0.626160</td>\n",
              "      <td>1.289931</td>\n",
              "      <td>5.656621e+05</td>\n",
              "    </tr>\n",
              "  </tbody>\n",
              "</table>\n",
              "<p>687 rows × 10 columns</p>\n",
              "</div>"
            ],
            "text/plain": [
              "     id       X1  historical_precip  historical_temp  I.historical_temp.2.  \\\n",
              "0     1  1.01511           1.319569         1.028325              1.030690   \n",
              "1     5  1.01511           1.319569         1.028325              1.030690   \n",
              "2     1  1.01511           1.407192         1.048532              1.071596   \n",
              "3     2  1.01511           1.407192         1.048532              1.071596   \n",
              "4     1  1.01511           1.513815         1.025520              1.025076   \n",
              "..   ..      ...                ...              ...                   ...   \n",
              "682  10  1.01511           0.763280         0.941764              0.864474   \n",
              "683  10  1.01511           0.796777         0.960331              0.898895   \n",
              "684  10  1.01511           0.812216         0.940058              0.861343   \n",
              "685  10  1.01511           0.737937         0.986873              0.949270   \n",
              "686  10  1.01511           0.736593         1.022660              1.019364   \n",
              "\n",
              "          lat  I.lat.2.  cattleSlaughter_farmGatePrice_2017  distance  \\\n",
              "0    1.036532  1.064609                            0.991444  2.144612   \n",
              "1    1.036532  1.064609                            0.991444  2.144612   \n",
              "2    1.048171  1.088652                            0.922197  1.599137   \n",
              "3    1.048171  1.088652                            0.922197  1.599137   \n",
              "4    1.057716  1.108569                            0.992270  1.757139   \n",
              "..        ...       ...                                 ...       ...   \n",
              "682  0.907094  0.815322                            1.123952  0.860028   \n",
              "683  0.907236  0.815577                            1.445564  0.347741   \n",
              "684  0.915442  0.830398                            1.290441  0.601604   \n",
              "685  0.919497  0.837771                            1.108330  1.110184   \n",
              "686  0.924879  0.847607                            0.626160  1.289931   \n",
              "\n",
              "     zbar_2017_muni  \n",
              "0      4.556219e+05  \n",
              "1      4.556219e+05  \n",
              "2      1.181881e+06  \n",
              "3      1.181881e+06  \n",
              "4      5.606640e+06  \n",
              "..              ...  \n",
              "682    2.018173e+05  \n",
              "683    1.144672e+05  \n",
              "684    1.287097e+06  \n",
              "685    5.881073e+05  \n",
              "686    5.656621e+05  \n",
              "\n",
              "[687 rows x 10 columns]"
            ]
          },
          "execution_count": 8,
          "metadata": {},
          "output_type": "execute_result"
        }
      ],
      "source": [
        "site_theta_2017_df"
      ]
    },
    {
      "cell_type": "code",
      "execution_count": 4,
      "metadata": {},
      "outputs": [],
      "source": [
        "def gamma_fitted(gamma_coe, gamma_dataframe):\n",
        "    # Copy df\n",
        "    gamma_data = gamma_dataframe.copy()\n",
        "\n",
        "    # Compute fitted values\n",
        "    gamma_data[\"fitted_value\"] = np.exp(\n",
        "        (gamma_data.iloc[:, 1:6] * gamma_coe).sum(axis=1)\n",
        "    )\n",
        "\n",
        "    # Subset columns\n",
        "    gamma_data = gamma_data[[\"id\", \"fitted_value\"]]\n",
        "\n",
        "    # Group by id and compute weighted mean for each group\n",
        "    result = (\n",
        "        gamma_data.groupby(\"id\")[\"fitted_value\"]\n",
        "        .mean()\n",
        "        .reset_index(name=\"gamma2017_Sites\")\n",
        "    )\n",
        "    return result[\"gamma2017_Sites\"].to_numpy()"
      ]
    },
    {
      "cell_type": "code",
      "execution_count": 5,
      "metadata": {},
      "outputs": [],
      "source": [
        "def new_gamma_fitted(gamma_coe, gamma_dataframe):\n",
        "    # Copy df\n",
        "    gamma_data = gamma_dataframe.copy()\n",
        "\n",
        "    # Compute fitted values\n",
        "    fitted = np.exp((gamma_data.iloc[:, 1:6] * gamma_coe).sum(axis=1))\n",
        "\n",
        "    # Averaging matrix\n",
        "    G = np.array([(gamma_data[\"id\"].to_numpy() == i).astype(int) for i in range(1, 11)])\n",
        "    G = G / G.sum(axis=1, keepdims=True)\n",
        "    print(G)\n",
        "    return G @ fitted"
      ]
    },
    {
      "cell_type": "code",
      "execution_count": 6,
      "metadata": {},
      "outputs": [
        {
          "data": {
            "text/plain": [
              "array([844.7341586 , 574.09119512, 413.27406825, 319.21193319,\n",
              "       760.31541328, 493.2070635 , 330.92917782, 268.47542448,\n",
              "       392.09250508, 344.99956016])"
            ]
          },
          "execution_count": 6,
          "metadata": {},
          "output_type": "execute_result"
        }
      ],
      "source": [
        "gamma_fitted(gamma_coe, gamma_data)"
      ]
    },
    {
      "cell_type": "code",
      "execution_count": 7,
      "metadata": {},
      "outputs": [
        {
          "name": "stdout",
          "output_type": "stream",
          "text": [
            "[[0.08333333 0.         0.08333333 ... 0.         0.         0.        ]\n",
            " [0.         0.         0.         ... 0.         0.         0.        ]\n",
            " [0.         0.         0.         ... 0.         0.         0.        ]\n",
            " ...\n",
            " [0.         0.         0.         ... 0.         0.         0.        ]\n",
            " [0.         0.         0.         ... 0.         0.         0.        ]\n",
            " [0.         0.         0.         ... 0.02702703 0.02702703 0.02702703]]\n"
          ]
        },
        {
          "data": {
            "text/plain": [
              "array([844.7341586 , 574.09119512, 413.27406825, 319.21193319,\n",
              "       760.31541328, 493.2070635 , 330.92917782, 268.47542448,\n",
              "       392.09250508, 344.99956016])"
            ]
          },
          "execution_count": 7,
          "metadata": {},
          "output_type": "execute_result"
        }
      ],
      "source": [
        "new_gamma_fitted(gamma_coe, gamma_data)"
      ]
    },
    {
      "cell_type": "code",
      "execution_count": 9,
      "metadata": {},
      "outputs": [],
      "source": [
        "def theta_fitted(theta_coe, theta_dataframe):\n",
        "    # Copy df\n",
        "    theta_data = theta_dataframe.copy()\n",
        "\n",
        "    # Compute fitted values\n",
        "    theta_data[\"fitted_value\"] = np.exp(\n",
        "        (theta_data.iloc[:, 1:9] * theta_coe).sum(axis=1)\n",
        "    )\n",
        "\n",
        "    # Subset and filter\n",
        "    theta_data = theta_data[[\"id\", \"zbar_2017_muni\", \"fitted_value\"]]\n",
        "    theta_data = theta_data[theta_data[\"zbar_2017_muni\"].notna()]\n",
        "\n",
        "    # Weighted average function\n",
        "    aux_price_2017 = 44.9736197781184\n",
        "\n",
        "    def weighted_mean(group):\n",
        "        return np.average(\n",
        "            group[\"fitted_value\"] / aux_price_2017, weights=group[\"zbar_2017_muni\"]\n",
        "        )\n",
        "\n",
        "    # Take weighted average\n",
        "    result = (\n",
        "        theta_data.groupby(\"id\")\n",
        "        .apply(weighted_mean)\n",
        "        .reset_index(name=\"theta2017_Sites\")\n",
        "    )\n",
        "\n",
        "    # Return as numpy array\n",
        "    return result[\"theta2017_Sites\"].to_numpy()"
      ]
    },
    {
      "cell_type": "code",
      "execution_count": 44,
      "metadata": {},
      "outputs": [],
      "source": [
        "def new_theta_fitted(theta_coe, theta_dataframe):\n",
        "    # Copy df\n",
        "    theta_data = theta_dataframe.copy()\n",
        "\n",
        "    # Compute fitted values\n",
        "    fitted = np.exp((theta_data.iloc[:, 1:9] * theta_coe).sum(axis=1))\n",
        "\n",
        "    # Weighted average function\n",
        "    aux_price_2017 = 44.9736197781184\n",
        "\n",
        "    # Averaging matrix\n",
        "    G = np.array([(theta_data[\"id\"].to_numpy() == i).astype(int) for i in range(1, 11)])\n",
        "    \n",
        "    # Multily by weights\n",
        "    #G = theta_data[\"zbar_2017_muni\"].to_numpy() * G\n",
        "    print(G.sum(axis=1, keepdims=True))\n",
        "    \n",
        "    \n",
        "    G = G / G.sum(axis=1, keepdims=True)\n",
        "\n",
        "    \n",
        "\n",
        "    print(G.shape)\n",
        "    return (G @ fitted) / aux_price_2017"
      ]
    },
    {
      "cell_type": "code",
      "execution_count": 23,
      "metadata": {},
      "outputs": [
        {
          "data": {
            "text/plain": [
              "array([0.66715948, 0.72877452, 0.65893955, 1.12851283, 1.57180292,\n",
              "       1.53836421, 1.53313501, 1.87627255, 2.10084797, 2.65624448])"
            ]
          },
          "execution_count": 23,
          "metadata": {},
          "output_type": "execute_result"
        }
      ],
      "source": [
        "theta_fitted(theta_coe=theta_coe, theta_dataframe=site_theta_2017_df).flatten()"
      ]
    },
    {
      "cell_type": "code",
      "execution_count": 45,
      "metadata": {},
      "outputs": [
        {
          "name": "stdout",
          "output_type": "stream",
          "text": [
            "[[ 12]\n",
            " [ 45]\n",
            " [ 70]\n",
            " [117]\n",
            " [ 45]\n",
            " [ 86]\n",
            " [119]\n",
            " [106]\n",
            " [ 56]\n",
            " [ 31]]\n",
            "(10, 687)\n"
          ]
        },
        {
          "data": {
            "text/plain": [
              "array([0.7026527 , 0.66498835, 0.61273959, 0.86658357, 1.43302788,\n",
              "       1.48626726, 1.93168886, 1.71595256, 2.18693469, 2.59085416])"
            ]
          },
          "execution_count": 45,
          "metadata": {},
          "output_type": "execute_result"
        }
      ],
      "source": [
        "new_theta_fitted(theta_coe=theta_coe, theta_dataframe=site_theta_2017_df).flatten()"
      ]
    }
  ],
  "metadata": {
    "kernelspec": {
      "display_name": "venv",
      "language": "python",
      "name": "python3"
    },
    "language_info": {
      "codemirror_mode": {
        "name": "ipython",
        "version": 3
      },
      "file_extension": ".py",
      "mimetype": "text/x-python",
      "name": "python",
      "nbconvert_exporter": "python",
      "pygments_lexer": "ipython3",
      "version": "3.10.9"
    },
    "orig_nbformat": 4
  },
  "nbformat": 4,
  "nbformat_minor": 2
}
