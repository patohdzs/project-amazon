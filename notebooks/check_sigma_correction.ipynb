{
  "cells": [
    {
      "cell_type": "code",
      "execution_count": null,
      "metadata": {},
      "outputs": [],
      "source": [
        "import pandas as pd\n",
        "import numpy as np\n",
        "import pickle"
      ]
    },
    {
      "cell_type": "code",
      "execution_count": null,
      "metadata": {},
      "outputs": [],
      "source": [
        "fp = \"../output/model_full_model_v3/xi_2.0/pf_21.5/pa_42.03/weight_0.25/sitenum_78/timehzn_200/results.pcl\"\n",
        "\n",
        "with open(fp, \"rb\") as f:\n",
        "    # Load the data from the file\n",
        "    results = pickle.load(f)\n",
        "\n",
        "fit = results[\"fit_tracker\"][-1].T"
      ]
    },
    {
      "cell_type": "markdown",
      "metadata": {},
      "source": [
        "## Sigma^2"
      ]
    },
    {
      "cell_type": "code",
      "execution_count": null,
      "metadata": {},
      "outputs": [],
      "source": [
        "np.exp(0.504624/2)"
      ]
    },
    {
      "cell_type": "code",
      "execution_count": null,
      "metadata": {},
      "outputs": [],
      "source": [
        "fit[[\"sigma_sq_theta\", \"sigma_sq_gamma\"]]"
      ]
    },
    {
      "cell_type": "markdown",
      "metadata": {},
      "source": [
        "## Theta params"
      ]
    },
    {
      "cell_type": "code",
      "execution_count": null,
      "metadata": {},
      "outputs": [],
      "source": [
        "cols = [s for s in fit.columns if \"beta_theta\" in s]\n",
        "fit[cols]"
      ]
    },
    {
      "cell_type": "code",
      "execution_count": 3,
      "metadata": {},
      "outputs": [],
      "source": [
        "from pysrc.services.data_service import load_site_data\n",
        "from pysrc.sampling.baseline import baseline_hyperparams,  _theta_muni_reg_data"
      ]
    },
    {
      "cell_type": "code",
      "execution_count": 2,
      "metadata": {},
      "outputs": [
        {
          "name": "stdout",
          "output_type": "stream",
          "text": [
            "Data successfully loaded from /Users/ph2696/Projects/project-amazon/data/hmc\n"
          ]
        }
      ],
      "source": [
        "num_sites = 78\n",
        "(\n",
        "    zbar_2017,\n",
        "    gamma,\n",
        "    z_2017,\n",
        "    forestArea_2017_ha,\n",
        "    theta,\n",
        "    _,\n",
        "    _,\n",
        "    municipal_theta_df,\n",
        "    municipal_gamma_df,\n",
        ") = load_site_data(num_sites)"
      ]
    },
    {
      "cell_type": "code",
      "execution_count": 11,
      "metadata": {},
      "outputs": [
        {
          "data": {
            "text/plain": [
              "array([[1.04176246, 0.        , 0.        , ..., 0.        , 0.        ,\n",
              "        0.        ],\n",
              "       [0.        , 1.42006493, 0.        , ..., 0.        , 0.        ,\n",
              "        0.        ],\n",
              "       [0.        , 0.        , 0.59463798, ..., 0.        , 0.        ,\n",
              "        0.        ],\n",
              "       ...,\n",
              "       [0.        , 0.        , 0.        , ..., 0.97243518, 0.        ,\n",
              "        0.        ],\n",
              "       [0.        , 0.        , 0.        , ..., 0.        , 1.338458  ,\n",
              "        0.        ],\n",
              "       [0.        , 0.        , 0.        , ..., 0.        , 0.        ,\n",
              "        1.08491287]])"
            ]
          },
          "execution_count": 11,
          "metadata": {},
          "output_type": "execute_result"
        }
      ],
      "source": [
        "W = _theta_muni_reg_data(municipal_theta_df)[2]\n",
        "W.shape[0] * W / (W.trace())"
      ]
    },
    {
      "cell_type": "code",
      "execution_count": null,
      "metadata": {},
      "outputs": [],
      "source": [
        "Q = baseline_hyperparams(municipal_theta_df, \"theta\")[\"inv_Q_theta\"]\n",
        "Q"
      ]
    }
  ],
  "metadata": {
    "kernelspec": {
      "display_name": "venv",
      "language": "python",
      "name": "python3"
    },
    "language_info": {
      "codemirror_mode": {
        "name": "ipython",
        "version": 3
      },
      "file_extension": ".py",
      "mimetype": "text/x-python",
      "name": "python",
      "nbconvert_exporter": "python",
      "pygments_lexer": "ipython3",
      "version": "3.10.9"
    }
  },
  "nbformat": 4,
  "nbformat_minor": 2
}
