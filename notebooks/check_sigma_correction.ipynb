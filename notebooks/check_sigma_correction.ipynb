{
  "cells": [
    {
      "cell_type": "code",
      "execution_count": 1,
      "metadata": {},
      "outputs": [],
      "source": [
        "import pandas as pd\n",
        "import numpy as np\n",
        "import pickle"
      ]
    },
    {
      "cell_type": "code",
      "execution_count": 2,
      "metadata": {},
      "outputs": [],
      "source": [
        "fp = \"../output/model_full_model_v3/xi_2.0/pf_21.5/pa_42.03/weight_0.25/sitenum_78/timehzn_200/results.pcl\"\n",
        "\n",
        "with open(fp, \"rb\") as f:\n",
        "    # Load the data from the file\n",
        "    results = pickle.load(f)\n",
        "\n",
        "fit = results[\"fit_tracker\"][-1].T"
      ]
    },
    {
      "cell_type": "markdown",
      "metadata": {},
      "source": [
        "## Sigma^2"
      ]
    },
    {
      "cell_type": "code",
      "execution_count": 3,
      "metadata": {},
      "outputs": [
        {
          "data": {
            "text/plain": [
              "1.2869975178761888"
            ]
          },
          "execution_count": 3,
          "metadata": {},
          "output_type": "execute_result"
        }
      ],
      "source": [
        "np.exp(0.504624/2)"
      ]
    },
    {
      "cell_type": "code",
      "execution_count": 4,
      "metadata": {},
      "outputs": [
        {
          "data": {
            "text/html": [
              "<div>\n",
              "<style scoped>\n",
              "    .dataframe tbody tr th:only-of-type {\n",
              "        vertical-align: middle;\n",
              "    }\n",
              "\n",
              "    .dataframe tbody tr th {\n",
              "        vertical-align: top;\n",
              "    }\n",
              "\n",
              "    .dataframe thead th {\n",
              "        text-align: right;\n",
              "    }\n",
              "</style>\n",
              "<table border=\"1\" class=\"dataframe\">\n",
              "  <thead>\n",
              "    <tr style=\"text-align: right;\">\n",
              "      <th></th>\n",
              "      <th>sigma_sq_theta</th>\n",
              "      <th>sigma_sq_gamma</th>\n",
              "    </tr>\n",
              "  </thead>\n",
              "  <tbody>\n",
              "    <tr>\n",
              "      <th>Mean</th>\n",
              "      <td>0.488821</td>\n",
              "      <td>0.105952</td>\n",
              "    </tr>\n",
              "    <tr>\n",
              "      <th>MCSE</th>\n",
              "      <td>0.000481</td>\n",
              "      <td>0.000099</td>\n",
              "    </tr>\n",
              "    <tr>\n",
              "      <th>StdDev</th>\n",
              "      <td>0.030304</td>\n",
              "      <td>0.006477</td>\n",
              "    </tr>\n",
              "    <tr>\n",
              "      <th>5%</th>\n",
              "      <td>0.441656</td>\n",
              "      <td>0.095943</td>\n",
              "    </tr>\n",
              "    <tr>\n",
              "      <th>50%</th>\n",
              "      <td>0.487556</td>\n",
              "      <td>0.105620</td>\n",
              "    </tr>\n",
              "    <tr>\n",
              "      <th>95%</th>\n",
              "      <td>0.540089</td>\n",
              "      <td>0.116874</td>\n",
              "    </tr>\n",
              "    <tr>\n",
              "      <th>N_Eff</th>\n",
              "      <td>3961.230000</td>\n",
              "      <td>4274.625189</td>\n",
              "    </tr>\n",
              "    <tr>\n",
              "      <th>N_Eff/s</th>\n",
              "      <td>0.202507</td>\n",
              "      <td>0.218529</td>\n",
              "    </tr>\n",
              "    <tr>\n",
              "      <th>R_hat</th>\n",
              "      <td>1.000010</td>\n",
              "      <td>0.999662</td>\n",
              "    </tr>\n",
              "  </tbody>\n",
              "</table>\n",
              "</div>"
            ],
            "text/plain": [
              "         sigma_sq_theta  sigma_sq_gamma\n",
              "Mean           0.488821        0.105952\n",
              "MCSE           0.000481        0.000099\n",
              "StdDev         0.030304        0.006477\n",
              "5%             0.441656        0.095943\n",
              "50%            0.487556        0.105620\n",
              "95%            0.540089        0.116874\n",
              "N_Eff       3961.230000     4274.625189\n",
              "N_Eff/s        0.202507        0.218529\n",
              "R_hat          1.000010        0.999662"
            ]
          },
          "execution_count": 4,
          "metadata": {},
          "output_type": "execute_result"
        }
      ],
      "source": [
        "fit[[\"sigma_sq_theta\", \"sigma_sq_gamma\"]]"
      ]
    },
    {
      "cell_type": "markdown",
      "metadata": {},
      "source": [
        "## Theta params"
      ]
    },
    {
      "cell_type": "code",
      "execution_count": 5,
      "metadata": {},
      "outputs": [
        {
          "data": {
            "text/html": [
              "<div>\n",
              "<style scoped>\n",
              "    .dataframe tbody tr th:only-of-type {\n",
              "        vertical-align: middle;\n",
              "    }\n",
              "\n",
              "    .dataframe tbody tr th {\n",
              "        vertical-align: top;\n",
              "    }\n",
              "\n",
              "    .dataframe thead th {\n",
              "        text-align: right;\n",
              "    }\n",
              "</style>\n",
              "<table border=\"1\" class=\"dataframe\">\n",
              "  <thead>\n",
              "    <tr style=\"text-align: right;\">\n",
              "      <th></th>\n",
              "      <th>beta_theta[1]</th>\n",
              "      <th>beta_theta[2]</th>\n",
              "      <th>beta_theta[3]</th>\n",
              "      <th>beta_theta[4]</th>\n",
              "      <th>beta_theta[5]</th>\n",
              "      <th>beta_theta[6]</th>\n",
              "      <th>beta_theta[7]</th>\n",
              "      <th>beta_theta[8]</th>\n",
              "    </tr>\n",
              "  </thead>\n",
              "  <tbody>\n",
              "    <tr>\n",
              "      <th>Mean</th>\n",
              "      <td>4.075940</td>\n",
              "      <td>-0.030707</td>\n",
              "      <td>2.220650</td>\n",
              "      <td>-2.319800</td>\n",
              "      <td>4.199260</td>\n",
              "      <td>-4.280120</td>\n",
              "      <td>0.469497</td>\n",
              "      <td>-0.042574</td>\n",
              "    </tr>\n",
              "    <tr>\n",
              "      <th>MCSE</th>\n",
              "      <td>0.000487</td>\n",
              "      <td>0.000690</td>\n",
              "      <td>0.036823</td>\n",
              "      <td>0.036841</td>\n",
              "      <td>0.026418</td>\n",
              "      <td>0.026354</td>\n",
              "      <td>0.000524</td>\n",
              "      <td>0.000619</td>\n",
              "    </tr>\n",
              "    <tr>\n",
              "      <th>StdDev</th>\n",
              "      <td>0.033167</td>\n",
              "      <td>0.042128</td>\n",
              "      <td>1.755740</td>\n",
              "      <td>1.756850</td>\n",
              "      <td>1.181130</td>\n",
              "      <td>1.178800</td>\n",
              "      <td>0.035793</td>\n",
              "      <td>0.037750</td>\n",
              "    </tr>\n",
              "    <tr>\n",
              "      <th>5%</th>\n",
              "      <td>4.021990</td>\n",
              "      <td>-0.099010</td>\n",
              "      <td>-0.709637</td>\n",
              "      <td>-5.219400</td>\n",
              "      <td>2.239430</td>\n",
              "      <td>-6.200300</td>\n",
              "      <td>0.410331</td>\n",
              "      <td>-0.106156</td>\n",
              "    </tr>\n",
              "    <tr>\n",
              "      <th>50%</th>\n",
              "      <td>4.075390</td>\n",
              "      <td>-0.031558</td>\n",
              "      <td>2.208490</td>\n",
              "      <td>-2.310790</td>\n",
              "      <td>4.186940</td>\n",
              "      <td>-4.267700</td>\n",
              "      <td>0.469659</td>\n",
              "      <td>-0.042122</td>\n",
              "    </tr>\n",
              "    <tr>\n",
              "      <th>95%</th>\n",
              "      <td>4.129660</td>\n",
              "      <td>0.038610</td>\n",
              "      <td>5.096960</td>\n",
              "      <td>0.620325</td>\n",
              "      <td>6.127350</td>\n",
              "      <td>-2.339780</td>\n",
              "      <td>0.527969</td>\n",
              "      <td>0.019498</td>\n",
              "    </tr>\n",
              "    <tr>\n",
              "      <th>N_Eff</th>\n",
              "      <td>4631.120000</td>\n",
              "      <td>3728.960000</td>\n",
              "      <td>2273.460000</td>\n",
              "      <td>2274.090000</td>\n",
              "      <td>1998.910000</td>\n",
              "      <td>2000.650000</td>\n",
              "      <td>4663.480000</td>\n",
              "      <td>3714.480000</td>\n",
              "    </tr>\n",
              "    <tr>\n",
              "      <th>N_Eff/s</th>\n",
              "      <td>0.236753</td>\n",
              "      <td>0.190633</td>\n",
              "      <td>0.116224</td>\n",
              "      <td>0.116257</td>\n",
              "      <td>0.102189</td>\n",
              "      <td>0.102278</td>\n",
              "      <td>0.238408</td>\n",
              "      <td>0.189893</td>\n",
              "    </tr>\n",
              "    <tr>\n",
              "      <th>R_hat</th>\n",
              "      <td>0.999965</td>\n",
              "      <td>0.999460</td>\n",
              "      <td>1.001010</td>\n",
              "      <td>1.001030</td>\n",
              "      <td>0.999751</td>\n",
              "      <td>0.999746</td>\n",
              "      <td>0.999794</td>\n",
              "      <td>0.999912</td>\n",
              "    </tr>\n",
              "  </tbody>\n",
              "</table>\n",
              "</div>"
            ],
            "text/plain": [
              "         beta_theta[1]  beta_theta[2]  beta_theta[3]  beta_theta[4]  \\\n",
              "Mean          4.075940      -0.030707       2.220650      -2.319800   \n",
              "MCSE          0.000487       0.000690       0.036823       0.036841   \n",
              "StdDev        0.033167       0.042128       1.755740       1.756850   \n",
              "5%            4.021990      -0.099010      -0.709637      -5.219400   \n",
              "50%           4.075390      -0.031558       2.208490      -2.310790   \n",
              "95%           4.129660       0.038610       5.096960       0.620325   \n",
              "N_Eff      4631.120000    3728.960000    2273.460000    2274.090000   \n",
              "N_Eff/s       0.236753       0.190633       0.116224       0.116257   \n",
              "R_hat         0.999965       0.999460       1.001010       1.001030   \n",
              "\n",
              "         beta_theta[5]  beta_theta[6]  beta_theta[7]  beta_theta[8]  \n",
              "Mean          4.199260      -4.280120       0.469497      -0.042574  \n",
              "MCSE          0.026418       0.026354       0.000524       0.000619  \n",
              "StdDev        1.181130       1.178800       0.035793       0.037750  \n",
              "5%            2.239430      -6.200300       0.410331      -0.106156  \n",
              "50%           4.186940      -4.267700       0.469659      -0.042122  \n",
              "95%           6.127350      -2.339780       0.527969       0.019498  \n",
              "N_Eff      1998.910000    2000.650000    4663.480000    3714.480000  \n",
              "N_Eff/s       0.102189       0.102278       0.238408       0.189893  \n",
              "R_hat         0.999751       0.999746       0.999794       0.999912  "
            ]
          },
          "execution_count": 5,
          "metadata": {},
          "output_type": "execute_result"
        }
      ],
      "source": [
        "cols = [s for s in fit.columns if \"beta_theta\" in s]\n",
        "fit[cols]"
      ]
    },
    {
      "cell_type": "code",
      "execution_count": 6,
      "metadata": {},
      "outputs": [
        {
          "name": "stderr",
          "output_type": "stream",
          "text": [
            "/Users/ph2696/Projects/project-amazon/venv/lib/python3.10/site-packages/tqdm/auto.py:21: TqdmWarning: IProgress not found. Please update jupyter and ipywidgets. See https://ipywidgets.readthedocs.io/en/stable/user_install.html\n",
            "  from .autonotebook import tqdm as notebook_tqdm\n"
          ]
        }
      ],
      "source": [
        "from pysrc.services.data_service import load_site_data\n",
        "from pysrc.sampling.baseline import baseline_hyperparams"
      ]
    },
    {
      "cell_type": "code",
      "execution_count": 7,
      "metadata": {},
      "outputs": [
        {
          "name": "stdout",
          "output_type": "stream",
          "text": [
            "Data successfully loaded from /Users/ph2696/Projects/project-amazon/data/hmc\n"
          ]
        }
      ],
      "source": [
        "num_sites = 78\n",
        "(\n",
        "    zbar_2017,\n",
        "    gamma,\n",
        "    z_2017,\n",
        "    forestArea_2017_ha,\n",
        "    theta,\n",
        "    _,\n",
        "    _,\n",
        "    municipal_theta_df,\n",
        "    municipal_gamma_df,\n",
        ") = load_site_data(num_sites)"
      ]
    },
    {
      "cell_type": "code",
      "execution_count": 8,
      "metadata": {},
      "outputs": [
        {
          "data": {
            "text/plain": [
              "array([[ 2.22256698e-03,  3.46266858e-04,  3.90674517e-04,\n",
              "        -2.94260836e-04, -1.43341349e-03,  1.48621153e-03,\n",
              "        -1.24270324e-05, -6.77630517e-05],\n",
              "       [ 3.46266858e-04,  3.49693617e-03, -5.71004516e-03,\n",
              "         5.79175877e-03,  5.71277289e-03, -7.21994023e-03,\n",
              "         1.93637701e-04, -2.57772512e-04],\n",
              "       [ 3.90674517e-04, -5.71004516e-03,  6.50349947e+00,\n",
              "        -6.49440075e+00, -1.03113101e+00,  1.01171474e+00,\n",
              "        -7.28536466e-03, -2.85756892e-02],\n",
              "       [-2.94260836e-04,  5.79175877e-03, -6.49440075e+00,\n",
              "         6.48948288e+00,  1.00106139e+00, -9.84440300e-01,\n",
              "         7.28732332e-03,  2.90199901e-02],\n",
              "       [-1.43341349e-03,  5.71277289e-03, -1.03113101e+00,\n",
              "         1.00106139e+00,  3.00504668e+00, -2.99134635e+00,\n",
              "         6.94971883e-03, -2.26603777e-02],\n",
              "       [ 1.48621153e-03, -7.21994023e-03,  1.01171474e+00,\n",
              "        -9.84440300e-01, -2.99134635e+00,  2.98294112e+00,\n",
              "        -5.91075259e-03,  2.32696564e-02],\n",
              "       [-1.24270324e-05,  1.93637701e-04, -7.28536466e-03,\n",
              "         7.28732332e-03,  6.94971883e-03, -5.91075259e-03,\n",
              "         2.60409488e-03,  7.69051330e-05],\n",
              "       [-6.77630517e-05, -2.57772512e-04, -2.85756892e-02,\n",
              "         2.90199901e-02, -2.26603777e-02,  2.32696564e-02,\n",
              "         7.69051330e-05,  2.98754724e-03]])"
            ]
          },
          "execution_count": 8,
          "metadata": {},
          "output_type": "execute_result"
        }
      ],
      "source": [
        "Q = baseline_hyperparams(municipal_theta_df, \"theta\")[\"inv_Q_theta\"]\n",
        "Q"
      ]
    }
  ],
  "metadata": {
    "kernelspec": {
      "display_name": "venv",
      "language": "python",
      "name": "python3"
    },
    "language_info": {
      "codemirror_mode": {
        "name": "ipython",
        "version": 3
      },
      "file_extension": ".py",
      "mimetype": "text/x-python",
      "name": "python",
      "nbconvert_exporter": "python",
      "pygments_lexer": "ipython3",
      "version": "3.10.9"
    }
  },
  "nbformat": 4,
  "nbformat_minor": 2
}
