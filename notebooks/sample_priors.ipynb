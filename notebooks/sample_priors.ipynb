{
  "cells": [
    {
      "cell_type": "code",
      "execution_count": null,
      "metadata": {},
      "outputs": [],
      "source": [
        "import numpy as np\n",
        "import stan\n",
        "import nest_asyncio\n",
        "\n",
        "from services.data_service import load_site_data\n",
        "from solvers.stan import _theta_reg_data, _prior_hyperparams, _gamma_reg_data\n",
        "\n",
        "nest_asyncio.apply()"
      ]
    },
    {
      "cell_type": "code",
      "execution_count": null,
      "metadata": {},
      "outputs": [],
      "source": [
        "# Load sites' data\n",
        "(\n",
        "    zbar_2017,\n",
        "    gamma_vals,\n",
        "    z_2017,\n",
        "    forestArea_2017_ha,\n",
        "    theta_vals,\n",
        "    gamma_coe_mean,\n",
        "    theta_coe_mean,\n",
        "    gamma_coe_vcov,\n",
        "    theta_coe_vcov,\n",
        "    theta_data,\n",
        "    gamma_data,\n",
        ") = load_site_data(\n",
        "    10,\n",
        "    norm_fac=1e11,\n",
        ")"
      ]
    },
    {
      "cell_type": "code",
      "execution_count": null,
      "metadata": {},
      "outputs": [],
      "source": [
        "with open(\"../stan_models/full_model/priors.stan\") as f:\n",
        "    model_code = f.read()\n",
        "\n",
        "y_theta, X_theta, N_theta, K_theta, G_theta = _theta_reg_data(10, theta_data)\n",
        "y_gamma, X_gamma, N_gamma, K_gamma, G_gamma = _gamma_reg_data(10, gamma_data)\n",
        "\n",
        "model_data = dict(\n",
        "    S=10,\n",
        "    K_theta=K_theta,\n",
        "    K_gamma=K_gamma,\n",
        "    N_theta=N_theta,\n",
        "    N_gamma=N_gamma,\n",
        "    X_theta=X_theta,\n",
        "    X_gamma=X_gamma,\n",
        "    G_theta=G_theta,\n",
        "    G_gamma=G_gamma,\n",
        "    pa_2017=44.9736197781184,\n",
        "    **_prior_hyperparams(y_theta, X_theta, \"theta\"),\n",
        "    **_prior_hyperparams(y_gamma, X_gamma, \"gamma\"),\n",
        ")\n",
        "\n",
        "# Compiling model\n",
        "sampler = stan.build(program_code=model_code, data=model_data, random_seed=1)\n",
        "fit = sampler.fixed_param(num_samples=1000)"
      ]
    },
    {
      "cell_type": "code",
      "execution_count": null,
      "metadata": {},
      "outputs": [],
      "source": [
        "fit[\"gamma\"].T.shape"
      ]
    }
  ],
  "metadata": {
    "kernelspec": {
      "display_name": "venv",
      "language": "python",
      "name": "python3"
    },
    "language_info": {
      "codemirror_mode": {
        "name": "ipython",
        "version": 3
      },
      "file_extension": ".py",
      "mimetype": "text/x-python",
      "name": "python",
      "nbconvert_exporter": "python",
      "pygments_lexer": "ipython3",
      "version": "3.10.9"
    }
  },
  "nbformat": 4,
  "nbformat_minor": 2
}
