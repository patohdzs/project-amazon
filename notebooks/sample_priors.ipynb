{
  "cells": [
    {
      "cell_type": "code",
      "execution_count": 1,
      "metadata": {},
      "outputs": [
        {
          "name": "stdout",
          "output_type": "stream",
          "text": [
            "Importing MCMC Module: mcmc_sampling_original.py\n"
          ]
        }
      ],
      "source": [
        "import numpy as np\n",
        "import stan\n",
        "import nest_asyncio\n",
        "import asyncio\n",
        "\n",
        "from services.data_service import load_site_data\n",
        "from solvers.stan import _theta_reg_data, _prior_hyperparams, _gamma_reg_data"
      ]
    },
    {
      "cell_type": "code",
      "execution_count": 2,
      "metadata": {},
      "outputs": [
        {
          "name": "stdout",
          "output_type": "stream",
          "text": [
            "Data successfully loaded from '/Users/patricioh/Projects/project-amazon/data/hmc/hmc_10SitesModel.csv'\n"
          ]
        }
      ],
      "source": [
        "# Load sites' data\n",
        "(\n",
        "    zbar_2017,\n",
        "    gamma_vals,\n",
        "    z_2017,\n",
        "    forestArea_2017_ha,\n",
        "    theta_vals,\n",
        "    gamma_coe_mean,\n",
        "    theta_coe_mean,\n",
        "    gamma_coe_vcov,\n",
        "    theta_coe_vcov,\n",
        "    theta_data,\n",
        "    gamma_data,\n",
        ") = load_site_data(\n",
        "    10,\n",
        "    norm_fac=1e11,\n",
        ")"
      ]
    },
    {
      "cell_type": "code",
      "execution_count": 3,
      "metadata": {},
      "outputs": [],
      "source": [
        "with open('../stan_models/full_model/priors.stan') as f:\n",
        "        model_code = f.read()"
      ]
    },
    {
      "cell_type": "code",
      "execution_count": 4,
      "metadata": {},
      "outputs": [
        {
          "ename": "KeyError",
          "evalue": "'log_cattleSlaughter_valuePerHa_2017'",
          "output_type": "error",
          "traceback": [
            "\u001b[0;31m---------------------------------------------------------------------------\u001b[0m",
            "\u001b[0;31mKeyError\u001b[0m                                  Traceback (most recent call last)",
            "File \u001b[0;32m~/Projects/project-amazon/venv/lib/python3.11/site-packages/pandas/core/indexes/base.py:3790\u001b[0m, in \u001b[0;36mIndex.get_loc\u001b[0;34m(self, key)\u001b[0m\n\u001b[1;32m   3789\u001b[0m \u001b[39mtry\u001b[39;00m:\n\u001b[0;32m-> 3790\u001b[0m     \u001b[39mreturn\u001b[39;00m \u001b[39mself\u001b[39;49m\u001b[39m.\u001b[39;49m_engine\u001b[39m.\u001b[39;49mget_loc(casted_key)\n\u001b[1;32m   3791\u001b[0m \u001b[39mexcept\u001b[39;00m \u001b[39mKeyError\u001b[39;00m \u001b[39mas\u001b[39;00m err:\n",
            "File \u001b[0;32mindex.pyx:152\u001b[0m, in \u001b[0;36mpandas._libs.index.IndexEngine.get_loc\u001b[0;34m()\u001b[0m\n",
            "File \u001b[0;32mindex.pyx:181\u001b[0m, in \u001b[0;36mpandas._libs.index.IndexEngine.get_loc\u001b[0;34m()\u001b[0m\n",
            "File \u001b[0;32mpandas/_libs/hashtable_class_helper.pxi:7080\u001b[0m, in \u001b[0;36mpandas._libs.hashtable.PyObjectHashTable.get_item\u001b[0;34m()\u001b[0m\n",
            "File \u001b[0;32mpandas/_libs/hashtable_class_helper.pxi:7088\u001b[0m, in \u001b[0;36mpandas._libs.hashtable.PyObjectHashTable.get_item\u001b[0;34m()\u001b[0m\n",
            "\u001b[0;31mKeyError\u001b[0m: 'log_cattleSlaughter_valuePerHa_2017'",
            "\nThe above exception was the direct cause of the following exception:\n",
            "\u001b[0;31mKeyError\u001b[0m                                  Traceback (most recent call last)",
            "\u001b[1;32m/Users/patricioh/Projects/project-amazon/notebooks/sample_priors.ipynb Cell 4\u001b[0m line \u001b[0;36m1\n\u001b[0;32m----> <a href='vscode-notebook-cell:/Users/patricioh/Projects/project-amazon/notebooks/sample_priors.ipynb#W2sZmlsZQ%3D%3D?line=0'>1</a>\u001b[0m y_theta, X_theta, N_theta, K_theta, G_theta \u001b[39m=\u001b[39m _theta_reg_data(\u001b[39m10\u001b[39;49m, theta_data)\n\u001b[1;32m      <a href='vscode-notebook-cell:/Users/patricioh/Projects/project-amazon/notebooks/sample_priors.ipynb#W2sZmlsZQ%3D%3D?line=1'>2</a>\u001b[0m y_gamma, X_gamma, N_gamma, K_gamma, G_gamma \u001b[39m=\u001b[39m _gamma_reg_data(\u001b[39m10\u001b[39m, gamma_data)\n\u001b[1;32m      <a href='vscode-notebook-cell:/Users/patricioh/Projects/project-amazon/notebooks/sample_priors.ipynb#W2sZmlsZQ%3D%3D?line=3'>4</a>\u001b[0m model_data \u001b[39m=\u001b[39m \u001b[39mdict\u001b[39m(\n\u001b[1;32m      <a href='vscode-notebook-cell:/Users/patricioh/Projects/project-amazon/notebooks/sample_priors.ipynb#W2sZmlsZQ%3D%3D?line=4'>5</a>\u001b[0m     S\u001b[39m=\u001b[39m\u001b[39m10\u001b[39m,\n\u001b[1;32m      <a href='vscode-notebook-cell:/Users/patricioh/Projects/project-amazon/notebooks/sample_priors.ipynb#W2sZmlsZQ%3D%3D?line=5'>6</a>\u001b[0m     K_theta\u001b[39m=\u001b[39mK_theta,\n\u001b[0;32m   (...)\u001b[0m\n\u001b[1;32m     <a href='vscode-notebook-cell:/Users/patricioh/Projects/project-amazon/notebooks/sample_priors.ipynb#W2sZmlsZQ%3D%3D?line=13'>14</a>\u001b[0m     \u001b[39m*\u001b[39m\u001b[39m*\u001b[39m_prior_hyperparams(y_gamma, X_gamma, \u001b[39m\"\u001b[39m\u001b[39mgamma\u001b[39m\u001b[39m\"\u001b[39m),\n\u001b[1;32m     <a href='vscode-notebook-cell:/Users/patricioh/Projects/project-amazon/notebooks/sample_priors.ipynb#W2sZmlsZQ%3D%3D?line=14'>15</a>\u001b[0m )\n",
            "File \u001b[0;32m~/Projects/project-amazon/src/solvers/stan.py:358\u001b[0m, in \u001b[0;36m_theta_reg_data\u001b[0;34m(num_sites, theta_df)\u001b[0m\n\u001b[1;32m    355\u001b[0m theta_df \u001b[39m=\u001b[39m theta_df[theta_df[\u001b[39m\"\u001b[39m\u001b[39mzbar_2017_muni\u001b[39m\u001b[39m\"\u001b[39m]\u001b[39m.\u001b[39mnotna()]\n\u001b[1;32m    357\u001b[0m \u001b[39m# Get outcome\u001b[39;00m\n\u001b[0;32m--> 358\u001b[0m y_theta \u001b[39m=\u001b[39m theta_df[\u001b[39m\"\u001b[39;49m\u001b[39mlog_cattleSlaughter_valuePerHa_2017\u001b[39;49m\u001b[39m\"\u001b[39;49m]\u001b[39m.\u001b[39mto_numpy()\n\u001b[1;32m    360\u001b[0m \u001b[39m# Get regression design matrix and its dimensions\u001b[39;00m\n\u001b[1;32m    361\u001b[0m X_theta \u001b[39m=\u001b[39m theta_df\u001b[39m.\u001b[39miloc[:, \u001b[39m1\u001b[39m:\u001b[39m9\u001b[39m]\u001b[39m.\u001b[39mto_numpy()\n",
            "File \u001b[0;32m~/Projects/project-amazon/venv/lib/python3.11/site-packages/pandas/core/frame.py:3896\u001b[0m, in \u001b[0;36mDataFrame.__getitem__\u001b[0;34m(self, key)\u001b[0m\n\u001b[1;32m   3894\u001b[0m \u001b[39mif\u001b[39;00m \u001b[39mself\u001b[39m\u001b[39m.\u001b[39mcolumns\u001b[39m.\u001b[39mnlevels \u001b[39m>\u001b[39m \u001b[39m1\u001b[39m:\n\u001b[1;32m   3895\u001b[0m     \u001b[39mreturn\u001b[39;00m \u001b[39mself\u001b[39m\u001b[39m.\u001b[39m_getitem_multilevel(key)\n\u001b[0;32m-> 3896\u001b[0m indexer \u001b[39m=\u001b[39m \u001b[39mself\u001b[39;49m\u001b[39m.\u001b[39;49mcolumns\u001b[39m.\u001b[39;49mget_loc(key)\n\u001b[1;32m   3897\u001b[0m \u001b[39mif\u001b[39;00m is_integer(indexer):\n\u001b[1;32m   3898\u001b[0m     indexer \u001b[39m=\u001b[39m [indexer]\n",
            "File \u001b[0;32m~/Projects/project-amazon/venv/lib/python3.11/site-packages/pandas/core/indexes/base.py:3797\u001b[0m, in \u001b[0;36mIndex.get_loc\u001b[0;34m(self, key)\u001b[0m\n\u001b[1;32m   3792\u001b[0m     \u001b[39mif\u001b[39;00m \u001b[39misinstance\u001b[39m(casted_key, \u001b[39mslice\u001b[39m) \u001b[39mor\u001b[39;00m (\n\u001b[1;32m   3793\u001b[0m         \u001b[39misinstance\u001b[39m(casted_key, abc\u001b[39m.\u001b[39mIterable)\n\u001b[1;32m   3794\u001b[0m         \u001b[39mand\u001b[39;00m \u001b[39many\u001b[39m(\u001b[39misinstance\u001b[39m(x, \u001b[39mslice\u001b[39m) \u001b[39mfor\u001b[39;00m x \u001b[39min\u001b[39;00m casted_key)\n\u001b[1;32m   3795\u001b[0m     ):\n\u001b[1;32m   3796\u001b[0m         \u001b[39mraise\u001b[39;00m InvalidIndexError(key)\n\u001b[0;32m-> 3797\u001b[0m     \u001b[39mraise\u001b[39;00m \u001b[39mKeyError\u001b[39;00m(key) \u001b[39mfrom\u001b[39;00m \u001b[39merr\u001b[39;00m\n\u001b[1;32m   3798\u001b[0m \u001b[39mexcept\u001b[39;00m \u001b[39mTypeError\u001b[39;00m:\n\u001b[1;32m   3799\u001b[0m     \u001b[39m# If we have a listlike key, _check_indexing_error will raise\u001b[39;00m\n\u001b[1;32m   3800\u001b[0m     \u001b[39m#  InvalidIndexError. Otherwise we fall through and re-raise\u001b[39;00m\n\u001b[1;32m   3801\u001b[0m     \u001b[39m#  the TypeError.\u001b[39;00m\n\u001b[1;32m   3802\u001b[0m     \u001b[39mself\u001b[39m\u001b[39m.\u001b[39m_check_indexing_error(key)\n",
            "\u001b[0;31mKeyError\u001b[0m: 'log_cattleSlaughter_valuePerHa_2017'"
          ]
        }
      ],
      "source": [
        "y_theta, X_theta, N_theta, K_theta, G_theta = _theta_reg_data(10, theta_data)\n",
        "y_gamma, X_gamma, N_gamma, K_gamma, G_gamma = _gamma_reg_data(10, gamma_data)\n",
        "\n",
        "model_data = dict(\n",
        "    S=10,\n",
        "    K_theta=K_theta,\n",
        "    K_gamma=K_gamma,\n",
        "    N_theta=N_theta,\n",
        "    N_gamma=N_gamma,\n",
        "    G_theta=G_theta,\n",
        "    G_gamma=G_gamma,\n",
        "    pa_2017=44.9736197781184,\n",
        "    **_prior_hyperparams(y_theta, X_theta, \"theta\"),\n",
        "    **_prior_hyperparams(y_gamma, X_gamma, \"gamma\"),\n",
        ")\n",
        "\n",
        "# Compiling model\n",
        "sampler = stan.build(program_code=model_code, data=model_data, random_seed=1)\n",
        "fit = sampler.fixed_param(num_samples=1000)"
      ]
    }
  ],
  "metadata": {
    "kernelspec": {
      "display_name": "venv",
      "language": "python",
      "name": "python3"
    },
    "language_info": {
      "codemirror_mode": {
        "name": "ipython",
        "version": 3
      },
      "file_extension": ".py",
      "mimetype": "text/x-python",
      "name": "python",
      "nbconvert_exporter": "python",
      "pygments_lexer": "ipython3",
      "version": "3.11.0"
    }
  },
  "nbformat": 4,
  "nbformat_minor": 2
}
