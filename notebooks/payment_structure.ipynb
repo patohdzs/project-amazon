{
  "cells": [
    {
      "cell_type": "code",
      "execution_count": 1,
      "metadata": {},
      "outputs": [
        {
          "name": "stderr",
          "output_type": "stream",
          "text": [
            "/Users/ph2696/Projects/project-amazon/venv/lib/python3.10/site-packages/tqdm/auto.py:21: TqdmWarning: IProgress not found. Please update jupyter and ipywidgets. See https://ipywidgets.readthedocs.io/en/stable/user_install.html\n",
            "  from .autonotebook import tqdm as notebook_tqdm\n"
          ]
        }
      ],
      "source": [
        "import numpy as np\n",
        "from pysrc.optimization import gams, gurobi\n",
        "from pysrc.sampling import baseline\n",
        "from pysrc.services.data_service import load_site_data\n",
        "from pysrc.analysis import value_decomposition"
      ]
    },
    {
      "cell_type": "markdown",
      "metadata": {},
      "source": [
        "## Model scenario"
      ]
    },
    {
      "cell_type": "code",
      "execution_count": 2,
      "metadata": {},
      "outputs": [],
      "source": [
        "opt = \"gurobi\"\n",
        "pee = 7.1\n",
        "pa = 41.11\n",
        "b = 25\n",
        "sitenum = 78\n",
        "timehzn = 200"
      ]
    },
    {
      "cell_type": "markdown",
      "metadata": {},
      "source": [
        "## Solve model"
      ]
    },
    {
      "cell_type": "code",
      "execution_count": 3,
      "metadata": {},
      "outputs": [
        {
          "name": "stdout",
          "output_type": "stream",
          "text": [
            "Data successfully loaded from /Users/ph2696/Projects/project-amazon/data/hmc\n"
          ]
        }
      ],
      "source": [
        "# Load site data\n",
        "(\n",
        "    zbar_2017,\n",
        "    z_2017,\n",
        "    forest_area_2017,\n",
        "    _,\n",
        "    _,\n",
        "    _,\n",
        "    _,\n",
        ") = load_site_data(sitenum)\n",
        "\n",
        "# Set productivity parameters using baseline mean\n",
        "baseline_fit = baseline.sample(\n",
        "    model_name=\"full_model\",\n",
        "    num_sites=sitenum,\n",
        "    iter_sampling=10**4,\n",
        "    chains=5,\n",
        "    seed=1,\n",
        ")\n",
        "\n",
        "theta = baseline_fit.stan_variable(\"theta\").mean(axis=0)\n",
        "gamma = baseline_fit.stan_variable(\"gamma\").mean(axis=0)\n",
        "\n",
        "# Computing carbon absorbed in start period\n",
        "x0_vals = gamma * forest_area_2017\n",
        "\n",
        "# Choose optimizer\n",
        "if opt == \"gurobi\":\n",
        "    solve_planner_problem = gurobi.solve_planner_problem\n",
        "\n",
        "elif opt == \"gams\":\n",
        "    solve_planner_problem = gams.solve_planner_problem\n",
        "\n",
        "else:\n",
        "    raise ValueError(\"Optimizer must be one of ['gurobi', 'gams']\")\n",
        "\n",
        "results = solve_planner_problem(\n",
        "    T=timehzn,\n",
        "    theta=theta,\n",
        "    gamma=gamma,\n",
        "    x0=x0_vals,\n",
        "    zbar=zbar_2017,\n",
        "    z0=z_2017,\n",
        "    pe=pee + b,\n",
        "    pa=pa,\n",
        ")"
      ]
    },
    {
      "cell_type": "code",
      "execution_count": null,
      "metadata": {},
      "outputs": [],
      "source": [
        "results[\"X\"].shape"
      ]
    },
    {
      "cell_type": "code",
      "execution_count": null,
      "metadata": {},
      "outputs": [],
      "source": [
        "results[\"X\"].sum(axis=1)"
      ]
    },
    {
      "cell_type": "code",
      "execution_count": null,
      "metadata": {},
      "outputs": [],
      "source": [
        "value_decomposition(\n",
        "    Z=results[\"Z\"],\n",
        "    X=results[\"X\"],\n",
        "    U=results[\"U\"],\n",
        "    V=results[\"V\"],\n",
        "    T=timehzn,\n",
        "    pee=pee,\n",
        "    pa=pa,\n",
        "    b=b,\n",
        "    theta=theta,\n",
        ")"
      ]
    },
    {
      "cell_type": "code",
      "execution_count": null,
      "metadata": {},
      "outputs": [],
      "source": [
        "V = [\n",
        "    value_decomposition(\n",
        "        Z=results[\"Z\"][t:],\n",
        "        X=results[\"X\"][t:],\n",
        "        U=results[\"U\"][t:],\n",
        "        V=results[\"V\"][t:],\n",
        "        T=200,\n",
        "        pee=pee,\n",
        "        pa=pa,\n",
        "        b=b,\n",
        "        theta=theta,\n",
        "    )[\"total_PV\"]\n",
        "    for t in range(50)\n",
        "]"
      ]
    },
    {
      "cell_type": "code",
      "execution_count": null,
      "metadata": {},
      "outputs": [],
      "source": [
        "import matplotlib.pyplot as plt\n",
        "\n",
        "# Plotting the line plot\n",
        "plt.plot(V)\n",
        "\n",
        "# Adding labels and title\n",
        "plt.xlabel(\"Time\")\n",
        "plt.ylabel(\"Value\")\n",
        "plt.title(\"V(t)\")\n",
        "\n",
        "# Displaying the plot\n",
        "plt.show"
      ]
    },
    {
      "cell_type": "code",
      "execution_count": null,
      "metadata": {},
      "outputs": [],
      "source": [
        "W = []\n",
        "for t in range(50):\n",
        "    defection = solve_planner_problem(\n",
        "        T=200,\n",
        "        theta=theta,\n",
        "        gamma=gamma,\n",
        "        x0=results[\"X\"][t],\n",
        "        zbar=zbar_2017,\n",
        "        z0=results[\"Z\"][t],\n",
        "        pe=pee,\n",
        "        pa=pa,\n",
        "    )\n",
        "\n",
        "    W.append(\n",
        "        value_decomposition(\n",
        "            Z=defection[\"Z\"],\n",
        "            X=defection[\"X\"],\n",
        "            U=defection[\"U\"],\n",
        "            V=defection[\"V\"],\n",
        "            T=200,\n",
        "            pee=pee,\n",
        "            pa=pa,\n",
        "            b=0,\n",
        "            theta=theta,\n",
        "        )[\"total_PV\"]\n",
        "    )"
      ]
    },
    {
      "cell_type": "code",
      "execution_count": null,
      "metadata": {},
      "outputs": [],
      "source": [
        "# Plotting the line plots for V and W\n",
        "plt.plot(V, label=\"V(t)\")\n",
        "plt.plot(W, label=\"W(t)\")\n",
        "\n",
        "# Adding legend\n",
        "plt.legend()\n",
        "\n",
        "# Adding labels and title\n",
        "plt.xlabel(\"Time\")\n",
        "plt.ylabel(\"Value\")\n",
        "plt.title(\"Value of reforestation v.s defecting\")\n",
        "\n",
        "# Displaying the plot\n",
        "plt.show()"
      ]
    },
    {
      "cell_type": "code",
      "execution_count": null,
      "metadata": {},
      "outputs": [],
      "source": [
        "(1 / 1.02) ** 50"
      ]
    },
    {
      "cell_type": "code",
      "execution_count": null,
      "metadata": {},
      "outputs": [],
      "source": [
        "(V[-1] - W[-1]) * ((1 / 1.02) ** 50)"
      ]
    }
  ],
  "metadata": {
    "kernelspec": {
      "display_name": "venv",
      "language": "python",
      "name": "python3"
    },
    "language_info": {
      "codemirror_mode": {
        "name": "ipython",
        "version": 3
      },
      "file_extension": ".py",
      "mimetype": "text/x-python",
      "name": "python",
      "nbconvert_exporter": "python",
      "pygments_lexer": "ipython3",
      "version": "3.10.9"
    }
  },
  "nbformat": 4,
  "nbformat_minor": 2
}
