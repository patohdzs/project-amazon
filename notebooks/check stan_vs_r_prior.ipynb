{
  "cells": [
    {
      "cell_type": "markdown",
      "metadata": {},
      "source": [
        "# Prior check"
      ]
    },
    {
      "cell_type": "code",
      "execution_count": 1,
      "metadata": {},
      "outputs": [],
      "source": [
        "import pandas as pd\n",
        "import numpy as np\n",
        "\n",
        "from services.data_service import load_site_data\n",
        "from sampling import baseline\n",
        "from optimization import theta_fitted, gamma_fitted\n",
        "\n",
        "import nest_asyncio\n",
        "\n",
        "nest_asyncio.apply()"
      ]
    },
    {
      "cell_type": "code",
      "execution_count": 2,
      "metadata": {},
      "outputs": [
        {
          "name": "stdout",
          "output_type": "stream",
          "text": [
            "Data successfully loaded from '/Users/patriciohernandez/Projects/project-amazon/data/hmc/hmc_24SitesModel.csv'\n"
          ]
        }
      ],
      "source": [
        "(\n",
        "    zbar_2017,\n",
        "    gamma,\n",
        "    z_2017,\n",
        "    forestArea_2017_ha,\n",
        "    theta,\n",
        "    site_theta_2017_df,\n",
        "    site_gamma_2017_df,\n",
        "    _,\n",
        "    _,\n",
        ") = load_site_data(24)"
      ]
    },
    {
      "cell_type": "code",
      "execution_count": 3,
      "metadata": {},
      "outputs": [
        {
          "name": "stdout",
          "output_type": "stream",
          "text": [
            "Data successfully loaded from '/Users/patriciohernandez/Projects/project-amazon/data/hmc/hmc_24SitesModel.csv'\n",
            "Building...\n"
          ]
        },
        {
          "name": "stderr",
          "output_type": "stream",
          "text": [
            "\n",
            "Building: found in cache, done.Sampling:   0%\n",
            "Sampling:  25% (10000/40000)\n",
            "Sampling:  50% (20000/40000)\n",
            "Sampling:  75% (30000/40000)\n",
            "Sampling: 100% (40000/40000)\n",
            "Sampling: 100% (40000/40000), done.\n"
          ]
        }
      ],
      "source": [
        "fit = baseline.sample(model_name=\"full_model_v3\", num_samples=10_000, num_sites=24)\n",
        "prior_samples = np.concatenate((fit[\"theta\"].T, fit[\"gamma\"].T), axis=1)\n",
        "\n",
        "theta_prior = fit[\"theta\"].T\n",
        "gamma_prior = fit[\"gamma\"].T"
      ]
    },
    {
      "cell_type": "code",
      "execution_count": 4,
      "metadata": {},
      "outputs": [
        {
          "name": "stdout",
          "output_type": "stream",
          "text": [
            "[0.59360413 0.76827656 0.57391335 0.34884418 0.62971997 0.79592843\n",
            " 0.89775638 0.69024152 0.80878578 1.18008537 0.88595719 1.14291541\n",
            " 1.88541997 1.83053355 1.10078358 1.59335211 2.0435058  1.68058026\n",
            " 1.6950001  1.90550263 1.77313744 1.90136942 2.47499466 2.64723727]\n",
            "[0.59754393 0.77274961 0.57750324 0.35107662 0.63475277 0.79983694\n",
            " 0.90095056 0.69214892 0.81060152 1.18306923 0.8906974  1.14660716\n",
            " 1.89393176 1.83865041 1.10280682 1.59555557 2.04815385 1.68386827\n",
            " 1.69817859 1.90907265 1.77669513 1.90464356 2.48138481 2.65798884]\n"
          ]
        }
      ],
      "source": [
        "print(theta)\n",
        "print(theta_prior.mean(axis=0))"
      ]
    },
    {
      "cell_type": "code",
      "execution_count": 5,
      "metadata": {},
      "outputs": [
        {
          "name": "stdout",
          "output_type": "stream",
          "text": [
            "[-0.00393979 -0.00447304 -0.00358989 -0.00223244 -0.0050328  -0.00390851\n",
            " -0.00319419 -0.0019074  -0.00181574 -0.00298386 -0.00474021 -0.00369176\n",
            " -0.00851179 -0.00811686 -0.00202324 -0.00220346 -0.00464805 -0.00328802\n",
            " -0.00317849 -0.00357002 -0.00355769 -0.00327415 -0.00639014 -0.01075157]\n"
          ]
        }
      ],
      "source": [
        "print(theta - theta_prior.mean(0))"
      ]
    },
    {
      "cell_type": "code",
      "execution_count": 6,
      "metadata": {},
      "outputs": [
        {
          "name": "stdout",
          "output_type": "stream",
          "text": [
            "[845.5429369 647.3804748 537.0275687 452.4522341 919.0187428 780.0646728\n",
            " 541.8979324 452.3313268 407.4306964 320.1083389 245.6462077 868.9588643\n",
            " 691.8372819 512.753591  410.9514917 347.5056246 285.1611994 760.5139639\n",
            " 575.3519952 486.0369506 385.2018518 304.5426121 351.980397  341.3075335]\n",
            "[846.36072435 648.44125404 537.3809018  452.66625661 919.86413734\n",
            " 780.61865383 542.13958847 452.49245474 407.56722847 320.22425998\n",
            " 245.75881378 869.68236462 692.20955449 512.91989597 411.04892828\n",
            " 347.61203614 285.2862089  761.15429201 575.71287243 486.23147783\n",
            " 385.37727932 304.69617628 352.22776314 341.56722886]\n"
          ]
        }
      ],
      "source": [
        "print(gamma)\n",
        "print(gamma_prior.mean(axis=0))"
      ]
    },
    {
      "cell_type": "code",
      "execution_count": 7,
      "metadata": {},
      "outputs": [
        {
          "name": "stdout",
          "output_type": "stream",
          "text": [
            "[-0.81778745 -1.06077924 -0.3533331  -0.21402251 -0.84539454 -0.55398103\n",
            " -0.24165607 -0.16112794 -0.13653207 -0.11592108 -0.11260608 -0.72350032\n",
            " -0.37227259 -0.16630497 -0.09743658 -0.10641154 -0.1250095  -0.64032811\n",
            " -0.36087723 -0.19452723 -0.17542752 -0.15356418 -0.24736614 -0.25969536]\n"
          ]
        }
      ],
      "source": [
        "print(gamma - gamma_prior.mean(0))"
      ]
    }
  ],
  "metadata": {
    "kernelspec": {
      "display_name": "venv",
      "language": "python",
      "name": "python3"
    },
    "language_info": {
      "codemirror_mode": {
        "name": "ipython",
        "version": 3
      },
      "file_extension": ".py",
      "mimetype": "text/x-python",
      "name": "python",
      "nbconvert_exporter": "python",
      "pygments_lexer": "ipython3",
      "version": "3.10.9"
    },
    "orig_nbformat": 4
  },
  "nbformat": 4,
  "nbformat_minor": 2
}
