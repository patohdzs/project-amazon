{
  "cells": [
    {
      "cell_type": "code",
      "execution_count": 1,
      "metadata": {},
      "outputs": [
        {
          "name": "stdout",
          "output_type": "stream",
          "text": [
            "Importing MCMC Module: mcmc_sampling_original.py\n"
          ]
        }
      ],
      "source": [
        "from services.data_service import load_site_data, load_coef_prior_samples\n",
        "from solvers.stan import _theta_reg_data, _prior_hyperparams, _gamma_reg_data\n",
        "import numpy as np"
      ]
    },
    {
      "cell_type": "code",
      "execution_count": 2,
      "metadata": {},
      "outputs": [
        {
          "name": "stdout",
          "output_type": "stream",
          "text": [
            "Data successfully loaded from '/Users/patriciohernandez/Projects/project-amazon/data/hmc/hmc_10SitesModel.csv'\n"
          ]
        }
      ],
      "source": [
        "# Load sites' data\n",
        "(\n",
        "    zbar_2017,\n",
        "    gamma_vals,\n",
        "    z_2017,\n",
        "    forestArea_2017_ha,\n",
        "    theta_vals,\n",
        "    gamma_coe,\n",
        "    theta_coe,\n",
        "    gamma_vcov_array,\n",
        "    theta_vcov_array,\n",
        "    theta_data,\n",
        "    gamma_data,\n",
        ") = load_site_data(\n",
        "    10,\n",
        "    norm_fac=1e11,\n",
        ")"
      ]
    },
    {
      "cell_type": "code",
      "execution_count": 3,
      "metadata": {},
      "outputs": [
        {
          "data": {
            "text/html": [
              "<div>\n",
              "<style scoped>\n",
              "    .dataframe tbody tr th:only-of-type {\n",
              "        vertical-align: middle;\n",
              "    }\n",
              "\n",
              "    .dataframe tbody tr th {\n",
              "        vertical-align: top;\n",
              "    }\n",
              "\n",
              "    .dataframe thead th {\n",
              "        text-align: right;\n",
              "    }\n",
              "</style>\n",
              "<table border=\"1\" class=\"dataframe\">\n",
              "  <thead>\n",
              "    <tr style=\"text-align: right;\">\n",
              "      <th></th>\n",
              "      <th>id</th>\n",
              "      <th>X1</th>\n",
              "      <th>log_historical_precip</th>\n",
              "      <th>log_historical_temp</th>\n",
              "      <th>log_lat</th>\n",
              "      <th>log_lon</th>\n",
              "      <th>log_co2e_ha_2017</th>\n",
              "    </tr>\n",
              "  </thead>\n",
              "  <tbody>\n",
              "    <tr>\n",
              "      <th>0</th>\n",
              "      <td>1</td>\n",
              "      <td>1.0</td>\n",
              "      <td>1.903604</td>\n",
              "      <td>0.115122</td>\n",
              "      <td>0.537821</td>\n",
              "      <td>-2.088157</td>\n",
              "      <td>6.402935</td>\n",
              "    </tr>\n",
              "    <tr>\n",
              "      <th>1</th>\n",
              "      <td>5</td>\n",
              "      <td>1.0</td>\n",
              "      <td>1.903604</td>\n",
              "      <td>0.115122</td>\n",
              "      <td>0.537821</td>\n",
              "      <td>-2.088157</td>\n",
              "      <td>6.402935</td>\n",
              "    </tr>\n",
              "    <tr>\n",
              "      <th>2</th>\n",
              "      <td>1</td>\n",
              "      <td>1.0</td>\n",
              "      <td>2.255230</td>\n",
              "      <td>0.721277</td>\n",
              "      <td>0.738985</td>\n",
              "      <td>-1.748519</td>\n",
              "      <td>6.280606</td>\n",
              "    </tr>\n",
              "    <tr>\n",
              "      <th>3</th>\n",
              "      <td>2</td>\n",
              "      <td>1.0</td>\n",
              "      <td>2.255230</td>\n",
              "      <td>0.721277</td>\n",
              "      <td>0.738985</td>\n",
              "      <td>-1.748519</td>\n",
              "      <td>6.280606</td>\n",
              "    </tr>\n",
              "    <tr>\n",
              "      <th>4</th>\n",
              "      <td>1</td>\n",
              "      <td>1.0</td>\n",
              "      <td>2.654689</td>\n",
              "      <td>0.030049</td>\n",
              "      <td>0.902289</td>\n",
              "      <td>-2.098580</td>\n",
              "      <td>6.351144</td>\n",
              "    </tr>\n",
              "    <tr>\n",
              "      <th>...</th>\n",
              "      <td>...</td>\n",
              "      <td>...</td>\n",
              "      <td>...</td>\n",
              "      <td>...</td>\n",
              "      <td>...</td>\n",
              "      <td>...</td>\n",
              "      <td>...</td>\n",
              "    </tr>\n",
              "    <tr>\n",
              "      <th>706</th>\n",
              "      <td>10</td>\n",
              "      <td>1.0</td>\n",
              "      <td>-0.750612</td>\n",
              "      <td>-2.680345</td>\n",
              "      <td>-1.700176</td>\n",
              "      <td>0.040666</td>\n",
              "      <td>5.858993</td>\n",
              "    </tr>\n",
              "    <tr>\n",
              "      <th>707</th>\n",
              "      <td>10</td>\n",
              "      <td>1.0</td>\n",
              "      <td>-0.940483</td>\n",
              "      <td>-0.019466</td>\n",
              "      <td>-1.362865</td>\n",
              "      <td>0.323129</td>\n",
              "      <td>5.757545</td>\n",
              "    </tr>\n",
              "    <tr>\n",
              "      <th>708</th>\n",
              "      <td>10</td>\n",
              "      <td>1.0</td>\n",
              "      <td>-1.275154</td>\n",
              "      <td>-1.166513</td>\n",
              "      <td>-1.620548</td>\n",
              "      <td>0.245313</td>\n",
              "      <td>5.722272</td>\n",
              "    </tr>\n",
              "    <tr>\n",
              "      <th>709</th>\n",
              "      <td>10</td>\n",
              "      <td>1.0</td>\n",
              "      <td>-1.285130</td>\n",
              "      <td>-0.056968</td>\n",
              "      <td>-1.515409</td>\n",
              "      <td>0.342336</td>\n",
              "      <td>5.731415</td>\n",
              "    </tr>\n",
              "    <tr>\n",
              "      <th>710</th>\n",
              "      <td>10</td>\n",
              "      <td>1.0</td>\n",
              "      <td>-1.000612</td>\n",
              "      <td>0.631055</td>\n",
              "      <td>-1.318796</td>\n",
              "      <td>0.367171</td>\n",
              "      <td>5.160738</td>\n",
              "    </tr>\n",
              "  </tbody>\n",
              "</table>\n",
              "<p>711 rows × 7 columns</p>\n",
              "</div>"
            ],
            "text/plain": [
              "     id   X1  log_historical_precip  log_historical_temp   log_lat   log_lon  \\\n",
              "0     1  1.0               1.903604             0.115122  0.537821 -2.088157   \n",
              "1     5  1.0               1.903604             0.115122  0.537821 -2.088157   \n",
              "2     1  1.0               2.255230             0.721277  0.738985 -1.748519   \n",
              "3     2  1.0               2.255230             0.721277  0.738985 -1.748519   \n",
              "4     1  1.0               2.654689             0.030049  0.902289 -2.098580   \n",
              "..   ..  ...                    ...                  ...       ...       ...   \n",
              "706  10  1.0              -0.750612            -2.680345 -1.700176  0.040666   \n",
              "707  10  1.0              -0.940483            -0.019466 -1.362865  0.323129   \n",
              "708  10  1.0              -1.275154            -1.166513 -1.620548  0.245313   \n",
              "709  10  1.0              -1.285130            -0.056968 -1.515409  0.342336   \n",
              "710  10  1.0              -1.000612             0.631055 -1.318796  0.367171   \n",
              "\n",
              "     log_co2e_ha_2017  \n",
              "0            6.402935  \n",
              "1            6.402935  \n",
              "2            6.280606  \n",
              "3            6.280606  \n",
              "4            6.351144  \n",
              "..                ...  \n",
              "706          5.858993  \n",
              "707          5.757545  \n",
              "708          5.722272  \n",
              "709          5.731415  \n",
              "710          5.160738  \n",
              "\n",
              "[711 rows x 7 columns]"
            ]
          },
          "execution_count": 3,
          "metadata": {},
          "output_type": "execute_result"
        }
      ],
      "source": [
        "gamma_data"
      ]
    },
    {
      "cell_type": "code",
      "execution_count": 4,
      "metadata": {},
      "outputs": [],
      "source": [
        "y, X, N, K, G = _gamma_reg_data(10, gamma_data)"
      ]
    },
    {
      "cell_type": "code",
      "execution_count": 5,
      "metadata": {},
      "outputs": [
        {
          "data": {
            "text/plain": [
              "689"
            ]
          },
          "execution_count": 5,
          "metadata": {},
          "output_type": "execute_result"
        }
      ],
      "source": [
        "N"
      ]
    },
    {
      "cell_type": "code",
      "execution_count": 6,
      "metadata": {},
      "outputs": [
        {
          "data": {
            "text/plain": [
              "474.0467252100001"
            ]
          },
          "execution_count": 6,
          "metadata": {},
          "output_type": "execute_result"
        }
      ],
      "source": [
        "gamma_vals.mean()"
      ]
    },
    {
      "cell_type": "code",
      "execution_count": 9,
      "metadata": {},
      "outputs": [
        {
          "data": {
            "text/plain": [
              "429.7343465200875"
            ]
          },
          "execution_count": 9,
          "metadata": {},
          "output_type": "execute_result"
        }
      ],
      "source": [
        "np.exp(y).mean()"
      ]
    },
    {
      "cell_type": "markdown",
      "metadata": {},
      "source": [
        "## Analysing hyperparams"
      ]
    },
    {
      "cell_type": "code",
      "execution_count": 10,
      "metadata": {},
      "outputs": [],
      "source": [
        "I, mu, a, b = _prior_hyperparams(y, X, \"gamma\").values()"
      ]
    },
    {
      "cell_type": "code",
      "execution_count": 11,
      "metadata": {},
      "outputs": [
        {
          "data": {
            "text/plain": [
              "0.10438755987760001"
            ]
          },
          "execution_count": 11,
          "metadata": {},
          "output_type": "execute_result"
        }
      ],
      "source": [
        "sigma_sq = b/(a+1)\n",
        "sigma_sq"
      ]
    },
    {
      "cell_type": "code",
      "execution_count": 13,
      "metadata": {},
      "outputs": [
        {
          "name": "stdout",
          "output_type": "stream",
          "text": [
            "[[ 1.52912157e-04 -1.57702576e-05 -8.75809051e-07  1.10498236e-05\n",
            "   1.77985991e-06]\n",
            " [-1.57702576e-05  2.66027056e-04 -2.02644489e-05 -1.63197154e-04\n",
            "   1.18093033e-04]\n",
            " [-8.75809051e-07 -2.02644489e-05  3.34987443e-04 -2.20689683e-04\n",
            "  -4.40312327e-05]\n",
            " [ 1.10498236e-05 -1.63197154e-04 -2.20689683e-04  4.40558440e-04\n",
            "  -1.10587315e-04]\n",
            " [ 1.77985991e-06  1.18093033e-04 -4.40312327e-05 -1.10587315e-04\n",
            "   2.37124642e-04]]\n"
          ]
        }
      ],
      "source": [
        "print(sigma_sq * I)"
      ]
    },
    {
      "cell_type": "code",
      "execution_count": 14,
      "metadata": {},
      "outputs": [
        {
          "data": {
            "text/plain": [
              "array([[ 7.7808952e+01,  6.0340251e-01,  3.7247031e+00, -6.1449921e+00,\n",
              "         2.6652929e-01],\n",
              "       [ 6.0340251e-01,  3.1434750e-02, -8.6460100e-03, -6.3607140e-02,\n",
              "         1.3400850e-02],\n",
              "       [ 3.7247031e+00, -8.6460100e-03,  1.2957049e+00, -4.5484287e-01,\n",
              "        -3.7230350e-02],\n",
              "       [-6.1449921e+00, -6.3607140e-02, -4.5484287e-01,  5.4747531e-01,\n",
              "        -4.4006270e-02],\n",
              "       [ 2.6652929e-01,  1.3400850e-02, -3.7230350e-02, -4.4006270e-02,\n",
              "         2.9778010e-02]])"
            ]
          },
          "execution_count": 14,
          "metadata": {},
          "output_type": "execute_result"
        }
      ],
      "source": [
        "gamma_vcov_array"
      ]
    },
    {
      "cell_type": "code",
      "execution_count": 15,
      "metadata": {},
      "outputs": [
        {
          "data": {
            "text/plain": [
              "array([ 5.95764264,  0.06420788, -0.14454559,  0.19182394, -0.28300003])"
            ]
          },
          "execution_count": 15,
          "metadata": {},
          "output_type": "execute_result"
        }
      ],
      "source": [
        "mu"
      ]
    }
  ],
  "metadata": {
    "kernelspec": {
      "display_name": "venv",
      "language": "python",
      "name": "python3"
    },
    "language_info": {
      "codemirror_mode": {
        "name": "ipython",
        "version": 3
      },
      "file_extension": ".py",
      "mimetype": "text/x-python",
      "name": "python",
      "nbconvert_exporter": "python",
      "pygments_lexer": "ipython3",
      "version": "3.10.9"
    },
    "orig_nbformat": 4
  },
  "nbformat": 4,
  "nbformat_minor": 2
}
