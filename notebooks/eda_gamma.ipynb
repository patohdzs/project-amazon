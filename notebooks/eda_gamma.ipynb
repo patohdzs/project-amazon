{
  "cells": [
    {
      "cell_type": "code",
      "execution_count": 1,
      "metadata": {},
      "outputs": [
        {
          "name": "stdout",
          "output_type": "stream",
          "text": [
            "Importing MCMC Module: mcmc_sampling_original.py\n"
          ]
        }
      ],
      "source": [
        "from services.data_service import load_site_data, load_coef_prior_samples\n",
        "from solvers.stan import _theta_reg_data, _prior_hyperparams, _gamma_reg_data\n",
        "import numpy as np"
      ]
    },
    {
      "cell_type": "code",
      "execution_count": 2,
      "metadata": {},
      "outputs": [
        {
          "name": "stdout",
          "output_type": "stream",
          "text": [
            "Data successfully loaded from '/Users/patriciohernandez/Projects/project-amazon/data/hmc/hmc_10SitesModel.csv'\n"
          ]
        }
      ],
      "source": [
        "# Load sites' data\n",
        "(\n",
        "    zbar_2017,\n",
        "    gamma_vals,\n",
        "    z_2017,\n",
        "    forestArea_2017_ha,\n",
        "    theta_vals,\n",
        "    gamma_coe_mean,\n",
        "    theta_coe_mean,\n",
        "    gamma_coe_vcov,\n",
        "    theta_coe_vcov,\n",
        "    theta_data,\n",
        "    gamma_data,\n",
        ") = load_site_data(\n",
        "    10,\n",
        "    norm_fac=1e11,\n",
        ")"
      ]
    },
    {
      "cell_type": "code",
      "execution_count": 3,
      "metadata": {},
      "outputs": [
        {
          "data": {
            "text/html": [
              "<div>\n",
              "<style scoped>\n",
              "    .dataframe tbody tr th:only-of-type {\n",
              "        vertical-align: middle;\n",
              "    }\n",
              "\n",
              "    .dataframe tbody tr th {\n",
              "        vertical-align: top;\n",
              "    }\n",
              "\n",
              "    .dataframe thead th {\n",
              "        text-align: right;\n",
              "    }\n",
              "</style>\n",
              "<table border=\"1\" class=\"dataframe\">\n",
              "  <thead>\n",
              "    <tr style=\"text-align: right;\">\n",
              "      <th></th>\n",
              "      <th>id</th>\n",
              "      <th>X1</th>\n",
              "      <th>log_historical_precip</th>\n",
              "      <th>log_historical_temp</th>\n",
              "      <th>log_lat</th>\n",
              "      <th>log_lon</th>\n",
              "      <th>log_co2e_ha_2017</th>\n",
              "    </tr>\n",
              "  </thead>\n",
              "  <tbody>\n",
              "    <tr>\n",
              "      <th>0</th>\n",
              "      <td>1</td>\n",
              "      <td>1.0</td>\n",
              "      <td>1.903604</td>\n",
              "      <td>0.115122</td>\n",
              "      <td>0.537821</td>\n",
              "      <td>-2.088157</td>\n",
              "      <td>6.402935</td>\n",
              "    </tr>\n",
              "    <tr>\n",
              "      <th>1</th>\n",
              "      <td>5</td>\n",
              "      <td>1.0</td>\n",
              "      <td>1.903604</td>\n",
              "      <td>0.115122</td>\n",
              "      <td>0.537821</td>\n",
              "      <td>-2.088157</td>\n",
              "      <td>6.402935</td>\n",
              "    </tr>\n",
              "    <tr>\n",
              "      <th>2</th>\n",
              "      <td>1</td>\n",
              "      <td>1.0</td>\n",
              "      <td>2.255230</td>\n",
              "      <td>0.721277</td>\n",
              "      <td>0.738985</td>\n",
              "      <td>-1.748519</td>\n",
              "      <td>6.280606</td>\n",
              "    </tr>\n",
              "    <tr>\n",
              "      <th>3</th>\n",
              "      <td>2</td>\n",
              "      <td>1.0</td>\n",
              "      <td>2.255230</td>\n",
              "      <td>0.721277</td>\n",
              "      <td>0.738985</td>\n",
              "      <td>-1.748519</td>\n",
              "      <td>6.280606</td>\n",
              "    </tr>\n",
              "    <tr>\n",
              "      <th>4</th>\n",
              "      <td>1</td>\n",
              "      <td>1.0</td>\n",
              "      <td>2.654689</td>\n",
              "      <td>0.030049</td>\n",
              "      <td>0.902289</td>\n",
              "      <td>-2.098580</td>\n",
              "      <td>6.351144</td>\n",
              "    </tr>\n",
              "    <tr>\n",
              "      <th>...</th>\n",
              "      <td>...</td>\n",
              "      <td>...</td>\n",
              "      <td>...</td>\n",
              "      <td>...</td>\n",
              "      <td>...</td>\n",
              "      <td>...</td>\n",
              "      <td>...</td>\n",
              "    </tr>\n",
              "    <tr>\n",
              "      <th>706</th>\n",
              "      <td>10</td>\n",
              "      <td>1.0</td>\n",
              "      <td>-0.750612</td>\n",
              "      <td>-2.680345</td>\n",
              "      <td>-1.700176</td>\n",
              "      <td>0.040666</td>\n",
              "      <td>5.858993</td>\n",
              "    </tr>\n",
              "    <tr>\n",
              "      <th>707</th>\n",
              "      <td>10</td>\n",
              "      <td>1.0</td>\n",
              "      <td>-0.940483</td>\n",
              "      <td>-0.019466</td>\n",
              "      <td>-1.362865</td>\n",
              "      <td>0.323129</td>\n",
              "      <td>5.757545</td>\n",
              "    </tr>\n",
              "    <tr>\n",
              "      <th>708</th>\n",
              "      <td>10</td>\n",
              "      <td>1.0</td>\n",
              "      <td>-1.275154</td>\n",
              "      <td>-1.166513</td>\n",
              "      <td>-1.620548</td>\n",
              "      <td>0.245313</td>\n",
              "      <td>5.722272</td>\n",
              "    </tr>\n",
              "    <tr>\n",
              "      <th>709</th>\n",
              "      <td>10</td>\n",
              "      <td>1.0</td>\n",
              "      <td>-1.285130</td>\n",
              "      <td>-0.056968</td>\n",
              "      <td>-1.515409</td>\n",
              "      <td>0.342336</td>\n",
              "      <td>5.731415</td>\n",
              "    </tr>\n",
              "    <tr>\n",
              "      <th>710</th>\n",
              "      <td>10</td>\n",
              "      <td>1.0</td>\n",
              "      <td>-1.000612</td>\n",
              "      <td>0.631055</td>\n",
              "      <td>-1.318796</td>\n",
              "      <td>0.367171</td>\n",
              "      <td>5.160738</td>\n",
              "    </tr>\n",
              "  </tbody>\n",
              "</table>\n",
              "<p>711 rows × 7 columns</p>\n",
              "</div>"
            ],
            "text/plain": [
              "     id   X1  log_historical_precip  log_historical_temp   log_lat   log_lon  \\\n",
              "0     1  1.0               1.903604             0.115122  0.537821 -2.088157   \n",
              "1     5  1.0               1.903604             0.115122  0.537821 -2.088157   \n",
              "2     1  1.0               2.255230             0.721277  0.738985 -1.748519   \n",
              "3     2  1.0               2.255230             0.721277  0.738985 -1.748519   \n",
              "4     1  1.0               2.654689             0.030049  0.902289 -2.098580   \n",
              "..   ..  ...                    ...                  ...       ...       ...   \n",
              "706  10  1.0              -0.750612            -2.680345 -1.700176  0.040666   \n",
              "707  10  1.0              -0.940483            -0.019466 -1.362865  0.323129   \n",
              "708  10  1.0              -1.275154            -1.166513 -1.620548  0.245313   \n",
              "709  10  1.0              -1.285130            -0.056968 -1.515409  0.342336   \n",
              "710  10  1.0              -1.000612             0.631055 -1.318796  0.367171   \n",
              "\n",
              "     log_co2e_ha_2017  \n",
              "0            6.402935  \n",
              "1            6.402935  \n",
              "2            6.280606  \n",
              "3            6.280606  \n",
              "4            6.351144  \n",
              "..                ...  \n",
              "706          5.858993  \n",
              "707          5.757545  \n",
              "708          5.722272  \n",
              "709          5.731415  \n",
              "710          5.160738  \n",
              "\n",
              "[711 rows x 7 columns]"
            ]
          },
          "execution_count": 3,
          "metadata": {},
          "output_type": "execute_result"
        }
      ],
      "source": [
        "gamma_data"
      ]
    },
    {
      "cell_type": "code",
      "execution_count": 4,
      "metadata": {},
      "outputs": [],
      "source": [
        "y, X, N, K, G = _gamma_reg_data(10, gamma_data)"
      ]
    },
    {
      "cell_type": "code",
      "execution_count": 5,
      "metadata": {},
      "outputs": [
        {
          "data": {
            "text/plain": [
              "689"
            ]
          },
          "execution_count": 5,
          "metadata": {},
          "output_type": "execute_result"
        }
      ],
      "source": [
        "N"
      ]
    },
    {
      "cell_type": "code",
      "execution_count": 6,
      "metadata": {},
      "outputs": [
        {
          "data": {
            "text/plain": [
              "474.0467252100001"
            ]
          },
          "execution_count": 6,
          "metadata": {},
          "output_type": "execute_result"
        }
      ],
      "source": [
        "gamma_vals.mean()"
      ]
    },
    {
      "cell_type": "code",
      "execution_count": 7,
      "metadata": {},
      "outputs": [
        {
          "data": {
            "text/plain": [
              "429.7343465200875"
            ]
          },
          "execution_count": 7,
          "metadata": {},
          "output_type": "execute_result"
        }
      ],
      "source": [
        "np.exp(y).mean()"
      ]
    },
    {
      "cell_type": "markdown",
      "metadata": {},
      "source": [
        "## Analysing hyperparams"
      ]
    },
    {
      "cell_type": "code",
      "execution_count": 8,
      "metadata": {},
      "outputs": [],
      "source": [
        "I, mu, a, b = _prior_hyperparams(y, X, \"gamma\").values()"
      ]
    },
    {
      "cell_type": "code",
      "execution_count": 15,
      "metadata": {},
      "outputs": [
        {
          "data": {
            "text/plain": [
              "0.10499534770803728"
            ]
          },
          "execution_count": 15,
          "metadata": {},
          "output_type": "execute_result"
        }
      ],
      "source": [
        "sigma_sq = b/(a-1)\n",
        "sigma_sq"
      ]
    },
    {
      "cell_type": "code",
      "execution_count": 16,
      "metadata": {},
      "outputs": [
        {
          "data": {
            "text/plain": [
              "array([[ 1.53802475e-04, -1.58620786e-05, -8.80908376e-07,\n",
              "         1.11141602e-05,  1.79022300e-06],\n",
              "       [-1.58620786e-05,  2.67575976e-04, -2.03824370e-05,\n",
              "        -1.64147356e-04,  1.18780620e-04],\n",
              "       [-8.80908376e-07, -2.03824370e-05,  3.36937879e-04,\n",
              "        -2.21974630e-04, -4.42876008e-05],\n",
              "       [ 1.11141602e-05, -1.64147356e-04, -2.21974630e-04,\n",
              "         4.43123555e-04, -1.11231200e-04],\n",
              "       [ 1.79022300e-06,  1.18780620e-04, -4.42876008e-05,\n",
              "        -1.11231200e-04,  2.38505280e-04]])"
            ]
          },
          "execution_count": 16,
          "metadata": {},
          "output_type": "execute_result"
        }
      ],
      "source": [
        "sigma_sq * I"
      ]
    },
    {
      "cell_type": "code",
      "execution_count": 11,
      "metadata": {},
      "outputs": [
        {
          "data": {
            "text/plain": [
              "array([[ 6.45960900e-04, -8.95458333e-06,  1.93524177e-06,\n",
              "         7.20064833e-06, -7.96378794e-06],\n",
              "       [-8.95458333e-06,  1.03903375e-03, -6.84134156e-05,\n",
              "        -6.25545205e-04,  3.94983085e-04],\n",
              "       [ 1.93524177e-06, -6.84134156e-05,  1.34038367e-03,\n",
              "        -8.23531225e-04, -2.38269168e-04],\n",
              "       [ 7.20064833e-06, -6.25545205e-04, -8.23531225e-04,\n",
              "         1.69585693e-03, -3.96914329e-04],\n",
              "       [-7.96378794e-06,  3.94983085e-04, -2.38269168e-04,\n",
              "        -3.96914329e-04,  9.37949385e-04]])"
            ]
          },
          "execution_count": 11,
          "metadata": {},
          "output_type": "execute_result"
        }
      ],
      "source": [
        "gamma_coe_vcov"
      ]
    },
    {
      "cell_type": "code",
      "execution_count": 12,
      "metadata": {},
      "outputs": [
        {
          "data": {
            "text/plain": [
              "array([ 5.95764264,  0.06420788, -0.14454559,  0.19182394, -0.28300003])"
            ]
          },
          "execution_count": 12,
          "metadata": {},
          "output_type": "execute_result"
        }
      ],
      "source": [
        "mu"
      ]
    },
    {
      "cell_type": "code",
      "execution_count": 13,
      "metadata": {},
      "outputs": [
        {
          "data": {
            "text/plain": [
              "array([ 5.952861  ,  0.07886516, -0.14459172,  0.17961496, -0.29161171])"
            ]
          },
          "execution_count": 13,
          "metadata": {},
          "output_type": "execute_result"
        }
      ],
      "source": [
        "gamma_coe_mean"
      ]
    }
  ],
  "metadata": {
    "kernelspec": {
      "display_name": "venv",
      "language": "python",
      "name": "python3"
    },
    "language_info": {
      "codemirror_mode": {
        "name": "ipython",
        "version": 3
      },
      "file_extension": ".py",
      "mimetype": "text/x-python",
      "name": "python",
      "nbconvert_exporter": "python",
      "pygments_lexer": "ipython3",
      "version": "3.10.9"
    },
    "orig_nbformat": 4
  },
  "nbformat": 4,
  "nbformat_minor": 2
}
