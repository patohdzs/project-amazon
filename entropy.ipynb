{
 "cells": [
  {
   "cell_type": "code",
   "execution_count": 44,
   "metadata": {},
   "outputs": [],
   "source": [
    "import pandas as pd\n",
    "import os\n",
    "import numpy as np\n",
    "import seaborn as sns\n",
    "import matplotlib.pyplot as plt\n",
    "import pickle\n",
    "from scipy.stats import gaussian_kde\n",
    "from scipy.stats import entropy\n",
    "import geopandas as gpd\n",
    "# import matplotlib.pyplot as plt\n",
    "import pandas as pd\n",
    "from matplotlib.backends.backend_pdf import PdfPages\n",
    "os.getcwd()\n",
    "\n",
    "# import pathlib\n",
    "# temp = pathlib.PosixPath\n",
    "# pathlib.PosixPath = pathlib.WindowsPath\n",
    "\n",
    "\n",
    "    \n",
    "site=78\n",
    "\n",
    "\n",
    "\n",
    "base_folder = \"/project/lhansen/HMC_re/project-amazon/output/sampling/gams/78sites/pa_41.11/\"\n",
    "\n",
    "with open(base_folder+'xi_1/pe_5.3/results.pcl', 'rb') as f:\n",
    "    # Load the data from the file\n",
    "    results_adjusted = pickle.load(f)    \n",
    "beta_hmc =results_adjusted[\"final_sample_coe\"][:,8:]\n",
    "v_hmc = results_adjusted[\"V_sample\"]"
   ]
  },
  {
   "cell_type": "code",
   "execution_count": 38,
   "metadata": {},
   "outputs": [],
   "source": [
    "from pysrc.sampling import gibbs_sampling\n",
    "res = gibbs_sampling()\n",
    "gamma_mean = res['gamma_mean']\n",
    "gamma_vcov = res['gamma_vcov']\n",
    "beta_ori = np.random.multivariate_normal(gamma_mean,gamma_vcov,size=500000)\n",
    "v_mean = res['V_mean']\n",
    "v_var   = res['V_var']\n",
    "v_ori = np.zeros((500000,78))\n",
    "\n",
    "for i in range(78):\n",
    "    v_ori[:,i] = np.random.normal(v_mean[i],np.sqrt(v_var[i]),size=500000)"
   ]
  },
  {
   "cell_type": "code",
   "execution_count": 45,
   "metadata": {},
   "outputs": [],
   "source": [
    "gamma_data = gpd.read_file(\"/project/lhansen/HMC_re/project-amazon/data/calibration/hmc/\"+\"gamma_data_site_78.geojson\")\n",
    "X_fit = gamma_data.iloc[:, 0:6].values  # Columns 1 to 6 as X\n",
    "id_fit = gamma_data.iloc[:, 7].values  # Columns 1 to 6 as X\n",
    "\n",
    "gamma_baseline= np.exp(X_fit @ beta_ori.T + v_ori[:,].T).T\n",
    "gamma_test= np.exp(X_fit @ beta_hmc.T + v_hmc[:,].T).T\n",
    "gamma_hmc=results_adjusted[\"final_sample\"][:, 78:] "
   ]
  },
  {
   "cell_type": "code",
   "execution_count": null,
   "metadata": {},
   "outputs": [],
   "source": [
    "\n",
    "\n",
    "for i in range(78):\n",
    "    plt.figure(figsize=(12, 6))\n",
    "    sns.kdeplot(gamma_baseline[:, i], label=r'baseline', color='red', fill=True, alpha=0.6,linewidth=4) \n",
    "    sns.kdeplot(gamma_hmc[:, i], label=r'hmc', color='blue', fill=True, alpha=0.6,linewidth=4)  \n",
    "    # sns.kdeplot(gamma_test[:, i], label=r'test', color='blue', fill=True, alpha=0.6,linewidth=4)  \n",
    "    plt.title(r'Density of $\\gamma_'+str(i+1)+'$')\n",
    "    plt.legend()\n",
    "    # plt.savefig('results/compare/gamma'+str(i+1)+'.png')\n",
    "    plt.show()\n"
   ]
  },
  {
   "cell_type": "code",
   "execution_count": 46,
   "metadata": {},
   "outputs": [],
   "source": [
    "mean_values = np.mean(gamma_hmc, axis=0)\n",
    "df_mean = pd.DataFrame(mean_values, index=pd.Index(range(1, len(mean_values) + 1), name=\"Site\"))\n",
    "df_mean.to_csv('mean_post_adj.csv', index=True)"
   ]
  },
  {
   "cell_type": "code",
   "execution_count": 18,
   "metadata": {},
   "outputs": [],
   "source": [
    "sd_hmc=np.sqrt(np.var(gamma_hmc,ddof=0,axis=0))\n",
    "quantiles = np.quantile(gamma_hmc, [0.1, 0.5, 0.9], axis=0).T\n",
    "pd.DataFrame(quantiles).to_csv('quantiles.csv')"
   ]
  },
  {
   "cell_type": "code",
   "execution_count": null,
   "metadata": {},
   "outputs": [],
   "source": []
  },
  {
   "cell_type": "code",
   "execution_count": null,
   "metadata": {},
   "outputs": [],
   "source": []
  },
  {
   "cell_type": "code",
   "execution_count": null,
   "metadata": {},
   "outputs": [],
   "source": []
  },
  {
   "cell_type": "code",
   "execution_count": null,
   "metadata": {},
   "outputs": [],
   "source": []
  },
  {
   "cell_type": "code",
   "execution_count": null,
   "metadata": {},
   "outputs": [],
   "source": []
  },
  {
   "cell_type": "code",
   "execution_count": null,
   "metadata": {},
   "outputs": [],
   "source": [
    "from scipy.stats import gaussian_kde\n",
    "from scipy.stats import entropy\n",
    "kl_divergences_gamma = []\n",
    "\n",
    "for idx in range(site):\n",
    "\n",
    "\n",
    "    \n",
    "    kde_func_unadjusted = gaussian_kde(gamma_baseline[:, idx], bw_method='scott')\n",
    "    kde_func_adjusted = gaussian_kde(gamma_hmc[:, idx], bw_method='scott')\n",
    "\n",
    "    common_grid = np.linspace(min(gamma_baseline[:, idx].min(), gamma_hmc[:, idx].min()), \n",
    "                            max(gamma_baseline[:, idx].max(), gamma_hmc[:, idx].max()), \n",
    "                            1000)\n",
    "    density_unadjusted = kde_func_unadjusted(common_grid)\n",
    "    density_adjusted = kde_func_adjusted(common_grid)\n",
    "    density_unadjusted += 1e-20\n",
    "    density_adjusted += 1e-20\n",
    "    \n",
    "    kl_div = entropy(density_unadjusted, density_adjusted)\n",
    "    print(f'Site {idx+1} KL Divergence: {kl_div}')\n",
    "\n",
    "    kl_divergences_gamma.append({'Site': idx+1, 'KL_Divergence': kl_div})\n",
    "\n",
    "kl_df_gamma = pd.DataFrame(kl_divergences_gamma)\n",
    "\n",
    "# Save the DataFrame to a CSV file\n",
    "kl_df_gamma.to_csv('kl_gamma.csv', index=False)"
   ]
  },
  {
   "cell_type": "code",
   "execution_count": null,
   "metadata": {},
   "outputs": [],
   "source": []
  },
  {
   "cell_type": "code",
   "execution_count": null,
   "metadata": {},
   "outputs": [],
   "source": []
  },
  {
   "cell_type": "code",
   "execution_count": null,
   "metadata": {},
   "outputs": [],
   "source": []
  },
  {
   "cell_type": "code",
   "execution_count": null,
   "metadata": {},
   "outputs": [],
   "source": []
  },
  {
   "cell_type": "code",
   "execution_count": null,
   "metadata": {},
   "outputs": [],
   "source": []
  },
  {
   "cell_type": "code",
   "execution_count": null,
   "metadata": {},
   "outputs": [],
   "source": []
  },
  {
   "cell_type": "code",
   "execution_count": null,
   "metadata": {},
   "outputs": [],
   "source": []
  },
  {
   "cell_type": "code",
   "execution_count": null,
   "metadata": {},
   "outputs": [],
   "source": [
    "# z_hmc=results_adjusted['sol_val_Z_tracker'][-1][:,:50]\n",
    "# df_ori = pd.read_csv(\"hmc_78SitesModel.csv\")\n",
    "\n",
    "# ## Sum the z dot and add it to the z_2017\n",
    "# site_z_0 = df_ori.iloc[:, 1].to_numpy()\n",
    "# site_z_0_reshaped = site_z_0.reshape(site, 1)\n",
    "# site_z_bar=df_ori.iloc[:,2].to_numpy()\n",
    "# cumulative_hmc_z = (np.cumsum(z_hmc, axis=1)+site_z_0_reshaped/1e9)\n",
    "\n",
    "# ## load deterministic z solved\n",
    "\n",
    "# z_det=results_adjusted['sol_val_Z_tracker'][0][:,:50]\n",
    "# cumulative_det_z = (np.cumsum(z_det, axis=1)+site_z_0_reshaped/1e9)\n",
    "\n",
    "# ## add t=0 for hmc solution\n",
    "# cumulative_hmc_z = np.hstack((site_z_0_reshaped/1e9, cumulative_hmc_z))\n",
    "# cumulative_det_z = np.hstack((site_z_0_reshaped/1e9, cumulative_det_z))\n",
    "\n"
   ]
  },
  {
   "cell_type": "code",
   "execution_count": null,
   "metadata": {},
   "outputs": [],
   "source": [
    "# percentage_z_hmc=np.sum(cumulative_hmc_z,axis=0)/(np.sum(site_z_bar)/1e9)*100\n",
    "# percentage_z_det=np.sum(cumulative_det_z,axis=0)/(np.sum(site_z_bar)/1e9)*100\n",
    "# time = np.arange(1, 51)  \n",
    "\n",
    "\n",
    "# fig, axes = plt.subplots(1, 1, figsize = (10,8))\n",
    "\n",
    "# plt.plot(time, percentage_z_det[:50], label=\"no_uncertainty-78site\")\n",
    "# plt.plot(time, percentage_z_hmc[:50], label=r'$\\xi$=1-78site')\n",
    "\n",
    "\n",
    "\n",
    "# plt.xlabel('Time period')\n",
    "# plt.ylabel('Z(%)')\n",
    "# plt.title('Aggregate percentage Z over 50 years')\n",
    "# plt.grid(False)\n",
    "\n",
    "# # Display the legend\n",
    "# plt.legend()\n",
    "# pdf_pages.savefig(fig)\n",
    "# plt.show()"
   ]
  },
  {
   "cell_type": "code",
   "execution_count": null,
   "metadata": {},
   "outputs": [],
   "source": [
    "# import geopandas as gpd\n",
    "# import os\n",
    "# import matplotlib.pyplot as plt\n",
    "# from shapely.geometry import Polygon\n",
    "# clean_amazonBiome = gpd.read_file('map.geojson')\n",
    "# id=gpd.read_file(\"id_78.geojson\").to_crs(epsg=4326)\n",
    "# id_hmc = id.copy()\n",
    "# id_det = id.copy()"
   ]
  },
  {
   "cell_type": "code",
   "execution_count": null,
   "metadata": {},
   "outputs": [],
   "source": [
    "# positions_hmc = []\n",
    "\n",
    "# for i in range(cumulative_hmc_z.shape[0]):\n",
    "#     series = cumulative_hmc_z[i, :50]\n",
    "#     for j in range(1, len(series)):\n",
    "#         if series[j] < series[j-1] - (0.05 * series[j-1]):\n",
    "\n",
    "#             positions_hmc.append((j))\n",
    "#             break  # exit the inner loop once the first position is found for this `i`\n",
    "\n",
    "# positions_det = []\n",
    "\n",
    "# for i in range(cumulative_det_z.shape[0]):\n",
    "#     series = cumulative_det_z[i, :50]\n",
    "#     for j in range(1, len(series)):\n",
    "#         if series[j] < series[j-1] - (0.05 * series[j-1]):\n",
    "\n",
    "#             positions_det.append((j))\n",
    "#             break  # exit the inner loop once the first position is found for this `i`\n",
    "# id_hmc['id']=positions_hmc\n",
    "# id_det['id']=positions_det"
   ]
  },
  {
   "cell_type": "code",
   "execution_count": null,
   "metadata": {},
   "outputs": [],
   "source": [
    "# import matplotlib.pyplot as plt\n",
    "# import matplotlib.gridspec as gridspec\n",
    "\n",
    "# # Set up the figure and the gridspec\n",
    "# fig = plt.figure(figsize=(12, 6))  # you can adjust the figsize to your needs\n",
    "# gs = gridspec.GridSpec(1, 2, width_ratios=[1, 1])  # assuming both plots are of the same width\n",
    "\n",
    "# # First plot (HMC)\n",
    "# ax0 = fig.add_subplot(gs[0])\n",
    "\n",
    "# # Base layer\n",
    "# id_hmc.boundary.plot(edgecolor='black', facecolor='none', linewidth=0.5, ax=ax0)\n",
    "\n",
    "# # Amazon Biome overlay\n",
    "# clean_amazonBiome.boundary.plot(color=\"darkgreen\", linewidth=1.2, ax=ax0)\n",
    "\n",
    "# for x, y, label in zip(id_hmc.geometry.centroid.x, id_hmc.geometry.centroid.y, id_hmc['id']):\n",
    "#     ax0.text(x, y, str(label), fontsize=14, ha='center', va='center', fontweight='bold')\n",
    "\n",
    "# ax0.axis('off')  # turn off the axis\n",
    "# ax0.set_title('HMC', fontsize=16)  # Title for the first plot\n",
    "\n",
    "# # Second plot (DET)\n",
    "# ax1 = fig.add_subplot(gs[1])\n",
    "# id_det['id'] = positions_det\n",
    "\n",
    "# # Base layer\n",
    "# id_det.boundary.plot(edgecolor='black', facecolor='none', linewidth=0.5, ax=ax1)\n",
    "\n",
    "# # Amazon Biome overlay\n",
    "# clean_amazonBiome.boundary.plot(color=\"darkgreen\", linewidth=1.2, ax=ax1)\n",
    "\n",
    "# for x, y, label in zip(id_det.geometry.centroid.x, id_det.geometry.centroid.y, id_det['id']):\n",
    "#     ax1.text(x, y, str(label), fontsize=14, ha='center', va='center', fontweight='bold')\n",
    "\n",
    "# ax1.axis('off')  # turn off the axis\n",
    "# ax1.set_title('DET', fontsize=16)  # Title for the second plot\n",
    "\n",
    "# plt.tight_layout()\n",
    "# pdf_pages.savefig(fig)\n",
    "# plt.show()"
   ]
  },
  {
   "cell_type": "code",
   "execution_count": null,
   "metadata": {},
   "outputs": [],
   "source": [
    "# pdf_pages.close()"
   ]
  },
  {
   "cell_type": "code",
   "execution_count": null,
   "metadata": {},
   "outputs": [],
   "source": []
  }
 ],
 "metadata": {
  "kernelspec": {
   "display_name": "Python (hmc)",
   "language": "python",
   "name": "hmc"
  },
  "language_info": {
   "codemirror_mode": {
    "name": "ipython",
    "version": 3
   },
   "file_extension": ".py",
   "mimetype": "text/x-python",
   "name": "python",
   "nbconvert_exporter": "python",
   "pygments_lexer": "ipython3",
   "version": "3.9.19"
  }
 },
 "nbformat": 4,
 "nbformat_minor": 2
}
