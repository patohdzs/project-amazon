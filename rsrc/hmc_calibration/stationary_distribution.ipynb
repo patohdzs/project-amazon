{
 "cells": [
  {
   "cell_type": "code",
   "execution_count": 5,
   "metadata": {},
   "outputs": [
    {
     "name": "stdout",
     "output_type": "stream",
     "text": [
      "transition_matrix [[0.98275862 0.01724138]\n",
      " [0.01257862 0.98742138]]\n"
     ]
    }
   ],
   "source": [
    "import numpy as np\n",
    "transition_matrix = np.array([[0.98275862,0.01724138],\n",
    "                              [0.01257862,0.98742138]])\n",
    "print(\"transition_matrix\",transition_matrix)"
   ]
  },
  {
   "cell_type": "code",
   "execution_count": 6,
   "metadata": {},
   "outputs": [
    {
     "name": "stdout",
     "output_type": "stream",
     "text": [
      "stationary_distrib [0.42181824 0.57818176]\n"
     ]
    }
   ],
   "source": [
    "eigenvals, eigenvects = np.linalg.eig(transition_matrix.T)\n",
    "close_to_1_idx = np.isclose(eigenvals,1)\n",
    "target_eigenvect = eigenvects[:,close_to_1_idx]\n",
    "target_eigenvect = target_eigenvect[:,0]\n",
    "stationary_distrib = target_eigenvect / sum(target_eigenvect)\n",
    "print(\"stationary_distrib\",stationary_distrib)"
   ]
  },
  {
   "cell_type": "code",
   "execution_count": 8,
   "metadata": {},
   "outputs": [
    {
     "name": "stdout",
     "output_type": "stream",
     "text": [
      "stationary_price 41.945249193319924\n"
     ]
    }
   ],
   "source": [
    "stationary_price=38.0888*stationary_distrib[0]+44.75876*stationary_distrib[1]\n",
    "print(\"stationary_price\",stationary_price)"
   ]
  },
  {
   "cell_type": "code",
   "execution_count": null,
   "metadata": {},
   "outputs": [],
   "source": []
  }
 ],
 "metadata": {
  "kernelspec": {
   "display_name": "base",
   "language": "python",
   "name": "python3"
  },
  "language_info": {
   "codemirror_mode": {
    "name": "ipython",
    "version": 3
   },
   "file_extension": ".py",
   "mimetype": "text/x-python",
   "name": "python",
   "nbconvert_exporter": "python",
   "pygments_lexer": "ipython3",
   "version": "3.10.9"
  },
  "orig_nbformat": 4
 },
 "nbformat": 4,
 "nbformat_minor": 2
}
