{
 "cells": [
  {
   "cell_type": "code",
   "execution_count": null,
   "metadata": {},
   "outputs": [],
   "source": [
    "import pandas as pd\n",
    "import numpy as np\n",
    "import geopandas as gpd\n",
    "from scipy.stats import invgamma, norm,gamma\n",
    "import matplotlib.pyplot as plt\n",
    "import seaborn as sns"
   ]
  },
  {
   "cell_type": "code",
   "execution_count": null,
   "metadata": {},
   "outputs": [],
   "source": [
    "beta_samples_prior=pd.read_csv(\"prior_beta_samples.csv\").to_numpy()[-200000:,:]\n",
    "V_samples_prior=pd.read_csv(\"prior_V_samples.csv\").to_numpy()[-200000:,:]"
   ]
  },
  {
   "cell_type": "code",
   "execution_count": null,
   "metadata": {},
   "outputs": [],
   "source": [
    "import pickle\n",
    "result_dir = \"/project/lhansen/HMC_re/project-amazon/output/sampling/gams/78sites/pa_41.11/xi_100000/pe_22.1\"\n",
    "with open(result_dir + \"/results.pcl\", \"rb\") as f:\n",
    "    para_test = pickle.load(f)\n",
    "gamma_hmc = para_test[\"final_sample_coe\"][:, 8:]  \n",
    "V_samples_hmc=para_test[\"V_sample\"][:,:]  "
   ]
  },
  {
   "cell_type": "code",
   "execution_count": null,
   "metadata": {},
   "outputs": [],
   "source": [
    "\n",
    "# Plotting the results\n",
    "\n",
    "for i in range(6):\n",
    "    plt.figure(figsize=(12, 6))\n",
    "    sns.kdeplot(gamma_hmc[:, i], label='hmc baseline', color='blue', fill=True, alpha=0.6,linewidth=4) \n",
    "    sns.kdeplot(beta_samples_prior[:, i], label='gibbs sampling', color='red', fill=True, alpha=0.6,linewidth=4)  \n",
    "    plt.title(r'Compare gibbs sampling posterior with hmc baseline, $\\beta_'+str(i+1)+'$')\n",
    "    plt.legend()\n",
    "    plt.savefig('results/test/beta'+str(i+1)+'.png')\n",
    "    plt.show()\n",
    "\n",
    "  \n"
   ]
  },
  {
   "cell_type": "code",
   "execution_count": null,
   "metadata": {},
   "outputs": [],
   "source": [
    "for i in range(78):\n",
    "    plt.figure(figsize=(12, 6))\n",
    "    sns.kdeplot(V_samples_hmc[:, i], label='hmc baseline', color='blue', fill=True, alpha=0.6,linewidth=4) \n",
    "    sns.kdeplot(V_samples_prior[:, i], label='gibbs sampling', color='red', fill=True, alpha=0.6,linewidth=4)  \n",
    "    plt.title(r'Compare gibbs sampling posterior with hmc baseline, $Vj_'+str(i+1)+'$')\n",
    "    plt.legend()\n",
    "    plt.savefig('results/test/V'+str(i+1)+'.png')\n",
    "    plt.show()"
   ]
  },
  {
   "cell_type": "code",
   "execution_count": null,
   "metadata": {},
   "outputs": [],
   "source": []
  },
  {
   "cell_type": "code",
   "execution_count": null,
   "metadata": {},
   "outputs": [],
   "source": []
  },
  {
   "cell_type": "code",
   "execution_count": null,
   "metadata": {},
   "outputs": [],
   "source": []
  },
  {
   "cell_type": "code",
   "execution_count": null,
   "metadata": {},
   "outputs": [],
   "source": []
  },
  {
   "cell_type": "code",
   "execution_count": null,
   "metadata": {},
   "outputs": [],
   "source": []
  },
  {
   "cell_type": "code",
   "execution_count": null,
   "metadata": {},
   "outputs": [],
   "source": []
  },
  {
   "cell_type": "code",
   "execution_count": null,
   "metadata": {},
   "outputs": [],
   "source": [
    "## compare baseline and xi=1\n",
    "\n",
    "\n",
    "result_xi1 = \"/project/lhansen/HMC_re/project-amazon/output/sampling/gams/78sites/pa_41.11/xi_1/pe_22.1\"\n",
    "result_xi2 = \"/project/lhansen/HMC_re/project-amazon/output/sampling/gams/78sites/pa_41.11/xi_2/pe_22.1\"\n",
    "result_baseline = \"/project/lhansen/HMC_re/project-amazon/output/sampling/gams/78sites/pa_41.11/xi_100001/pe_22.1\"\n",
    "with open(result_xi1 + \"/results.pcl\", \"rb\") as f:\n",
    "    sample = pickle.load(f)\n",
    "gamma_xi1 = sample[\"final_sample\"][:, 78:]  \n",
    "beta_xi1 = sample[\"final_sample_coe\"][:,8:]\n",
    "V_xi1   = sample[\"V_sample\"][:,:]\n",
    "with open(result_xi2 + \"/results.pcl\", \"rb\") as f:\n",
    "    sample = pickle.load(f)\n",
    "gamma_xi2 = sample[\"final_sample\"][:, 78:]  \n",
    "beta_xi2 = sample[\"final_sample_coe\"][:,8:]\n",
    "V_xi2   = sample[\"V_sample\"][:,:]\n",
    "with open(result_baseline + \"/results.pcl\", \"rb\") as f:\n",
    "    sample = pickle.load(f)\n",
    "gamma_baseline = sample[\"final_sample\"][:, 78:]  \n",
    "beta_baseline = sample[\"final_sample_coe\"][:,8:]\n",
    "V_baseline   = sample[\"V_sample\"][:,:]"
   ]
  },
  {
   "cell_type": "code",
   "execution_count": null,
   "metadata": {},
   "outputs": [],
   "source": [
    "for i in range(78):\n",
    "    plt.figure(figsize=(12, 6))\n",
    "    sns.kdeplot(gamma_xi1[:, i], label=r'$\\xi=1', color='red', fill=True, alpha=0.6,linewidth=4) \n",
    "    sns.kdeplot(gamma_xi2[:, i], label=r'$\\xi=2', color='blue', fill=True, alpha=0.6,linewidth=4)  \n",
    "    sns.kdeplot(gamma_baseline[:, i], label='baseline', color='black', fill=False, alpha=0.6,linewidth=4)  \n",
    "    plt.title(r'Density of $\\gamma_'+str(i+1)+'$')\n",
    "    plt.legend()\n",
    "    plt.savefig('results/compare/gamma'+str(i+1)+'.png')\n",
    "    plt.show()\n"
   ]
  },
  {
   "cell_type": "code",
   "execution_count": null,
   "metadata": {},
   "outputs": [],
   "source": []
  },
  {
   "cell_type": "code",
   "execution_count": null,
   "metadata": {},
   "outputs": [],
   "source": [
    "for i in range(6):\n",
    "    plt.figure(figsize=(12, 6))\n",
    "    sns.kdeplot(beta_xi1[:, i], label=r'$\\xi=1', color='red', fill=True, alpha=0.6,linewidth=4) \n",
    "    sns.kdeplot(beta_xi2[:, i], label=r'$\\xi=2', color='blue', fill=True, alpha=0.6,linewidth=4)  \n",
    "    sns.kdeplot(beta_baseline[:, i], label='baseline', color='black', fill=False, alpha=0.6,linewidth=4)  \n",
    "    plt.title(r'Density of $\\beta_'+str(i+1)+'$')\n",
    "    plt.legend()\n",
    "    plt.savefig('results/compare/beta'+str(i+1)+'.png')\n",
    "    plt.show()\n"
   ]
  },
  {
   "cell_type": "code",
   "execution_count": null,
   "metadata": {},
   "outputs": [],
   "source": [
    "for i in range(78):\n",
    "    plt.figure(figsize=(12, 6))\n",
    "    sns.kdeplot(V_xi1[:, i], label=r'$\\xi=1', color='red', fill=True, alpha=0.6,linewidth=4) \n",
    "    sns.kdeplot(V_xi2[:, i], label=r'$\\xi=2', color='blue', fill=True, alpha=0.6,linewidth=4)  \n",
    "    sns.kdeplot(V_baseline[:, i], label='baseline', color='black', fill=False, alpha=0.6,linewidth=4)  \n",
    "    plt.title(r'Density of $V_'+str(i+1)+'$')\n",
    "    plt.legend()\n",
    "    plt.savefig('results/compare/V'+str(i+1)+'.png')\n",
    "    plt.show()\n"
   ]
  },
  {
   "cell_type": "code",
   "execution_count": null,
   "metadata": {},
   "outputs": [],
   "source": []
  },
  {
   "cell_type": "code",
   "execution_count": null,
   "metadata": {},
   "outputs": [],
   "source": []
  },
  {
   "cell_type": "code",
   "execution_count": null,
   "metadata": {},
   "outputs": [],
   "source": []
  },
  {
   "cell_type": "code",
   "execution_count": null,
   "metadata": {},
   "outputs": [],
   "source": [
    "## compare baseline and xi=1\n",
    "\n",
    "\n",
    "result_xi1 = \"/project/lhansen/HMC_re/project-amazon/output/sampling/gams/78sites/pa_41.11/xi_1/pe_7.1\"\n",
    "result_xi2 = \"/project/lhansen/HMC_re/project-amazon/output/sampling/gams/78sites/pa_41.11/xi_1/pe_22.1\"\n",
    "result_baseline = \"/project/lhansen/HMC_re/project-amazon/output/sampling/gams/78sites/pa_41.11/xi_100001/pe_22.1\"\n",
    "with open(result_xi1 + \"/results.pcl\", \"rb\") as f:\n",
    "    sample = pickle.load(f)\n",
    "gamma_xi1 = sample[\"final_sample\"][:, 78:]  \n",
    "beta_xi1 = sample[\"final_sample_coe\"][:,8:]\n",
    "V_xi1   = sample[\"V_sample\"][:,:]\n",
    "with open(result_xi2 + \"/results.pcl\", \"rb\") as f:\n",
    "    sample = pickle.load(f)\n",
    "gamma_xi2 = sample[\"final_sample\"][:, 78:]  \n",
    "beta_xi2 = sample[\"final_sample_coe\"][:,8:]\n",
    "V_xi2   = sample[\"V_sample\"][:,:]\n",
    "with open(result_baseline + \"/results.pcl\", \"rb\") as f:\n",
    "    sample = pickle.load(f)\n",
    "gamma_baseline = sample[\"final_sample\"][:, 78:]  \n",
    "beta_baseline = sample[\"final_sample_coe\"][:,8:]\n",
    "V_baseline   = sample[\"V_sample\"][:,:]"
   ]
  },
  {
   "cell_type": "code",
   "execution_count": null,
   "metadata": {},
   "outputs": [],
   "source": [
    "for i in range(78):\n",
    "    plt.figure(figsize=(12, 6))\n",
    "    sns.kdeplot(gamma_xi1[:, i], label='b=0', color='red', fill=True, alpha=0.6,linewidth=4) \n",
    "    sns.kdeplot(gamma_xi2[:, i], label='b=15', color='blue', fill=True, alpha=0.6,linewidth=4)  \n",
    "    sns.kdeplot(gamma_baseline[:, i], label='baseline', color='black', fill=False, alpha=0.6,linewidth=4)  \n",
    "    plt.title(r'Density of $\\gamma_'+str(i+1)+'$')\n",
    "    plt.legend()\n",
    "    # plt.savefig('results/compare/gamma'+str(i+1)+'.png')\n",
    "    plt.show()\n"
   ]
  },
  {
   "cell_type": "code",
   "execution_count": null,
   "metadata": {},
   "outputs": [],
   "source": []
  }
 ],
 "metadata": {
  "kernelspec": {
   "display_name": "Python (hmc)",
   "language": "python",
   "name": "hmc"
  },
  "language_info": {
   "codemirror_mode": {
    "name": "ipython",
    "version": 3
   },
   "file_extension": ".py",
   "mimetype": "text/x-python",
   "name": "python",
   "nbconvert_exporter": "python",
   "pygments_lexer": "ipython3",
   "version": "3.9.19"
  }
 },
 "nbformat": 4,
 "nbformat_minor": 2
}
