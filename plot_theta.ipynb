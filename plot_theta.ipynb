{
 "cells": [
  {
   "cell_type": "code",
   "execution_count": 1,
   "metadata": {},
   "outputs": [],
   "source": [
    "import pandas as pd\n",
    "from pysrc.sampling import theta_adj_reg_data\n",
    "import numpy as np\n",
    "import geopandas as gpd\n",
    "import matplotlib.pyplot as plt\n",
    "import seaborn as sns\n",
    "\n",
    "theta_values_iid=pd.read_csv(\"theta.csv\").to_numpy().T\n",
    "theta_iid=pd.read_csv(\"beta_theta.csv\").to_numpy()\n",
    "V_samples=pd.read_csv(\"theta_prior_V_samples.csv\").to_numpy()[-50000:,:]\n",
    "beta_samples=pd.read_csv(\"theta_prior_beta_samples.csv\").to_numpy()[-50000:,:]\n",
    "eta_samples=pd.read_csv(\"theta_prior_eta_samples.csv\").to_numpy()[-50000:]\n",
    "nu_samples=pd.read_csv(\"theta_prior_nu_samples.csv\").to_numpy()[-50000:]"
   ]
  },
  {
   "cell_type": "code",
   "execution_count": null,
   "metadata": {},
   "outputs": [],
   "source": [
    "mean_pa_2017=44.97362\n",
    "theta_fit_df_78= gpd.read_file(\"/project/lhansen/HMC_re/project-amazon/data/calibration/hmc/theta_fit_78.geojson\")\n",
    "X_fit = theta_adj_reg_data(78,theta_fit_df_78)['X_theta']\n",
    "weights = theta_adj_reg_data(78,theta_fit_df_78)['G_theta']\n",
    "fit_ids = theta_fit_df_78[\"group_id\"].values -1   # Column 8 as site_ids\n",
    "fit_ids = fit_ids.astype(int)\n",
    "site_theta= np.exp(X_fit @ beta_samples.T + V_samples[:, fit_ids].T)\n",
    "theta_78 = weights@site_theta/mean_pa_2017\n",
    "theta_78"
   ]
  },
  {
   "cell_type": "code",
   "execution_count": null,
   "metadata": {},
   "outputs": [],
   "source": []
  },
  {
   "cell_type": "code",
   "execution_count": null,
   "metadata": {},
   "outputs": [],
   "source": []
  },
  {
   "cell_type": "code",
   "execution_count": null,
   "metadata": {},
   "outputs": [],
   "source": []
  },
  {
   "cell_type": "code",
   "execution_count": null,
   "metadata": {},
   "outputs": [],
   "source": [
    "\n",
    "\n",
    "list=['intercept','latitude','latitude^2','temperature','temperature^2','precipitation','distance','farm gate price']\n",
    "\n",
    "for i in range(8):\n",
    "    plt.figure(figsize=(12, 6))\n",
    "    sns.kdeplot(theta_iid[:, i], label='iid', color='blue', fill=True, alpha=0.6,linewidth=4) \n",
    "    sns.kdeplot(beta_samples[:, i], label='random effect', color='red', fill=True, alpha=0.6,linewidth=4)  \n",
    "    plt.title(f'{list[i]}')\n",
    "    plt.legend()\n",
    "    plt.savefig('results/theta/beta'+str(i+1)+'.png')\n",
    "    plt.show()"
   ]
  },
  {
   "cell_type": "code",
   "execution_count": null,
   "metadata": {},
   "outputs": [],
   "source": []
  },
  {
   "cell_type": "code",
   "execution_count": null,
   "metadata": {},
   "outputs": [],
   "source": [
    "# Plotting the results\n",
    "plt.figure(figsize=(12, 6))\n",
    "plt.subplot(1, 2, 1)\n",
    "plt.hist(eta_samples, bins=100, density=True, alpha=0.75)\n",
    "plt.title(r'Posterior of $\\eta$')\n",
    "plt.subplot(1, 2, 2)\n",
    "plt.hist(nu_samples, bins=100, density=True, alpha=0.75)\n",
    "plt.title(r'Posterior of $\\nu$')\n",
    "plt.tight_layout()\n",
    "plt.savefig('results/theta/precision.png')\n",
    "plt.show()"
   ]
  },
  {
   "cell_type": "code",
   "execution_count": null,
   "metadata": {},
   "outputs": [],
   "source": []
  },
  {
   "cell_type": "code",
   "execution_count": null,
   "metadata": {},
   "outputs": [],
   "source": []
  },
  {
   "cell_type": "code",
   "execution_count": null,
   "metadata": {},
   "outputs": [],
   "source": [
    "for i in range(62):\n",
    "    plt.figure(figsize=(12, 6))\n",
    "    sns.kdeplot(V_samples[:, i], label='random effect', color='blue', fill=True, alpha=0.6,linewidth=4) \n",
    "    plt.title(r'$V_{'+str(i+1)+'}$')\n",
    "    plt.legend()\n",
    "    plt.savefig('results/theta/V'+str(i+1)+'.png')\n",
    "    plt.close()"
   ]
  },
  {
   "cell_type": "code",
   "execution_count": null,
   "metadata": {},
   "outputs": [],
   "source": []
  },
  {
   "cell_type": "code",
   "execution_count": null,
   "metadata": {},
   "outputs": [],
   "source": []
  },
  {
   "cell_type": "code",
   "execution_count": null,
   "metadata": {},
   "outputs": [],
   "source": []
  },
  {
   "cell_type": "code",
   "execution_count": null,
   "metadata": {},
   "outputs": [],
   "source": [
    "from numpy import percentile\n",
    "\n",
    "for i in range(78):\n",
    "    \n",
    "    lower_re, upper_re = np.percentile(theta_78[i, :], [0.5, 99.5])\n",
    "    theta_re_filtered = theta_78[i, (theta_78[i, :] >= lower_re) & (theta_78[i, :] <= upper_re)]\n",
    "\n",
    "    plt.figure(figsize=(12, 6))\n",
    "    sns.kdeplot(theta_values_iid[i, :], label='iid', color='blue', fill=True, alpha=0.6,linewidth=4) \n",
    "    sns.kdeplot(theta_re_filtered, label='random effect', color='red', fill=True, alpha=0.6,linewidth=4)  \n",
    "    plt.title(r'$\\theta_{'+str(i+1)+'}$')\n",
    "    plt.legend()\n",
    "    plt.savefig('results/theta/theta'+str(i+1)+'.png')\n",
    "    plt.show()"
   ]
  },
  {
   "cell_type": "code",
   "execution_count": null,
   "metadata": {},
   "outputs": [],
   "source": []
  },
  {
   "cell_type": "code",
   "execution_count": null,
   "metadata": {},
   "outputs": [],
   "source": []
  },
  {
   "cell_type": "code",
   "execution_count": null,
   "metadata": {},
   "outputs": [],
   "source": []
  },
  {
   "cell_type": "code",
   "execution_count": 3,
   "metadata": {},
   "outputs": [],
   "source": [
    "from numpy import percentile\n",
    "\n",
    "for i in range(78):\n",
    "    \n",
    "    lower_re, upper_re = np.percentile(theta_78[i, :], [0.5, 99.5])\n",
    "    theta_re_filtered = theta_78[i, (theta_78[i, :] >= lower_re) & (theta_78[i, :] <= upper_re)]\n",
    "\n",
    "    plt.figure(figsize=(12, 6))\n",
    "    # sns.kdeplot(theta_values_iid[i, :], label='iid', color='blue', fill=True, alpha=0.6,linewidth=4) \n",
    "    sns.kdeplot(theta_re_filtered, label='random effect', color='red', fill=True, alpha=0.6,linewidth=4)  \n",
    "    plt.title(r'$\\theta_{'+str(i+1)+'}$')\n",
    "    plt.legend()\n",
    "    plt.show()"
   ]
  },
  {
   "cell_type": "code",
   "execution_count": null,
   "metadata": {},
   "outputs": [],
   "source": []
  }
 ],
 "metadata": {
  "kernelspec": {
   "display_name": "Python (hmc)",
   "language": "python",
   "name": "hmc"
  },
  "language_info": {
   "codemirror_mode": {
    "name": "ipython",
    "version": 3
   },
   "file_extension": ".py",
   "mimetype": "text/x-python",
   "name": "python",
   "nbconvert_exporter": "python",
   "pygments_lexer": "ipython3",
   "version": "3.9.19"
  }
 },
 "nbformat": 4,
 "nbformat_minor": 2
}
